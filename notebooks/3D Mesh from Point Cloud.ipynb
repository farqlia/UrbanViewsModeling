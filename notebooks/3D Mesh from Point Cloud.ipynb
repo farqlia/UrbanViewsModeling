{
 "cells": [
  {
   "cell_type": "code",
   "id": "initial_id",
   "metadata": {
    "collapsed": true,
    "ExecuteTime": {
     "end_time": "2024-09-01T08:58:48.233226Z",
     "start_time": "2024-09-01T08:58:47.057429Z"
    }
   },
   "source": [
    "import numpy as np\n",
    "import open3d as o3d"
   ],
   "outputs": [
    {
     "name": "stdout",
     "output_type": "stream",
     "text": [
      "Jupyter environment detected. Enabling Open3D WebVisualizer.\n",
      "[Open3D INFO] WebRTC GUI backend enabled.\n",
      "[Open3D INFO] WebRTCWindowSystem: HTTP handshake server disabled.\n"
     ]
    }
   ],
   "execution_count": 1
  },
  {
   "metadata": {
    "ExecuteTime": {
     "end_time": "2024-09-01T09:58:22.691757Z",
     "start_time": "2024-09-01T09:58:22.671185Z"
    }
   },
   "cell_type": "code",
   "source": [
    "input_path = '../data'\n",
    "output_path = '../output'\n",
    "dataname = f\"{input_path}/south-building/processed_sparse.ply\"\n",
    "pcd = o3d.io.read_point_cloud(dataname)"
   ],
   "id": "913d4fda341a0e52",
   "outputs": [],
   "execution_count": 87
  },
  {
   "metadata": {},
   "cell_type": "raw",
   "source": [
    "{\n",
    "\t\"class_name\" : \"ViewTrajectory\",\n",
    "\t\"interval\" : 29,\n",
    "\t\"is_loop\" : false,\n",
    "\t\"trajectory\" : \n",
    "\t[\n",
    "\t\t{\n",
    "\t\t\t\"boundingbox_max\" : [ 5.4689134774998189, 3.0463744066373946, 10.073596025638725 ],\n",
    "\t\t\t\"boundingbox_min\" : [ -8.7344942869349964, -4.8376533128602857, -7.7496037233541948 ],\n",
    "\t\t\t\"field_of_view\" : 60.0,\n",
    "\t\t\t\"front\" : [ -0.20840498240751903, -0.35440523720933897, -0.91157242781158865 ],\n",
    "\t\t\t\"lookat\" : [ 0.14971626040172237, 0.67829902545490228, 1.6413716637270543 ],\n",
    "\t\t\t\"up\" : [ 0.12429800846355013, -0.93407746196284847, 0.33473765868966493 ],\n",
    "\t\t\t\"zoom\" : 0.21999999999999997\n",
    "\t\t}\n",
    "\t],\n",
    "\t\"version_major\" : 1,\n",
    "\t\"version_minor\" : 0\n",
    "}"
   ],
   "id": "b5d7b8c1c8a4369",
   "outputs": null,
   "execution_count": null
  },
  {
   "metadata": {
    "ExecuteTime": {
     "end_time": "2024-09-01T09:58:26.480356Z",
     "start_time": "2024-09-01T09:58:26.467259Z"
    }
   },
   "cell_type": "code",
   "source": [
    "front = [ -0.20840498240751903, -0.35440523720933897, -0.91157242781158865 ]\n",
    "lookat = [ 0.14971626040172237, 0.67829902545490228, 1.6413716637270543 ]\n",
    "up = [ 0.12429800846355013, -0.93407746196284847, 0.33473765868966493 ]\n",
    "zoom = 0.21999999999999997"
   ],
   "id": "78b092f31308840b",
   "outputs": [],
   "execution_count": 88
  },
  {
   "metadata": {
    "ExecuteTime": {
     "end_time": "2024-09-01T09:58:27.275053Z",
     "start_time": "2024-09-01T09:58:27.253672Z"
    }
   },
   "cell_type": "code",
   "source": "pcd.has_normals()",
   "id": "c5d6c65f28becbbd",
   "outputs": [
    {
     "data": {
      "text/plain": [
       "True"
      ]
     },
     "execution_count": 89,
     "metadata": {},
     "output_type": "execute_result"
    }
   ],
   "execution_count": 89
  },
  {
   "metadata": {
    "ExecuteTime": {
     "end_time": "2024-09-01T09:58:31.169398Z",
     "start_time": "2024-09-01T09:58:28.428366Z"
    }
   },
   "cell_type": "code",
   "source": "o3d.visualization.draw_geometries([pcd], zoom=zoom, front=front, lookat=lookat, up=up)",
   "id": "dcaff495d0e0638",
   "outputs": [],
   "execution_count": 90
  },
  {
   "metadata": {},
   "cell_type": "markdown",
   "source": "### Ball Pivoting Algorithm",
   "id": "132fe200b568f1f"
  },
  {
   "metadata": {
    "ExecuteTime": {
     "end_time": "2024-09-01T09:59:41.449157Z",
     "start_time": "2024-09-01T09:59:41.416051Z"
    }
   },
   "cell_type": "code",
   "source": [
    "distances = pcd.compute_nearest_neighbor_distance()\n",
    "avg_dist = np.mean(distances)\n",
    "radius = 7 * avg_dist"
   ],
   "id": "9e3fb52affa12544",
   "outputs": [],
   "execution_count": 99
  },
  {
   "metadata": {
    "ExecuteTime": {
     "end_time": "2024-09-01T09:58:33.384140Z",
     "start_time": "2024-09-01T09:58:33.373419Z"
    }
   },
   "cell_type": "code",
   "source": "radius",
   "id": "437a7050e36a8517",
   "outputs": [
    {
     "data": {
      "text/plain": [
       "0.06532734188509356"
      ]
     },
     "execution_count": 92,
     "metadata": {},
     "output_type": "execute_result"
    }
   ],
   "execution_count": 92
  },
  {
   "metadata": {
    "ExecuteTime": {
     "end_time": "2024-09-01T09:58:34.745696Z",
     "start_time": "2024-09-01T09:58:34.737640Z"
    }
   },
   "cell_type": "code",
   "source": "distances[:10] # distance for each point",
   "id": "f9e7299df3376ee9",
   "outputs": [
    {
     "data": {
      "text/plain": [
       "DoubleVector[0.00520294, 0.0360043, 0.0639401, 0.00261841, 0.00924112, 0.0192439, 0.00311007, 0.012448, 0.000242819, 0.019581]"
      ]
     },
     "execution_count": 93,
     "metadata": {},
     "output_type": "execute_result"
    }
   ],
   "execution_count": 93
  },
  {
   "metadata": {
    "ExecuteTime": {
     "end_time": "2024-09-01T10:06:35.148314Z",
     "start_time": "2024-09-01T10:02:33.833007Z"
    }
   },
   "cell_type": "code",
   "source": "bpa_mesh = o3d.geometry.TriangleMesh.create_from_point_cloud_ball_pivoting(pcd, o3d.utility.DoubleVector([radius, radius * 2]))",
   "id": "1e6e33a37d03c613",
   "outputs": [],
   "execution_count": 101
  },
  {
   "metadata": {
    "ExecuteTime": {
     "end_time": "2024-09-01T10:06:57.013577Z",
     "start_time": "2024-09-01T10:06:54.897453Z"
    }
   },
   "cell_type": "code",
   "source": "o3d.visualization.draw_geometries([bpa_mesh], zoom=zoom, front=front, lookat=lookat, up=up, window_name='BPA Mesh')",
   "id": "dddce43940bdc794",
   "outputs": [],
   "execution_count": 103
  },
  {
   "metadata": {
    "ExecuteTime": {
     "end_time": "2024-09-01T09:28:46.099652Z",
     "start_time": "2024-09-01T09:28:46.081296Z"
    }
   },
   "cell_type": "code",
   "source": "dec_mesh = bpa_mesh.simplify_quadric_decimation(100000)",
   "id": "69814417586bf54c",
   "outputs": [],
   "execution_count": 44
  },
  {
   "metadata": {
    "ExecuteTime": {
     "end_time": "2024-09-01T09:28:50.273017Z",
     "start_time": "2024-09-01T09:28:47.556623Z"
    }
   },
   "cell_type": "code",
   "source": "o3d.visualization.draw_geometries([dec_mesh], zoom=zoom, front=front, lookat=lookat, up=up, window_name='BPA Mesh')",
   "id": "360d3527e60dd994",
   "outputs": [],
   "execution_count": 45
  },
  {
   "metadata": {},
   "cell_type": "markdown",
   "source": "#### Optional Post-Processing",
   "id": "5496a966b538e530"
  },
  {
   "metadata": {
    "ExecuteTime": {
     "end_time": "2024-09-01T09:28:52.703211Z",
     "start_time": "2024-09-01T09:28:52.692505Z"
    }
   },
   "cell_type": "code",
   "source": [
    "dec_mesh.remove_degenerate_triangles()\n",
    "dec_mesh.remove_duplicated_triangles()\n",
    "dec_mesh.remove_duplicated_vertices()\n",
    "dec_mesh.remove_non_manifold_edges()"
   ],
   "id": "3c1387f6c92f0369",
   "outputs": [
    {
     "data": {
      "text/plain": [
       "TriangleMesh with 11261 points and 6382 triangles."
      ]
     },
     "execution_count": 46,
     "metadata": {},
     "output_type": "execute_result"
    }
   ],
   "execution_count": 46
  },
  {
   "metadata": {
    "ExecuteTime": {
     "end_time": "2024-09-01T09:28:57.093167Z",
     "start_time": "2024-09-01T09:28:54.715652Z"
    }
   },
   "cell_type": "code",
   "source": "o3d.visualization.draw_geometries([dec_mesh], zoom=zoom, front=front, lookat=lookat, up=up, window_name='BPA Mesh Post Processed')",
   "id": "ac68180630fa94e3",
   "outputs": [],
   "execution_count": 47
  },
  {
   "metadata": {},
   "cell_type": "markdown",
   "source": [
    "### Poisson Reconstruction\n",
    "Depth and scale parameters"
   ],
   "id": "33938ee5f030d75d"
  },
  {
   "metadata": {
    "ExecuteTime": {
     "end_time": "2024-09-01T09:37:06.640352Z",
     "start_time": "2024-09-01T09:37:04.775099Z"
    }
   },
   "cell_type": "code",
   "source": "poisson_mesh = o3d.geometry.TriangleMesh.create_from_point_cloud_poisson(pcd, depth=12, width=0, scale=1.1, linear_fit=False)[0]",
   "id": "e83ae5da779e3f28",
   "outputs": [],
   "execution_count": 73
  },
  {
   "metadata": {
    "ExecuteTime": {
     "end_time": "2024-09-01T09:37:10.511109Z",
     "start_time": "2024-09-01T09:37:07.317407Z"
    }
   },
   "cell_type": "code",
   "source": "o3d.visualization.draw_geometries([poisson_mesh], zoom=zoom, front=front, lookat=lookat, up=up, window_name='Poisson Mesh')",
   "id": "e43c07cbc8abdb3",
   "outputs": [],
   "execution_count": 74
  },
  {
   "metadata": {
    "ExecuteTime": {
     "end_time": "2024-09-01T09:43:13.671655Z",
     "start_time": "2024-09-01T09:43:13.612312Z"
    }
   },
   "cell_type": "code",
   "source": [
    "bbox = pcd.get_axis_aligned_bounding_box()\n",
    "p_mesh_crop = poisson_mesh.crop(bbox)"
   ],
   "id": "a45e754bf4f3ad86",
   "outputs": [],
   "execution_count": 76
  },
  {
   "metadata": {
    "ExecuteTime": {
     "end_time": "2024-09-01T09:44:22.098935Z",
     "start_time": "2024-09-01T09:43:35.937116Z"
    }
   },
   "cell_type": "code",
   "source": "o3d.visualization.draw_geometries([p_mesh_crop], window_name='Poisson Mesh Cropped')",
   "id": "5f43618f3a4726d5",
   "outputs": [
    {
     "name": "stdout",
     "output_type": "stream",
     "text": [
      "[Open3D WARNING] GLFW Error: WGL: Failed to make context current: The handle is invalid. \n",
      "[Open3D INFO]   -- Mouse view control --\n",
      "[Open3D INFO]     Left button + drag         : Rotate.\n",
      "[Open3D INFO]     Ctrl + left button + drag  : Translate.\n",
      "[Open3D INFO]     Wheel button + drag        : Translate.\n",
      "[Open3D INFO]     Shift + left button + drag : Roll.\n",
      "[Open3D INFO]     Wheel                      : Zoom in/out.\n",
      "[Open3D INFO] \n",
      "[Open3D INFO]   -- Keyboard view control --\n",
      "[Open3D INFO]     [/]          : Increase/decrease field of view.\n",
      "[Open3D INFO]     R            : Reset view point.\n",
      "[Open3D INFO]     Ctrl/Cmd + C : Copy current view status into the clipboard.\n",
      "[Open3D INFO]     Ctrl/Cmd + V : Paste view status from clipboard.\n",
      "[Open3D INFO] \n",
      "[Open3D INFO]   -- General control --\n",
      "[Open3D INFO]     Q, Esc       : Exit window.\n",
      "[Open3D INFO]     H            : Print help message.\n",
      "[Open3D INFO]     P, PrtScn    : Take a screen capture.\n",
      "[Open3D INFO]     D            : Take a depth capture.\n",
      "[Open3D INFO]     O            : Take a capture of current rendering settings.\n",
      "[Open3D INFO]     Alt + Enter  : Toggle between full screen and windowed mode.\n",
      "[Open3D INFO] \n",
      "[Open3D INFO]   -- Render mode control --\n",
      "[Open3D INFO]     L            : Turn on/off lighting.\n",
      "[Open3D INFO]     +/-          : Increase/decrease point size.\n",
      "[Open3D INFO]     Ctrl + +/-   : Increase/decrease width of geometry::LineSet.\n",
      "[Open3D INFO]     N            : Turn on/off point cloud normal rendering.\n",
      "[Open3D INFO]     S            : Toggle between mesh flat shading and smooth shading.\n",
      "[Open3D INFO]     W            : Turn on/off mesh wireframe.\n",
      "[Open3D INFO]     B            : Turn on/off back face rendering.\n",
      "[Open3D INFO]     I            : Turn on/off image zoom in interpolation.\n",
      "[Open3D INFO]     T            : Toggle among image render:\n",
      "[Open3D INFO]                    no stretch / keep ratio / freely stretch.\n",
      "[Open3D INFO] \n",
      "[Open3D INFO]   -- Color control --\n",
      "[Open3D INFO]     0..4,9       : Set point cloud color option.\n",
      "[Open3D INFO]                    0 - Default behavior, render point color.\n",
      "[Open3D INFO]                    1 - Render point color.\n",
      "[Open3D INFO]                    2 - x coordinate as color.\n",
      "[Open3D INFO]                    3 - y coordinate as color.\n",
      "[Open3D INFO]                    4 - z coordinate as color.\n",
      "[Open3D INFO]                    9 - normal as color.\n",
      "[Open3D INFO]     Ctrl + 0..4,9: Set mesh color option.\n",
      "[Open3D INFO]                    0 - Default behavior, render uniform gray color.\n",
      "[Open3D INFO]                    1 - Render point color.\n",
      "[Open3D INFO]                    2 - x coordinate as color.\n",
      "[Open3D INFO]                    3 - y coordinate as color.\n",
      "[Open3D INFO]                    4 - z coordinate as color.\n",
      "[Open3D INFO]                    9 - normal as color.\n",
      "[Open3D INFO]     Shift + 0..4 : Color map options.\n",
      "[Open3D INFO]                    0 - Gray scale color.\n",
      "[Open3D INFO]                    1 - JET color map.\n",
      "[Open3D INFO]                    2 - SUMMER color map.\n",
      "[Open3D INFO]                    3 - WINTER color map.\n",
      "[Open3D INFO]                    4 - HOT color map.\n",
      "[Open3D INFO] \n"
     ]
    }
   ],
   "execution_count": 77
  },
  {
   "metadata": {},
   "cell_type": "markdown",
   "source": "#### LoD ",
   "id": "a92900a716883d13"
  },
  {
   "metadata": {
    "ExecuteTime": {
     "end_time": "2024-09-01T09:54:57.253292Z",
     "start_time": "2024-09-01T09:54:57.234041Z"
    }
   },
   "cell_type": "code",
   "source": [
    "def lod_mesh_export(mesh, lods, extension, path):\n",
    "    mesh_lods = {}\n",
    "    for i in lods:\n",
    "        mesh_lod = mesh.simplify_quadric_decimation(i)\n",
    "        o3d.io.write_triangle_mesh(f'{path}/lod_{i}{extension}', mesh_lod)\n",
    "        mesh_lods[i] = mesh_lod\n",
    "    return mesh_lods"
   ],
   "id": "d52a9f42294d646",
   "outputs": [],
   "execution_count": 81
  },
  {
   "metadata": {
    "ExecuteTime": {
     "end_time": "2024-09-01T09:54:58.534164Z",
     "start_time": "2024-09-01T09:54:58.447793Z"
    }
   },
   "cell_type": "code",
   "source": [
    "# large values: close look, small values: look from far away\n",
    "my_lods = lod_mesh_export(bpa_mesh, [100000, 50000, 10000, 1000, 100], '.ply', output_path)"
   ],
   "id": "2e72f972babfb207",
   "outputs": [],
   "execution_count": 82
  },
  {
   "metadata": {
    "ExecuteTime": {
     "end_time": "2024-09-01T09:55:22.658099Z",
     "start_time": "2024-09-01T09:55:22.643852Z"
    }
   },
   "cell_type": "code",
   "source": "my_lods",
   "id": "381617dc034bac3d",
   "outputs": [
    {
     "data": {
      "text/plain": [
       "{100000: TriangleMesh with 11721 points and 5840 triangles.,\n",
       " 50000: TriangleMesh with 11721 points and 5840 triangles.,\n",
       " 10000: TriangleMesh with 11721 points and 5840 triangles.,\n",
       " 1000: TriangleMesh with 7962 points and 1000 triangles.,\n",
       " 100: TriangleMesh with 7220 points and 100 triangles.}"
      ]
     },
     "execution_count": 84,
     "metadata": {},
     "output_type": "execute_result"
    }
   ],
   "execution_count": 84
  },
  {
   "metadata": {
    "ExecuteTime": {
     "end_time": "2024-09-01T09:55:53.644259Z",
     "start_time": "2024-09-01T09:55:47.822881Z"
    }
   },
   "cell_type": "code",
   "source": "o3d.visualization.draw_geometries([my_lods[100]], window_name='Poisson Mesh Cropped')",
   "id": "e677d8578cea6bd8",
   "outputs": [],
   "execution_count": 86
  }
 ],
 "metadata": {
  "kernelspec": {
   "display_name": "Python 3",
   "language": "python",
   "name": "python3"
  },
  "language_info": {
   "codemirror_mode": {
    "name": "ipython",
    "version": 2
   },
   "file_extension": ".py",
   "mimetype": "text/x-python",
   "name": "python",
   "nbconvert_exporter": "python",
   "pygments_lexer": "ipython2",
   "version": "2.7.6"
  }
 },
 "nbformat": 4,
 "nbformat_minor": 5
}
