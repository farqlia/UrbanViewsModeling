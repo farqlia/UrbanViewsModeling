{
 "cells": [
  {
   "cell_type": "code",
   "execution_count": 1,
   "id": "847ee7d40cbb6bce",
   "metadata": {
    "ExecuteTime": {
     "end_time": "2024-09-01T12:01:54.369477Z",
     "start_time": "2024-09-01T12:01:54.363896Z"
    }
   },
   "outputs": [],
   "source": [
    " %matplotlib notebook"
   ]
  },
  {
   "cell_type": "markdown",
   "id": "c9631647-5946-4ab1-bc63-7a4f3b8577df",
   "metadata": {},
   "source": [
    "### Setup"
   ]
  },
  {
   "cell_type": "code",
   "execution_count": 2,
   "id": "initial_id",
   "metadata": {
    "ExecuteTime": {
     "end_time": "2024-09-01T12:01:55.913979Z",
     "start_time": "2024-09-01T12:01:55.712656Z"
    }
   },
   "outputs": [],
   "source": [
    "import numpy as np \n",
    "import time \n",
    "\n",
    "from scipy.spatial import KDTree\n",
    "import pyvista as pv\n",
    "pv.set_jupyter_backend('trame')"
   ]
  },
  {
   "cell_type": "markdown",
   "id": "27818293-be6b-4249-94c7-bdfba457e721",
   "metadata": {},
   "source": [
    "### PyVista Capabilities"
   ]
  },
  {
   "cell_type": "code",
   "execution_count": 3,
   "id": "4d8e696e8c478f16",
   "metadata": {
    "ExecuteTime": {
     "end_time": "2024-09-01T12:06:31.514897Z",
     "start_time": "2024-09-01T12:06:31.211552Z"
    }
   },
   "outputs": [
    {
     "data": {
      "application/vnd.jupyter.widget-view+json": {
       "model_id": "6e3499934c914f0c973548925f3bbb64",
       "version_major": 2,
       "version_minor": 0
      },
      "text/plain": [
       "Widget(value='<iframe id=\"pyvista-jupyter_trame__template_P_0x1f24b6c0990_0\" src=\"http://localhost:8888/trame-…"
      ]
     },
     "metadata": {},
     "output_type": "display_data"
    }
   ],
   "source": [
    "pcd_pv = pv.read('../data/lidar_data/MLS_UTWENTE_super_sample.ply')\n",
    "\n",
    "pcd_pv.plot(eye_dome_lighting=True)"
   ]
  },
  {
   "cell_type": "code",
   "execution_count": 4,
   "id": "ee6690939401ffd",
   "metadata": {
    "ExecuteTime": {
     "end_time": "2024-09-01T12:06:49.962444Z",
     "start_time": "2024-09-01T12:06:49.954187Z"
    }
   },
   "outputs": [
    {
     "data": {
      "text/plain": [
       "pyvista_ndarray([[739.93, 206.51,  47.74],\n",
       "                 [749.5 , 144.79,  35.25],\n",
       "                 [743.63, 136.23,  35.24],\n",
       "                 ...,\n",
       "                 [767.65, 136.94,  43.3 ],\n",
       "                 [780.22, 121.43,  46.18],\n",
       "                 [752.51, 130.07,  35.25]], dtype=float32)"
      ]
     },
     "execution_count": 4,
     "metadata": {},
     "output_type": "execute_result"
    }
   ],
   "source": [
    "pcd_pv.points"
   ]
  },
  {
   "cell_type": "code",
   "execution_count": 5,
   "id": "900db86e7657683c",
   "metadata": {
    "ExecuteTime": {
     "end_time": "2024-09-01T12:08:21.005879Z",
     "start_time": "2024-09-01T12:08:20.814401Z"
    }
   },
   "outputs": [
    {
     "data": {
      "application/vnd.jupyter.widget-view+json": {
       "model_id": "edf01971761840fc838078f174dae478",
       "version_major": 2,
       "version_minor": 0
      },
      "text/plain": [
       "Widget(value='<iframe id=\"pyvista-jupyter_trame__template_P_0x1f26efb95d0_1\" src=\"http://localhost:8888/trame-…"
      ]
     },
     "metadata": {},
     "output_type": "display_data"
    }
   ],
   "source": [
    "pcd_pv['elevation'] = pcd_pv.points[:, 2] # store variable, must agree with number of points \n",
    "pv.plot(pcd_pv, scalars = pcd_pv['elevation'])"
   ]
  },
  {
   "cell_type": "code",
   "execution_count": 7,
   "id": "9e343b20-3603-4b50-8a93-b68050e63216",
   "metadata": {},
   "outputs": [
    {
     "data": {
      "application/vnd.jupyter.widget-view+json": {
       "model_id": "37f908e9295c4cbe88c0c52cdb751c5f",
       "version_major": 2,
       "version_minor": 0
      },
      "text/plain": [
       "Widget(value='<iframe id=\"pyvista-jupyter_trame__template_P_0x1f2054edc90_3\" src=\"http://localhost:8888/trame-…"
      ]
     },
     "metadata": {},
     "output_type": "display_data"
    }
   ],
   "source": [
    "pcd_pv['random'] = pcd_pv.points[:, 0] * pcd_pv.points[:, 1]\n",
    "pv.plot(pcd_pv, scalars = pcd_pv['random'], render_points_as_spheres=True, point_size=5, show_scalar_bar=False)"
   ]
  },
  {
   "cell_type": "markdown",
   "id": "58244f5b-8746-4d5f-953e-b92099d38efe",
   "metadata": {},
   "source": [
    "### Pre-processing\n",
    "KD-Tree is used to find the nearest neighbour of a point"
   ]
  },
  {
   "cell_type": "markdown",
   "id": "8649f8ed-556c-41e5-bc5f-325245c45be4",
   "metadata": {},
   "source": [
    "#### KD-Tree with PyVista (not time efficient)"
   ]
  },
  {
   "cell_type": "code",
   "execution_count": 8,
   "id": "88a3b979-aaab-49ac-8753-b8c06843af3f",
   "metadata": {},
   "outputs": [
    {
     "name": "stdout",
     "output_type": "stream",
     "text": [
      "[475457  83810 494104 129202   4976 194870 360960  18065 312244 141226\n",
      " 136522 381238 469938 113614 187953 244253 151554 483604 271765  97832]\n"
     ]
    }
   ],
   "source": [
    "temp = pcd_pv.find_closest_point((1, 1, 0), n = 20)\n",
    "print(temp)"
   ]
  },
  {
   "cell_type": "markdown",
   "id": "65c74b49-6ff3-4089-9902-5b123bcb0644",
   "metadata": {},
   "source": [
    "#### K-Nearest neighbor structure (SciPy)"
   ]
  },
  {
   "cell_type": "code",
   "execution_count": 9,
   "id": "44fedf83-31bc-46b9-9175-890e7bcb9a51",
   "metadata": {},
   "outputs": [],
   "source": [
    "tree = KDTree(pcd_pv.points)"
   ]
  },
  {
   "cell_type": "code",
   "execution_count": 10,
   "id": "04456cbc-658f-4de2-ae15-dd18a55ea32b",
   "metadata": {},
   "outputs": [],
   "source": [
    "dists, indices = tree.query(pcd_pv.points, k = 20)"
   ]
  },
  {
   "cell_type": "code",
   "execution_count": 11,
   "id": "156478c8-57c3-4d49-bdd8-5ef0bc202eb2",
   "metadata": {},
   "outputs": [
    {
     "data": {
      "text/plain": [
       "pyvista_ndarray([[[739.93, 206.51,  47.74],\n",
       "                  [740.36, 205.84,  48.65],\n",
       "                  [740.13, 205.37,  47.25],\n",
       "                  ...,\n",
       "                  [743.29, 208.41,  51.96],\n",
       "                  [745.22, 207.83,  49.84],\n",
       "                  [743.74, 204.89,  43.39]],\n",
       "\n",
       "                 [[749.5 , 144.79,  35.25],\n",
       "                  [749.53, 144.82,  35.27],\n",
       "                  [749.55, 144.76,  35.26],\n",
       "                  ...,\n",
       "                  [749.48, 144.69,  35.18],\n",
       "                  [749.49, 144.91,  35.28],\n",
       "                  [749.45, 144.91,  35.28]],\n",
       "\n",
       "                 [[743.63, 136.23,  35.24],\n",
       "                  [743.63, 136.26,  35.25],\n",
       "                  [743.56, 136.26,  35.25],\n",
       "                  ...,\n",
       "                  [743.48, 136.29,  35.24],\n",
       "                  [743.48, 136.16,  35.24],\n",
       "                  [743.75, 136.11,  35.25]],\n",
       "\n",
       "                 ...,\n",
       "\n",
       "                 [[767.65, 136.94,  43.3 ],\n",
       "                  [767.64, 136.78,  43.32],\n",
       "                  [767.6 , 136.78,  43.23],\n",
       "                  ...,\n",
       "                  [766.98, 137.14,  43.7 ],\n",
       "                  [767.49, 136.41,  43.91],\n",
       "                  [767.13, 137.58,  43.3 ]],\n",
       "\n",
       "                 [[780.22, 121.43,  46.18],\n",
       "                  [780.19, 121.55,  46.04],\n",
       "                  [780.42, 121.56,  46.18],\n",
       "                  ...,\n",
       "                  [780.47, 120.94,  45.92],\n",
       "                  [780.39, 121.28,  45.61],\n",
       "                  [780.32, 121.71,  45.64]],\n",
       "\n",
       "                 [[752.51, 130.07,  35.25],\n",
       "                  [752.49, 130.04,  35.24],\n",
       "                  [752.47, 130.1 ,  35.24],\n",
       "                  ...,\n",
       "                  [752.73, 129.86,  35.24],\n",
       "                  [752.24, 130.22,  35.24],\n",
       "                  [752.71, 129.8 ,  35.24]]], dtype=float32)"
      ]
     },
     "execution_count": 11,
     "metadata": {},
     "output_type": "execute_result"
    }
   ],
   "source": [
    "neighbours = pcd_pv.points[indices]\n",
    "neighbours # 20 neighbours for each of the points"
   ]
  },
  {
   "cell_type": "code",
   "execution_count": 12,
   "id": "f0288aa7-845d-4c8a-9e79-0b02e9ccaba7",
   "metadata": {},
   "outputs": [
    {
     "data": {
      "text/plain": [
       "500000"
      ]
     },
     "execution_count": 12,
     "metadata": {},
     "output_type": "execute_result"
    }
   ],
   "source": [
    "len(neighbours)"
   ]
  },
  {
   "cell_type": "markdown",
   "id": "202d88f0-5292-4495-82c2-82e8fed4cd47",
   "metadata": {},
   "source": [
    "Find all points within distance of r of points"
   ]
  },
  {
   "cell_type": "code",
   "execution_count": 13,
   "id": "8e9841c2-ee68-45de-8f21-fe8a58098f37",
   "metadata": {},
   "outputs": [],
   "source": [
    "idx_temp = tree.query_ball_point(pcd_pv.points[:10], 1)"
   ]
  },
  {
   "cell_type": "code",
   "execution_count": 22,
   "id": "2493c1b6-e91e-4ef1-b906-036784af1fcc",
   "metadata": {},
   "outputs": [
    {
     "data": {
      "text/plain": [
       "751"
      ]
     },
     "execution_count": 22,
     "metadata": {},
     "output_type": "execute_result"
    }
   ],
   "source": [
    "len(idx_temp[4])"
   ]
  },
  {
   "cell_type": "markdown",
   "id": "836f5fd7-23cf-4bd5-98e6-324480cc869f",
   "metadata": {},
   "source": [
    "### PCA "
   ]
  },
  {
   "cell_type": "code",
   "execution_count": 23,
   "id": "cdc65b71-8223-447a-982e-ba530796b09c",
   "metadata": {},
   "outputs": [],
   "source": [
    "X = pcd_pv.points"
   ]
  },
  {
   "cell_type": "code",
   "execution_count": 24,
   "id": "2d5624c9-0c27-45eb-919b-8b9f1b364836",
   "metadata": {},
   "outputs": [
    {
     "data": {
      "text/plain": [
       "pyvista_ndarray([759.67316 , 134.4555  ,  38.171036], dtype=float32)"
      ]
     },
     "execution_count": 24,
     "metadata": {},
     "output_type": "execute_result"
    }
   ],
   "source": [
    "X_mean = np.mean(X, axis=0)\n",
    "X_mean"
   ]
  },
  {
   "cell_type": "code",
   "execution_count": 25,
   "id": "6116931a-44bf-440a-b7ea-75973aaeee02",
   "metadata": {},
   "outputs": [],
   "source": [
    "centered_X = X - X_mean"
   ]
  },
  {
   "cell_type": "code",
   "execution_count": 26,
   "id": "54a21cc6-9c2e-40c7-a422-c1611d89f7fb",
   "metadata": {},
   "outputs": [],
   "source": [
    "cov_matrix = np.cov(centered_X, rowvar=False)"
   ]
  },
  {
   "cell_type": "code",
   "execution_count": 27,
   "id": "11cd1e50-a579-42f7-b009-59c6b5ed92f7",
   "metadata": {},
   "outputs": [],
   "source": [
    "eigen_values, eigen_vectors = np.linalg.eig(cov_matrix)"
   ]
  },
  {
   "cell_type": "code",
   "execution_count": 28,
   "id": "daa8501a-d24d-41ba-8696-56691ec5dc82",
   "metadata": {},
   "outputs": [
    {
     "data": {
      "text/plain": [
       "array([1505.06224494,   97.80809957,   24.68897396])"
      ]
     },
     "execution_count": 28,
     "metadata": {},
     "output_type": "execute_result"
    }
   ],
   "source": [
    "eigen_values"
   ]
  },
  {
   "cell_type": "code",
   "execution_count": 29,
   "id": "22e6d6ed-8eff-44be-b75f-a26219af2e75",
   "metadata": {},
   "outputs": [
    {
     "data": {
      "text/plain": [
       "array([[ 0.87099665, -0.48910043, -0.04632067],\n",
       "       [-0.49127086, -0.86789387, -0.07357422],\n",
       "       [ 0.00421624, -0.0868389 ,  0.99621345]])"
      ]
     },
     "execution_count": 29,
     "metadata": {},
     "output_type": "execute_result"
    }
   ],
   "source": [
    "eigen_vectors"
   ]
  },
  {
   "cell_type": "code",
   "execution_count": 30,
   "id": "24f9e9a2-baed-4650-b628-a941f43890bf",
   "metadata": {},
   "outputs": [
    {
     "data": {
      "text/plain": [
       "array([ 0.87099665, -0.49127086,  0.00421624])"
      ]
     },
     "execution_count": 30,
     "metadata": {},
     "output_type": "execute_result"
    }
   ],
   "source": [
    "eigen_vectors[:, 0] # eigen vector corresponding to the first eigen value"
   ]
  },
  {
   "cell_type": "code",
   "execution_count": 31,
   "id": "5d6374ce-52e8-4a21-8a60-5890b1f1d29e",
   "metadata": {},
   "outputs": [],
   "source": [
    "sorted_index = np.argsort(eigen_values)[::-1] # get indexes sorted by values \n",
    "sorted_eigenvalue = eigen_values[sorted_index]\n",
    "sorted_eigenvectors = eigen_vectors[:, sorted_index]"
   ]
  },
  {
   "cell_type": "markdown",
   "id": "c610bc37-a8a5-44f1-a8ce-da26274002a5",
   "metadata": {},
   "source": [
    "Note that this is computed for the whole point cloud which may not be the best approach. So we will try to run this for locally, using neighbours"
   ]
  },
  {
   "cell_type": "code",
   "execution_count": 32,
   "id": "ff7d8989-d8e2-432d-b038-b5df8a2c215a",
   "metadata": {},
   "outputs": [],
   "source": [
    "def PCA(cloud):\n",
    "    X_mean = np.mean(cloud, axis=0)\n",
    "    centered_X = cloud - X_mean\n",
    "    cov_matrix = np.cov(centered_X, rowvar=False)\n",
    "    eigen_values, eigen_vectors = np.linalg.eig(cov_matrix)\n",
    "    sorted_index = np.argsort(eigen_values)[::-1] # get indexes sorted by values \n",
    "    sorted_eigenvalue = eigen_values[sorted_index]\n",
    "    sorted_eigenvectors = eigen_vectors[:, sorted_index]\n",
    "    return sorted_eigenvalue, sorted_eigenvectors"
   ]
  },
  {
   "cell_type": "code",
   "execution_count": 33,
   "id": "cc429bed-6a02-4477-804f-eb9e2b1784ca",
   "metadata": {},
   "outputs": [
    {
     "data": {
      "text/plain": [
       "(array([0.00556246, 0.00346349, 0.00021667]),\n",
       " array([[ 0.11213581, -0.91545711, -0.38647618],\n",
       "        [ 0.84199885,  0.29407576, -0.4522802 ],\n",
       "        [ 0.5276964 , -0.27469569,  0.80379026]]))"
      ]
     },
     "execution_count": 33,
     "metadata": {},
     "output_type": "execute_result"
    }
   ],
   "source": [
    "sel = 1 \n",
    "PCA(neighbours[sel])"
   ]
  },
  {
   "cell_type": "markdown",
   "id": "4a99eacf-0350-4de7-af2a-becf960fd888",
   "metadata": {},
   "source": [
    "#### Knowledge Driven Custom Search"
   ]
  },
  {
   "cell_type": "code",
   "execution_count": 34,
   "id": "cd17c211-4756-416f-a819-4051fd92e99e",
   "metadata": {},
   "outputs": [],
   "source": [
    "tree_2D = KDTree(pcd_pv.points[:, 0:2])\n",
    "idx_2D_rad = tree_2D.query_ball_point(pcd_pv.points[:, 0:2], 1)"
   ]
  },
  {
   "cell_type": "code",
   "execution_count": 35,
   "id": "34bafda9-ec27-406a-8a4f-ec5875ed42a5",
   "metadata": {},
   "outputs": [],
   "source": [
    "selection = pcd_pv.points[idx_2D_rad[sel]]"
   ]
  },
  {
   "cell_type": "code",
   "execution_count": 36,
   "id": "ffb204fe-6bee-4790-95bf-f9daa315476f",
   "metadata": {},
   "outputs": [
    {
     "data": {
      "text/plain": [
       "pyvista_ndarray([[749.5 , 144.79,  35.25],\n",
       "                 [750.22, 144.71,  35.28],\n",
       "                 [749.51, 144.14,  35.21],\n",
       "                 ...,\n",
       "                 [749.33, 144.41,  35.2 ],\n",
       "                 [750.13, 144.34,  35.18],\n",
       "                 [750.01, 144.49,  35.27]], dtype=float32)"
      ]
     },
     "execution_count": 36,
     "metadata": {},
     "output_type": "execute_result"
    }
   ],
   "source": [
    "selection"
   ]
  },
  {
   "cell_type": "markdown",
   "id": "70610031-abd7-440f-88c4-8201c1990f15",
   "metadata": {},
   "source": [
    "Maximum and minimum height distance from the selected point"
   ]
  },
  {
   "cell_type": "code",
   "execution_count": 37,
   "id": "9516a04c-a1a5-4f34-b278-e5ac27e72543",
   "metadata": {},
   "outputs": [
    {
     "data": {
      "text/plain": [
       "np.float32(18.369999)"
      ]
     },
     "execution_count": 37,
     "metadata": {},
     "output_type": "execute_result"
    }
   ],
   "source": [
    "d_high = np.array(np.max(selection, axis=0) - pcd_pv.points[sel])[2]\n",
    "d_high"
   ]
  },
  {
   "cell_type": "code",
   "execution_count": 38,
   "id": "046047b6-cd93-416d-ac83-101cc4701eac",
   "metadata": {},
   "outputs": [
    {
     "data": {
      "text/plain": [
       "np.float32(-0.099998474)"
      ]
     },
     "execution_count": 38,
     "metadata": {},
     "output_type": "execute_result"
    }
   ],
   "source": [
    "d_low = np.array(np.min(selection, axis=0) - pcd_pv.points[sel])[2]\n",
    "d_low"
   ]
  }
 ],
 "metadata": {
  "kernelspec": {
   "display_name": "Python 3 (ipykernel)",
   "language": "python",
   "name": "python3"
  },
  "language_info": {
   "codemirror_mode": {
    "name": "ipython",
    "version": 3
   },
   "file_extension": ".py",
   "mimetype": "text/x-python",
   "name": "python",
   "nbconvert_exporter": "python",
   "pygments_lexer": "ipython3",
   "version": "3.11.9"
  }
 },
 "nbformat": 4,
 "nbformat_minor": 5
}
