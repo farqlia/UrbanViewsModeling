{
 "cells": [
  {
   "metadata": {
    "collapsed": true,
    "ExecuteTime": {
     "end_time": "2024-11-20T20:20:54.276994Z",
     "start_time": "2024-11-20T20:20:52.445336Z"
    }
   },
   "cell_type": "code",
   "source": [
    "import numpy as np \n",
    "import open3d as o3d \n",
    "import matplotlib.pyplot as plt\n",
    "from pathlib import Path"
   ],
   "id": "initial_id",
   "outputs": [
    {
     "name": "stdout",
     "output_type": "stream",
     "text": [
      "Jupyter environment detected. Enabling Open3D WebVisualizer.\n",
      "[Open3D INFO] WebRTC GUI backend enabled.\n",
      "[Open3D INFO] WebRTCWindowSystem: HTTP handshake server disabled.\n"
     ]
    }
   ],
   "execution_count": 1
  },
  {
   "metadata": {
    "ExecuteTime": {
     "end_time": "2024-11-20T20:20:55.115702Z",
     "start_time": "2024-11-20T20:20:55.101688Z"
    }
   },
   "cell_type": "code",
   "source": "o3d.core.cuda.is_available()",
   "id": "b62c16597b633cbe",
   "outputs": [
    {
     "data": {
      "text/plain": [
       "False"
      ]
     },
     "execution_count": 2,
     "metadata": {},
     "output_type": "execute_result"
    }
   ],
   "execution_count": 2
  },
  {
   "metadata": {
    "ExecuteTime": {
     "end_time": "2024-11-20T20:21:29.800219Z",
     "start_time": "2024-11-20T20:21:27.205432Z"
    }
   },
   "cell_type": "code",
   "source": [
    "data_name = Path('../data/c7_model.ply')\n",
    "pcd = o3d.io.read_point_cloud(str(data_name))"
   ],
   "id": "7ebb404d63005aed",
   "outputs": [],
   "execution_count": 7
  },
  {
   "metadata": {},
   "cell_type": "raw",
   "source": [
    "{\n",
    "\t\"class_name\" : \"ViewTrajectory\",\n",
    "\t\"interval\" : 29,\n",
    "\t\"is_loop\" : false,\n",
    "\t\"trajectory\" : \n",
    "\t[\n",
    "\t\t{\n",
    "\t\t\t\"boundingbox_max\" : [ 11.59264175279889, 10.619322147192204, 33.310158754520558 ],\n",
    "\t\t\t\"boundingbox_min\" : [ -23.133977967660094, -7.9989496805055493, -19.75315568334565 ],\n",
    "\t\t\t\"field_of_view\" : 60.0,\n",
    "\t\t\t\"front\" : [ -0.11383137417328129, -0.52838800964009403, -0.8413373458502853 ],\n",
    "\t\t\t\"lookat\" : [ -0.0839009317646284, -0.075120607621831828, 0.24466620489292801 ],\n",
    "\t\t\t\"up\" : [ 0.072004008076520493, -0.84900242887201671, 0.52345993026241544 ],\n",
    "\t\t\t\"zoom\" : 0.059999999999999998\n",
    "\t\t}\n",
    "\t],\n",
    "\t\"version_major\" : 1,\n",
    "\t\"version_minor\" : 0\n",
    "}"
   ],
   "id": "c2b9a3210b19bf2b",
   "outputs": null,
   "execution_count": null
  },
  {
   "metadata": {
    "ExecuteTime": {
     "end_time": "2024-11-20T20:22:10.749419Z",
     "start_time": "2024-11-20T20:21:58.013107Z"
    }
   },
   "cell_type": "code",
   "source": "o3d.visualization.draw_geometries([pcd])",
   "id": "d341cd3e64083f4",
   "outputs": [],
   "execution_count": 9
  },
  {
   "metadata": {
    "ExecuteTime": {
     "end_time": "2024-09-20T18:31:42.758622Z",
     "start_time": "2024-09-20T18:31:42.744302Z"
    }
   },
   "cell_type": "code",
   "source": [
    "front = [ -0.11383137417328129, -0.52838800964009403, -0.8413373458502853 ]\n",
    "lookat = [ -0.0839009317646284, -0.075120607621831828, 0.24466620489292801 ]\n",
    "up = [ 0.072004008076520493, -0.84900242887201671, 0.52345993026241544 ]\n",
    "zoom = 0.059999999999999998"
   ],
   "id": "3291b3be8eb2430d",
   "outputs": [],
   "execution_count": 4
  },
  {
   "metadata": {
    "ExecuteTime": {
     "start_time": "2024-09-20T18:31:42.775598Z"
    }
   },
   "cell_type": "code",
   "source": [
    "pcd_center = pcd.get_center()\n",
    "print(pcd_center)\n",
    "pcd.translate(-pcd_center)"
   ],
   "id": "381201a01241e52",
   "outputs": [],
   "execution_count": null
  },
  {
   "metadata": {
    "ExecuteTime": {
     "end_time": "2024-11-20T20:21:33.637066Z",
     "start_time": "2024-11-20T20:21:33.614149Z"
    }
   },
   "cell_type": "code",
   "source": "print(pcd.get_center())",
   "id": "a4342842c56c880c",
   "outputs": [
    {
     "name": "stdout",
     "output_type": "stream",
     "text": [
      "[ 0.22391153 -0.2763004  -0.02596835]\n"
     ]
    }
   ],
   "execution_count": 8
  },
  {
   "metadata": {},
   "cell_type": "markdown",
   "source": "### Statistical outlier filter",
   "id": "98706fef3f979b93"
  },
  {
   "metadata": {
    "ExecuteTime": {
     "end_time": "2024-09-20T18:31:57.465074600Z",
     "start_time": "2024-09-01T09:27:13.302848Z"
    }
   },
   "cell_type": "code",
   "source": [
    "nn = 16 # nearest neighbours \n",
    "std_multiplier = 10 # it is is above that, it is considered outlier\n",
    "\n",
    "filtered_pcd = pcd.remove_statistical_outlier(nn, std_multiplier)"
   ],
   "id": "1e631dfafed8ec08",
   "outputs": [],
   "execution_count": 113
  },
  {
   "metadata": {
    "ExecuteTime": {
     "end_time": "2024-09-20T18:31:57.466579500Z",
     "start_time": "2024-09-01T09:27:14.584973Z"
    }
   },
   "cell_type": "code",
   "source": "outliers = pcd.select_by_index(filtered_pcd[1], invert=True)",
   "id": "3df3f0d7b3c57471",
   "outputs": [],
   "execution_count": 114
  },
  {
   "metadata": {
    "ExecuteTime": {
     "end_time": "2024-09-20T18:31:57.466579500Z",
     "start_time": "2024-09-01T09:27:15.297098Z"
    }
   },
   "cell_type": "code",
   "source": [
    "outliers.paint_uniform_color([0,1,0])\n",
    "pcd_ww_outliers = filtered_pcd[0]\n",
    "\n",
    "o3d.visualization.draw_geometries([pcd_ww_outliers, outliers], zoom=zoom, front=front, lookat=lookat, up=up)"
   ],
   "id": "9c5b2e346ad1ef6f",
   "outputs": [],
   "execution_count": 115
  },
  {
   "metadata": {},
   "cell_type": "markdown",
   "source": "### Voxel downsampling",
   "id": "7b2f1287a11babb9"
  },
  {
   "metadata": {
    "ExecuteTime": {
     "end_time": "2024-09-01T09:26:34.814335Z",
     "start_time": "2024-09-01T09:26:29.343346Z"
    }
   },
   "cell_type": "code",
   "source": [
    "voxel_size = 0.01 # 10 cm \n",
    "\n",
    "pcd_downsampled = pcd_ww_outliers.voxel_down_sample(voxel_size)\n",
    "o3d.visualization.draw_geometries([pcd_downsampled], zoom=zoom, front=front, lookat=lookat, up=up)"
   ],
   "id": "4b9f3ffb0342bb71",
   "outputs": [],
   "execution_count": 105
  },
  {
   "metadata": {},
   "cell_type": "markdown",
   "source": "### Estimating normals",
   "id": "7fce0ac0a65639ba"
  },
  {
   "metadata": {
    "ExecuteTime": {
     "end_time": "2024-09-01T09:27:26.868991Z",
     "start_time": "2024-09-01T09:27:26.857863Z"
    }
   },
   "cell_type": "code",
   "source": [
    "nn_distance = np.mean(pcd.compute_nearest_neighbor_distance())\n",
    "nn_distance"
   ],
   "id": "8765c4bf7fbe60a9",
   "outputs": [
    {
     "data": {
      "text/plain": [
       "0.02887541381235434"
      ]
     },
     "execution_count": 116,
     "metadata": {},
     "output_type": "execute_result"
    }
   ],
   "execution_count": 116
  },
  {
   "metadata": {
    "ExecuteTime": {
     "end_time": "2024-09-01T09:27:32.617319Z",
     "start_time": "2024-09-01T09:27:32.602205Z"
    }
   },
   "cell_type": "code",
   "source": [
    "radius_normals = nn_distance * 4 \n",
    "pcd_downsampled.estimate_normals(search_param = o3d.geometry.KDTreeSearchParamHybrid(radius = radius_normals, max_nn = nn), fast_normal_computation=True)"
   ],
   "id": "9049032d5919144e",
   "outputs": [],
   "execution_count": 117
  },
  {
   "metadata": {
    "ExecuteTime": {
     "end_time": "2024-09-01T09:26:59.214287Z",
     "start_time": "2024-09-01T09:26:53.389346Z"
    }
   },
   "cell_type": "code",
   "source": [
    "pcd_downsampled.paint_uniform_color([0.6, 0.6, 0.6])\n",
    "o3d.visualization.draw_geometries([pcd_downsampled, outliers], zoom=zoom, front=front, lookat=lookat, up=up)"
   ],
   "id": "3607b3f6c6e07d72",
   "outputs": [],
   "execution_count": 108
  },
  {
   "metadata": {
    "ExecuteTime": {
     "end_time": "2024-09-01T09:27:04.225199Z",
     "start_time": "2024-09-01T09:27:01.919471Z"
    }
   },
   "cell_type": "code",
   "source": [
    "pcd = pcd_downsampled\n",
    "o3d.visualization.draw_geometries([pcd], zoom=zoom, front=front, lookat=lookat, up=up)"
   ],
   "id": "5a288f43517a43ff",
   "outputs": [],
   "execution_count": 109
  },
  {
   "metadata": {
    "ExecuteTime": {
     "end_time": "2024-09-01T09:27:39.811726Z",
     "start_time": "2024-09-01T09:27:39.803413Z"
    }
   },
   "cell_type": "code",
   "source": "o3d.io.write_point_cloud(str(input_path / 'processed_sparse.ply'), pcd)",
   "id": "b48d8e7a22c816f",
   "outputs": [
    {
     "data": {
      "text/plain": [
       "True"
      ]
     },
     "execution_count": 118,
     "metadata": {},
     "output_type": "execute_result"
    }
   ],
   "execution_count": 118
  },
  {
   "metadata": {},
   "cell_type": "markdown",
   "source": "### RANSAC Planar Segmentation",
   "id": "d328746008d093cc"
  },
  {
   "metadata": {
    "ExecuteTime": {
     "end_time": "2024-09-01T08:50:17.893156Z",
     "start_time": "2024-09-01T08:39:45.222717Z"
    }
   },
   "cell_type": "code",
   "source": [
    "pt_to_plane_dist = 0.02 # how far it should be maximally to be considered inlier \n",
    "\n",
    "plane_model, inliers = pcd.segment_plane(distance_threshold=pt_to_plane_dist, ransac_n=3, num_iterations=1000)\n",
    "[a, b, c, d] = plane_model\n",
    "\n",
    "inlier_cloud = pcd.select_by_index(inliers)\n",
    "outlier_cloud = pcd.select_by_index(inliers, invert=True)\n",
    "inlier_cloud.paint_uniform_color([0,1,0])\n",
    "outlier_cloud.paint_uniform_color([0.6, 0.6, 0.6])\n",
    "\n",
    "o3d.visualization.draw_geometries([inlier_cloud, outlier_cloud], zoom=zoom, front=front, lookat=lookat, up=up)"
   ],
   "id": "7cad20897acb66bd",
   "outputs": [
    {
     "name": "stdout",
     "output_type": "stream",
     "text": [
      "[Open3D WARNING] GLFW Error: WGL: Failed to make context current: The requested transformation operation is not supported. \n",
      "[Open3D WARNING] GLFW Error: WGL: Failed to make context current: The requested transformation operation is not supported. \n"
     ]
    }
   ],
   "execution_count": 78
  },
  {
   "metadata": {},
   "cell_type": "markdown",
   "source": "### Multi-Order RANSAC",
   "id": "afa814a4ed7e0a7b"
  },
  {
   "metadata": {
    "ExecuteTime": {
     "end_time": "2024-09-01T08:50:21.404225Z",
     "start_time": "2024-09-01T08:50:21.321725Z"
    }
   },
   "cell_type": "code",
   "source": [
    "max_plane_idx = 6\n",
    "pt_to_plane_dist = 0.02 \n",
    "\n",
    "segment_models = {}\n",
    "segments = {}\n",
    "rest = pcd\n",
    "\n",
    "for i in range(max_plane_idx):\n",
    "    colors = plt.get_cmap('tab20')(i)\n",
    "    segment_models[i], inliers = rest.segment_plane(distance_threshold=pt_to_plane_dist, ransac_n=3, num_iterations=1000)   \n",
    "    segments[i] = rest.select_by_index(inliers)\n",
    "    segments[i].paint_uniform_color(list(colors[:3]))\n",
    "    rest = rest.select_by_index(inliers, invert=True)\n",
    "    print(f\"pass {i} / {max_plane_idx} done.\")"
   ],
   "id": "a8ad7b162805390d",
   "outputs": [
    {
     "name": "stdout",
     "output_type": "stream",
     "text": [
      "pass 0 / 6 done.\n",
      "pass 1 / 6 done.\n",
      "pass 2 / 6 done.\n",
      "pass 3 / 6 done.\n",
      "pass 4 / 6 done.\n",
      "pass 5 / 6 done.\n"
     ]
    }
   ],
   "execution_count": 80
  },
  {
   "metadata": {
    "ExecuteTime": {
     "end_time": "2024-09-01T08:50:56.637107Z",
     "start_time": "2024-09-01T08:50:31.625502Z"
    }
   },
   "cell_type": "code",
   "source": [
    "o3d.visualization.draw_geometries([segments[i] for i in range(max_plane_idx)] + [rest], \n",
    "                                  zoom=zoom, front=front, lookat=lookat, up=up)"
   ],
   "id": "1439281ff8eb2f2e",
   "outputs": [
    {
     "name": "stdout",
     "output_type": "stream",
     "text": [
      "[Open3D WARNING] GLFW Error: WGL: Failed to make context current: The requested transformation operation is not supported. \n",
      "[Open3D WARNING] GLFW Error: WGL: Failed to make context current: The handle is invalid. \n"
     ]
    }
   ],
   "execution_count": 81
  },
  {
   "metadata": {},
   "cell_type": "markdown",
   "source": [
    "### Euclidean Clustering Refine\n",
    "Use remaining points to cluster them. "
   ],
   "id": "171c174cc04bd390"
  },
  {
   "metadata": {
    "ExecuteTime": {
     "end_time": "2024-09-01T08:50:58.830315Z",
     "start_time": "2024-09-01T08:50:58.802651Z"
    }
   },
   "cell_type": "code",
   "source": [
    "labels = np.array(rest.cluster_dbscan(eps=0.05, min_points=5))\n",
    "max_label = labels.max()\n",
    "print(f\"point cloud has {max_label + 1} labels\")"
   ],
   "id": "f6c152c4280a0ec",
   "outputs": [
    {
     "name": "stdout",
     "output_type": "stream",
     "text": [
      "point cloud has 311 labels\n"
     ]
    }
   ],
   "execution_count": 82
  },
  {
   "metadata": {
    "ExecuteTime": {
     "end_time": "2024-09-01T08:51:02.767686Z",
     "start_time": "2024-09-01T08:51:02.753697Z"
    }
   },
   "cell_type": "code",
   "source": [
    "colors = plt.get_cmap('tab20')(labels / min(max_label, 1))\n",
    "colors[labels < 0] = 0\n",
    "rest.colors = o3d.utility.Vector3dVector(colors[:, :3])"
   ],
   "id": "1d3bcd1ec71f19a5",
   "outputs": [],
   "execution_count": 83
  },
  {
   "metadata": {
    "ExecuteTime": {
     "end_time": "2024-09-01T08:51:48.733300Z",
     "start_time": "2024-09-01T08:51:03.618475Z"
    }
   },
   "cell_type": "code",
   "source": [
    "o3d.visualization.draw_geometries([segments[i] for i in range(max_plane_idx)] + [rest], \n",
    "                                  zoom=zoom, front=front, lookat=lookat, up=up)"
   ],
   "id": "fcdf21312fea5fbe",
   "outputs": [
    {
     "name": "stdout",
     "output_type": "stream",
     "text": [
      "[Open3D WARNING] GLFW Error: WGL: Failed to make context current: The requested transformation operation is not supported. \n",
      "[Open3D WARNING] GLFW Error: WGL: Failed to make context current: The requested transformation operation is not supported. \n"
     ]
    }
   ],
   "execution_count": 84
  }
 ],
 "metadata": {
  "kernelspec": {
   "display_name": "Python 3",
   "language": "python",
   "name": "python3"
  },
  "language_info": {
   "codemirror_mode": {
    "name": "ipython",
    "version": 2
   },
   "file_extension": ".py",
   "mimetype": "text/x-python",
   "name": "python",
   "nbconvert_exporter": "python",
   "pygments_lexer": "ipython2",
   "version": "2.7.6"
  }
 },
 "nbformat": 4,
 "nbformat_minor": 5
}
