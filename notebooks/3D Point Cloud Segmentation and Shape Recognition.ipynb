{
 "cells": [
  {
   "cell_type": "code",
   "id": "initial_id",
   "metadata": {
    "collapsed": true,
    "ExecuteTime": {
     "end_time": "2024-08-30T14:53:32.606299Z",
     "start_time": "2024-08-30T14:53:30.870593Z"
    }
   },
   "source": [
    "import numpy as np \n",
    "import open3d as o3d \n",
    "import matplotlib.pyplot as plt\n",
    "from pathlib import Path\n",
    "\n",
    "from numpy.ma.core import min_filler"
   ],
   "outputs": [
    {
     "name": "stdout",
     "output_type": "stream",
     "text": [
      "Jupyter environment detected. Enabling Open3D WebVisualizer.\n",
      "[Open3D INFO] WebRTC GUI backend enabled.\n",
      "[Open3D INFO] WebRTCWindowSystem: HTTP handshake server disabled.\n"
     ]
    }
   ],
   "execution_count": 1
  },
  {
   "metadata": {
    "ExecuteTime": {
     "end_time": "2024-08-30T14:54:22.204698Z",
     "start_time": "2024-08-30T14:54:21.538828Z"
    }
   },
   "cell_type": "code",
   "source": [
    "data_name = Path('../data/tutorial/appartment_cloud.ply')\n",
    "pcd = o3d.io.read_point_cloud(str(data_name))"
   ],
   "id": "7ebb404d63005aed",
   "outputs": [],
   "execution_count": 2
  },
  {
   "metadata": {
    "ExecuteTime": {
     "end_time": "2024-08-30T14:54:23.657631Z",
     "start_time": "2024-08-30T14:54:23.638811Z"
    }
   },
   "cell_type": "code",
   "source": [
    "pcd_center = pcd.get_center()\n",
    "print(pcd_center)\n",
    "pcd.translate(-pcd_center)"
   ],
   "id": "381201a01241e52",
   "outputs": [
    {
     "name": "stdout",
     "output_type": "stream",
     "text": [
      "[-6.60738023  2.74615613 -0.24302214]\n"
     ]
    },
    {
     "data": {
      "text/plain": [
       "PointCloud with 1430779 points."
      ]
     },
     "execution_count": 3,
     "metadata": {},
     "output_type": "execute_result"
    }
   ],
   "execution_count": 3
  },
  {
   "metadata": {
    "ExecuteTime": {
     "end_time": "2024-08-30T14:54:30.237809Z",
     "start_time": "2024-08-30T14:54:30.233155Z"
    }
   },
   "cell_type": "code",
   "source": "o3d.core.cuda.is_available()",
   "id": "b62c16597b633cbe",
   "outputs": [
    {
     "data": {
      "text/plain": [
       "False"
      ]
     },
     "execution_count": 4,
     "metadata": {},
     "output_type": "execute_result"
    }
   ],
   "execution_count": 4
  },
  {
   "metadata": {
    "ExecuteTime": {
     "end_time": "2024-08-30T14:54:31.211863Z",
     "start_time": "2024-08-30T14:54:31.202862Z"
    }
   },
   "cell_type": "code",
   "source": "print(pcd.get_center())",
   "id": "a4342842c56c880c",
   "outputs": [
    {
     "name": "stdout",
     "output_type": "stream",
     "text": [
      "[ 1.53784121e-13  5.12532177e-14 -3.44614299e-13]\n"
     ]
    }
   ],
   "execution_count": 5
  },
  {
   "metadata": {},
   "cell_type": "markdown",
   "source": "### Statistical outlier filter",
   "id": "98706fef3f979b93"
  },
  {
   "metadata": {
    "ExecuteTime": {
     "end_time": "2024-08-30T15:17:47.205202Z",
     "start_time": "2024-08-30T15:17:46.207755Z"
    }
   },
   "cell_type": "code",
   "source": [
    "nn = 16 # nearest neighbours \n",
    "std_multiplier = 10 # it is is above that, it is considered outlier\n",
    "\n",
    "filtered_pcd = pcd.remove_statistical_outlier(nn, std_multiplier)"
   ],
   "id": "1e631dfafed8ec08",
   "outputs": [],
   "execution_count": 14
  },
  {
   "metadata": {
    "ExecuteTime": {
     "end_time": "2024-08-30T15:17:48.156616Z",
     "start_time": "2024-08-30T15:17:48.127089Z"
    }
   },
   "cell_type": "code",
   "source": "outliers = pcd.select_by_index(filtered_pcd[1], invert=True)",
   "id": "3df3f0d7b3c57471",
   "outputs": [],
   "execution_count": 15
  },
  {
   "metadata": {
    "ExecuteTime": {
     "end_time": "2024-08-30T15:20:42.627626Z",
     "start_time": "2024-08-30T15:20:31.111159Z"
    }
   },
   "cell_type": "code",
   "source": [
    "outliers.paint_uniform_color([0,1,0])\n",
    "pcd_ww_outliers = filtered_pcd[0]\n",
    "\n",
    "o3d.visualization.draw_geometries([pcd_ww_outliers, outliers])"
   ],
   "id": "9c5b2e346ad1ef6f",
   "outputs": [],
   "execution_count": 17
  },
  {
   "metadata": {},
   "cell_type": "markdown",
   "source": "### Voxel downsampling",
   "id": "7b2f1287a11babb9"
  },
  {
   "metadata": {
    "ExecuteTime": {
     "end_time": "2024-08-30T15:22:34.415556Z",
     "start_time": "2024-08-30T15:22:31.461908Z"
    }
   },
   "cell_type": "code",
   "source": [
    "voxel_size = 0.01 # 10 cm \n",
    "\n",
    "pcd_downsampled = pcd_ww_outliers.voxel_down_sample(voxel_size)\n",
    "o3d.visualization.draw_geometries([pcd_downsampled])"
   ],
   "id": "4b9f3ffb0342bb71",
   "outputs": [],
   "execution_count": 21
  },
  {
   "metadata": {},
   "cell_type": "markdown",
   "source": "### Estimating normals",
   "id": "7fce0ac0a65639ba"
  },
  {
   "metadata": {
    "ExecuteTime": {
     "end_time": "2024-08-30T15:24:07.075744Z",
     "start_time": "2024-08-30T15:24:06.410065Z"
    }
   },
   "cell_type": "code",
   "source": [
    "nn_distance = np.mean(pcd.compute_nearest_neighbor_distance())\n",
    "nn_distance"
   ],
   "id": "8765c4bf7fbe60a9",
   "outputs": [
    {
     "data": {
      "text/plain": [
       "0.0051852883612620694"
      ]
     },
     "execution_count": 23,
     "metadata": {},
     "output_type": "execute_result"
    }
   ],
   "execution_count": 23
  },
  {
   "metadata": {
    "ExecuteTime": {
     "end_time": "2024-08-30T15:25:46.673046Z",
     "start_time": "2024-08-30T15:25:46.081324Z"
    }
   },
   "cell_type": "code",
   "source": [
    "radius_normals = nn_distance * 4 \n",
    "pcd_downsampled.estimate_normals(search_param = o3d.geometry.KDTreeSearchParamHybrid(radius = radius_normals, max_nn = nn), fast_normal_computation=True)"
   ],
   "id": "9049032d5919144e",
   "outputs": [],
   "execution_count": 24
  },
  {
   "metadata": {},
   "cell_type": "markdown",
   "source": [
    "Ctrl + c\n",
    "\n",
    "{\n",
    "\t\"class_name\" : \"ViewTrajectory\",\n",
    "\t\"interval\" : 29,\n",
    "\t\"is_loop\" : false,\n",
    "\t\"trajectory\" : \n",
    "\t[\n",
    "\t\t{\n",
    "\t\t\t\"boundingbox_max\" : [ 2.0468802265837804, 2.0653438714155197, 1.2155221442301669 ],\n",
    "\t\t\t\"boundingbox_min\" : [ -2.0644531067495531, -2.01065612858448, -1.2809778557698333 ],\n",
    "\t\t\t\"field_of_view\" : 60.0,\n",
    "\t\t\t\"front\" : [ 0.98494375440722048, 0.16774148106653808, -0.041816219147759882 ],\n",
    "\t\t\t\"lookat\" : [ -0.0041572339440813831, -0.10649480480045723, -0.46057117739954029 ],\n",
    "\t\t\t\"up\" : [ 0.043517653141294972, -0.0064785057448386559, 0.99903165256581739 ],\n",
    "\t\t\t\"zoom\" : 0.27999999999999969\n",
    "\t\t}\n",
    "\t],\n",
    "\t\"version_major\" : 1,\n",
    "\t\"version_minor\" : 0\n",
    "}"
   ],
   "id": "d04bbff7eba2f103"
  },
  {
   "metadata": {
    "ExecuteTime": {
     "end_time": "2024-08-30T15:45:42.656608Z",
     "start_time": "2024-08-30T15:45:40.409932Z"
    }
   },
   "cell_type": "code",
   "source": [
    "pcd_downsampled.paint_uniform_color([0.6, 0.6, 0.6])\n",
    "o3d.visualization.draw_geometries([pcd_downsampled, outliers])"
   ],
   "id": "3607b3f6c6e07d72",
   "outputs": [],
   "execution_count": 26
  },
  {
   "metadata": {
    "ExecuteTime": {
     "end_time": "2024-08-30T15:45:42.673996Z",
     "start_time": "2024-08-30T15:45:42.668456Z"
    }
   },
   "cell_type": "code",
   "source": [
    "front = [ 0.98494375440722048, 0.16774148106653808, -0.041816219147759882 ]\n",
    "lookat = [ -0.0041572339440813831, -0.10649480480045723, -0.46057117739954029 ]\n",
    "up = [ 0.043517653141294972, -0.0064785057448386559, 0.99903165256581739 ]\n",
    "zoom = 0.27999999999999969"
   ],
   "id": "3291b3be8eb2430d",
   "outputs": [],
   "execution_count": 27
  },
  {
   "metadata": {
    "ExecuteTime": {
     "end_time": "2024-08-30T15:46:22.630915Z",
     "start_time": "2024-08-30T15:46:19.884850Z"
    }
   },
   "cell_type": "code",
   "source": [
    "pcd = pcd_downsampled\n",
    "o3d.visualization.draw_geometries([pcd], zoom=zoom, front=front, lookat=lookat, up=up)"
   ],
   "id": "5a288f43517a43ff",
   "outputs": [],
   "execution_count": 28
  },
  {
   "metadata": {},
   "cell_type": "markdown",
   "source": "### RANSAC Planar Segmentation",
   "id": "d328746008d093cc"
  },
  {
   "metadata": {
    "ExecuteTime": {
     "end_time": "2024-08-30T15:56:16.861109Z",
     "start_time": "2024-08-30T15:55:50.193780Z"
    }
   },
   "cell_type": "code",
   "source": [
    "pt_to_plane_dist = 0.02 # how far it should be maximally to be considered inlier \n",
    "\n",
    "plane_model, inliers = pcd.segment_plane(distance_threshold=pt_to_plane_dist, ransac_n=3, num_iterations=1000)\n",
    "[a, b, c, d] = plane_model\n",
    "\n",
    "inlier_cloud = pcd.select_by_index(inliers)\n",
    "outlier_cloud = pcd.select_by_index(inliers, invert=True)\n",
    "inlier_cloud.paint_uniform_color([0,1,0])\n",
    "outlier_cloud.paint_uniform_color([0.6, 0.6, 0.6])\n",
    "\n",
    "o3d.visualization.draw_geometries([inlier_cloud, outlier_cloud], zoom=zoom, front=front, lookat=lookat, up=up)"
   ],
   "id": "7cad20897acb66bd",
   "outputs": [],
   "execution_count": 30
  },
  {
   "metadata": {},
   "cell_type": "markdown",
   "source": "### Multi-Order RANSAC",
   "id": "afa814a4ed7e0a7b"
  },
  {
   "metadata": {
    "ExecuteTime": {
     "end_time": "2024-08-30T16:00:37.967118Z",
     "start_time": "2024-08-30T16:00:37.294524Z"
    }
   },
   "cell_type": "code",
   "source": [
    "max_plane_idx = 6\n",
    "pt_to_plane_dist = 0.02 \n",
    "\n",
    "segment_models = {}\n",
    "segments = {}\n",
    "rest = pcd\n",
    "\n",
    "for i in range(max_plane_idx):\n",
    "    colors = plt.get_cmap('tab20')(i)\n",
    "    segment_models[i], inliers = rest.segment_plane(distance_threshold=pt_to_plane_dist, ransac_n=3, num_iterations=1000)   \n",
    "    segments[i] = rest.select_by_index(inliers)\n",
    "    segments[i].paint_uniform_color(list(colors[:3]))\n",
    "    rest = rest.select_by_index(inliers, invert=True)\n",
    "    print(f\"pass {i} / {max_plane_idx} done.\")"
   ],
   "id": "a8ad7b162805390d",
   "outputs": [
    {
     "name": "stdout",
     "output_type": "stream",
     "text": [
      "pass 0 / 6 done.\n",
      "pass 1 / 6 done.\n",
      "pass 2 / 6 done.\n",
      "pass 3 / 6 done.\n",
      "pass 4 / 6 done.\n",
      "pass 5 / 6 done.\n"
     ]
    }
   ],
   "execution_count": 31
  },
  {
   "metadata": {
    "ExecuteTime": {
     "end_time": "2024-08-30T16:01:58.805270Z",
     "start_time": "2024-08-30T16:01:22.139754Z"
    }
   },
   "cell_type": "code",
   "source": [
    "o3d.visualization.draw_geometries([segments[i] for i in range(max_plane_idx)] + [rest], \n",
    "                                  zoom=zoom, front=front, lookat=lookat, up=up)"
   ],
   "id": "1439281ff8eb2f2e",
   "outputs": [
    {
     "name": "stdout",
     "output_type": "stream",
     "text": [
      "[Open3D WARNING] GLFW Error: WGL: Failed to make context current: The handle is invalid. \n",
      "[Open3D WARNING] GLFW Error: WGL: Failed to make context current: The handle is invalid. \n"
     ]
    }
   ],
   "execution_count": 32
  },
  {
   "metadata": {},
   "cell_type": "markdown",
   "source": [
    "### Euclidean Clustering Refine\n",
    "Use remaining points to cluster them. "
   ],
   "id": "171c174cc04bd390"
  },
  {
   "metadata": {
    "ExecuteTime": {
     "end_time": "2024-08-30T16:06:22.998601Z",
     "start_time": "2024-08-30T16:06:22.813319Z"
    }
   },
   "cell_type": "code",
   "source": [
    "labels = np.array(rest.cluster_dbscan(eps=0.05, min_points=5))\n",
    "max_label = labels.max()\n",
    "print(f\"point cloud has {max_label + 1} labels\")"
   ],
   "id": "f6c152c4280a0ec",
   "outputs": [
    {
     "name": "stdout",
     "output_type": "stream",
     "text": [
      "point cloud has 8 labels\n"
     ]
    }
   ],
   "execution_count": 33
  },
  {
   "metadata": {
    "ExecuteTime": {
     "end_time": "2024-08-30T16:07:46.630733Z",
     "start_time": "2024-08-30T16:07:46.576180Z"
    }
   },
   "cell_type": "code",
   "source": [
    "colors = plt.get_cmap('tab20')(labels / min(max_label, 1))\n",
    "colors[labels < 0] = 0\n",
    "rest.colors = o3d.utility.Vector3dVector(colors[:, :3])"
   ],
   "id": "1d3bcd1ec71f19a5",
   "outputs": [],
   "execution_count": 34
  },
  {
   "metadata": {
    "ExecuteTime": {
     "end_time": "2024-08-30T16:11:47.417777Z",
     "start_time": "2024-08-30T16:11:23.938246Z"
    }
   },
   "cell_type": "code",
   "source": [
    "o3d.visualization.draw_geometries([segments[i] for i in range(max_plane_idx)] + [rest], \n",
    "                                  zoom=zoom, front=front, lookat=lookat, up=up)"
   ],
   "id": "fcdf21312fea5fbe",
   "outputs": [],
   "execution_count": 36
  }
 ],
 "metadata": {
  "kernelspec": {
   "display_name": "Python 3",
   "language": "python",
   "name": "python3"
  },
  "language_info": {
   "codemirror_mode": {
    "name": "ipython",
    "version": 2
   },
   "file_extension": ".py",
   "mimetype": "text/x-python",
   "name": "python",
   "nbconvert_exporter": "python",
   "pygments_lexer": "ipython2",
   "version": "2.7.6"
  }
 },
 "nbformat": 4,
 "nbformat_minor": 5
}
