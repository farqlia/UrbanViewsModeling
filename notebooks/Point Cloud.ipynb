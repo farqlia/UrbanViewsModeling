{
 "cells": [
  {
   "cell_type": "code",
   "id": "initial_id",
   "metadata": {
    "collapsed": true,
    "ExecuteTime": {
     "end_time": "2024-08-29T08:25:05.516377Z",
     "start_time": "2024-08-29T08:25:04.308567Z"
    }
   },
   "source": [
    "import pycolmap \n",
    "from pathlib import Path \n",
    "import open3d as o3d "
   ],
   "outputs": [
    {
     "name": "stdout",
     "output_type": "stream",
     "text": [
      "Jupyter environment detected. Enabling Open3D WebVisualizer.\n",
      "[Open3D INFO] WebRTC GUI backend enabled.\n",
      "[Open3D INFO] WebRTCWindowSystem: HTTP handshake server disabled.\n"
     ]
    }
   ],
   "execution_count": 1
  },
  {
   "metadata": {
    "ExecuteTime": {
     "end_time": "2024-08-29T09:24:27.322271Z",
     "start_time": "2024-08-29T09:24:27.287400Z"
    }
   },
   "cell_type": "code",
   "source": [
    "scene_folder = Path('../data/small_city_road_vertical')\n",
    "images_folder = scene_folder / 'images'\n",
    "\n",
    "database_path = scene_folder / 'database.db'"
   ],
   "id": "383a1904b9ec25f7",
   "outputs": [],
   "execution_count": 2
  },
  {
   "metadata": {},
   "cell_type": "markdown",
   "source": "### Sparse Reconstruction",
   "id": "3d26d14a8097f5f1"
  },
  {
   "metadata": {
    "jupyter": {
     "is_executing": true
    },
    "ExecuteTime": {
     "start_time": "2024-08-29T09:24:28.724250Z"
    }
   },
   "cell_type": "code",
   "source": [
    "pycolmap.extract_features(database_path, images_folder)\n",
    "pycolmap.match_exhaustive(database_path)\n",
    "maps = pycolmap.incremental_mapping(database_path, images_folder, scene_folder)\n",
    "maps[0].write(scene_folder)"
   ],
   "id": "d7987c6b226f6cb9",
   "outputs": [],
   "execution_count": null
  },
  {
   "metadata": {},
   "cell_type": "markdown",
   "source": "Convert to PLY format, suitable for 3D data. (Sparse point cloud)",
   "id": "12ff014b0f8b4a7e"
  },
  {
   "metadata": {
    "ExecuteTime": {
     "end_time": "2024-08-29T10:13:34.182871100Z",
     "start_time": "2024-08-28T13:24:41.167985Z"
    }
   },
   "cell_type": "code",
   "source": [
    "reconstruction = pycolmap.Reconstruction(scene_folder)\n",
    "reconstruction.export_PLY(scene_folder / 'sparse.ply')"
   ],
   "id": "fee37caf15455de3",
   "outputs": [],
   "execution_count": 10
  },
  {
   "metadata": {
    "ExecuteTime": {
     "end_time": "2024-08-28T17:11:20.273574Z",
     "start_time": "2024-08-28T17:10:03.187921Z"
    }
   },
   "cell_type": "code",
   "source": [
    "cloud = o3d.io.read_point_cloud(str(scene_folder / 'sparse.ply'))\n",
    "o3d.visualization.draw_geometries([cloud])  "
   ],
   "id": "3b97e296880aeb1e",
   "outputs": [
    {
     "name": "stdout",
     "output_type": "stream",
     "text": [
      "[Open3D WARNING] [ViewControl] SetViewPoint() failed because window height and width are not set.\n"
     ]
    }
   ],
   "execution_count": 13
  }
 ],
 "metadata": {
  "kernelspec": {
   "display_name": "Python 3",
   "language": "python",
   "name": "python3"
  },
  "language_info": {
   "codemirror_mode": {
    "name": "ipython",
    "version": 2
   },
   "file_extension": ".py",
   "mimetype": "text/x-python",
   "name": "python",
   "nbconvert_exporter": "python",
   "pygments_lexer": "ipython2",
   "version": "2.7.6"
  }
 },
 "nbformat": 4,
 "nbformat_minor": 5
}
