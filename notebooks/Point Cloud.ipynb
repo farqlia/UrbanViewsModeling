{
 "cells": [
  {
   "cell_type": "code",
   "id": "initial_id",
   "metadata": {
    "collapsed": true,
    "ExecuteTime": {
     "end_time": "2024-09-05T13:48:12.049365Z",
     "start_time": "2024-09-05T13:47:54.594165Z"
    }
   },
   "source": [
    "import pycolmap \n",
    "from pathlib import Path \n",
    "import numpy as np\n",
    "from scipy.spatial.transform import Rotation as R"
   ],
   "outputs": [],
   "execution_count": 2
  },
  {
   "metadata": {
    "ExecuteTime": {
     "end_time": "2024-09-05T13:48:12.060209Z",
     "start_time": "2024-09-05T13:48:12.056638Z"
    }
   },
   "cell_type": "code",
   "source": [
    "scene_folder = Path('../data/south-building')\n",
    "images_folder = scene_folder / 'images'\n",
    "\n",
    "database_path = scene_folder / 'database.db'"
   ],
   "id": "383a1904b9ec25f7",
   "outputs": [],
   "execution_count": 3
  },
  {
   "metadata": {},
   "cell_type": "markdown",
   "source": "### Sparse Reconstruction",
   "id": "3d26d14a8097f5f1"
  },
  {
   "metadata": {
    "ExecuteTime": {
     "end_time": "2024-09-05T09:15:41.736210Z",
     "start_time": "2024-09-05T09:06:35.115074Z"
    }
   },
   "cell_type": "code",
   "source": [
    "pycolmap.extract_features(database_path, images_folder, camera_model='SIMPLE_PINHOLE')\n",
    "pycolmap.match_exhaustive(database_path)\n",
    "maps = pycolmap.incremental_mapping(database_path, images_folder, scene_folder)\n",
    "maps[0].write(scene_folder)"
   ],
   "id": "d7987c6b226f6cb9",
   "outputs": [],
   "execution_count": 10
  },
  {
   "metadata": {
    "ExecuteTime": {
     "end_time": "2024-09-05T09:15:44.101537Z",
     "start_time": "2024-09-05T09:15:44.086278Z"
    }
   },
   "cell_type": "code",
   "source": "maps",
   "id": "2487034c1fb6394a",
   "outputs": [
    {
     "data": {
      "text/plain": [
       "{0: Reconstruction(num_reg_images=128, num_cameras=1, num_points3D=64668, num_observations=374741)}"
      ]
     },
     "execution_count": 11,
     "metadata": {},
     "output_type": "execute_result"
    }
   ],
   "execution_count": 11
  },
  {
   "metadata": {},
   "cell_type": "markdown",
   "source": "Convert to PLY format, suitable for 3D data. (Sparse point cloud)",
   "id": "12ff014b0f8b4a7e"
  },
  {
   "metadata": {
    "ExecuteTime": {
     "end_time": "2024-09-05T13:48:21.048625Z",
     "start_time": "2024-09-05T13:48:20.867929Z"
    }
   },
   "cell_type": "code",
   "source": "reconstruction = pycolmap.Reconstruction(scene_folder)",
   "id": "70c1dbdd3ffd5d72",
   "outputs": [],
   "execution_count": 4
  },
  {
   "metadata": {
    "ExecuteTime": {
     "end_time": "2024-09-05T13:48:21.561967Z",
     "start_time": "2024-09-05T13:48:21.538049Z"
    }
   },
   "cell_type": "code",
   "source": "reconstruction.export_PLY(scene_folder / 'sparse.ply')",
   "id": "fee37caf15455de3",
   "outputs": [],
   "execution_count": 5
  },
  {
   "metadata": {},
   "cell_type": "markdown",
   "source": "### Examining Reconstruction",
   "id": "c9c4e548f95a3f8"
  },
  {
   "metadata": {
    "ExecuteTime": {
     "end_time": "2024-09-05T13:48:25.800554Z",
     "start_time": "2024-09-05T13:48:25.601711Z"
    }
   },
   "cell_type": "code",
   "source": [
    "reconstruction = pycolmap.Reconstruction(scene_folder / '0')\n",
    "print(reconstruction.summary())"
   ],
   "id": "7c931f2ed05226b3",
   "outputs": [
    {
     "name": "stdout",
     "output_type": "stream",
     "text": [
      "Reconstruction:\n",
      "\tnum_reg_images = 128\n",
      "\tnum_cameras = 1\n",
      "\tnum_points3D = 64668\n",
      "\tnum_observations = 374741\n",
      "\tmean_track_length = 5.79484\n",
      "\tmean_observations_per_image = 2927.66\n",
      "\tmean_reprojection_error = 0.750014\n"
     ]
    }
   ],
   "execution_count": 6
  },
  {
   "metadata": {
    "ExecuteTime": {
     "end_time": "2024-09-05T13:48:26.521582Z",
     "start_time": "2024-09-05T13:48:26.512752Z"
    }
   },
   "cell_type": "code",
   "source": "help(reconstruction)",
   "id": "5795a6f2ca4357a9",
   "outputs": [
    {
     "name": "stdout",
     "output_type": "stream",
     "text": [
      "Help on Reconstruction in module pycolmap object:\n",
      "\n",
      "class Reconstruction(pybind11_builtins.pybind11_object)\n",
      " |  Method resolution order:\n",
      " |      Reconstruction\n",
      " |      pybind11_builtins.pybind11_object\n",
      " |      builtins.object\n",
      " |\n",
      " |  Methods defined here:\n",
      " |\n",
      " |  __copy__(...)\n",
      " |      __copy__(self: pycolmap.Reconstruction) -> pycolmap.Reconstruction\n",
      " |\n",
      " |  __deepcopy__(...)\n",
      " |      __deepcopy__(self: pycolmap.Reconstruction, arg0: dict) -> pycolmap.Reconstruction\n",
      " |\n",
      " |  __init__(...)\n",
      " |      __init__(*args, **kwargs)\n",
      " |      Overloaded function.\n",
      " |\n",
      " |      1. __init__(self: pycolmap.Reconstruction) -> None\n",
      " |\n",
      " |      2. __init__(self: pycolmap.Reconstruction, sfm_dir: str) -> None\n",
      " |\n",
      " |  __repr__(...)\n",
      " |      __repr__(self: pycolmap.Reconstruction) -> str\n",
      " |\n",
      " |  add_camera(...)\n",
      " |      add_camera(self: pycolmap.Reconstruction, arg0: pycolmap.Camera) -> None\n",
      " |\n",
      " |      Add new camera. There is only one camera per image, while multiple images\n",
      " |      might be taken by the same camera.\n",
      " |\n",
      " |  add_image(...)\n",
      " |      add_image(self: pycolmap.Reconstruction, image: pycolmap.Image) -> None\n",
      " |\n",
      " |      Add a new image.\n",
      " |\n",
      " |  add_observation(...)\n",
      " |      add_observation(self: pycolmap.Reconstruction, arg0: int, arg1: pycolmap.TrackElement) -> None\n",
      " |\n",
      " |      Add observation to existing 3D point.\n",
      " |\n",
      " |  add_point3D(...)\n",
      " |      add_point3D(self: pycolmap.Reconstruction, xyz: numpy.ndarray[numpy.float64[3, 1]], track: pycolmap.Track, color: numpy.ndarray[numpy.uint8[3, 1]] = array([0, 0, 0], dtype=uint8)) -> int\n",
      " |\n",
      " |      Add new 3D object, and return its unique ID.\n",
      " |\n",
      " |  check(...)\n",
      " |      check(self: pycolmap.Reconstruction) -> None\n",
      " |\n",
      " |      Check if current reconstruction is well formed.\n",
      " |\n",
      " |  compute_bounding_box(...)\n",
      " |      compute_bounding_box(self: pycolmap.Reconstruction, p0: float = 0.0, p1: float = 1.0) -> Tuple[numpy.ndarray[numpy.float64[3, 1]], numpy.ndarray[numpy.float64[3, 1]]]\n",
      " |\n",
      " |  compute_mean_observations_per_reg_image(...)\n",
      " |      compute_mean_observations_per_reg_image(self: pycolmap.Reconstruction) -> float\n",
      " |\n",
      " |  compute_mean_reprojection_error(...)\n",
      " |      compute_mean_reprojection_error(self: pycolmap.Reconstruction) -> float\n",
      " |\n",
      " |  compute_mean_track_length(...)\n",
      " |      compute_mean_track_length(self: pycolmap.Reconstruction) -> float\n",
      " |\n",
      " |  compute_num_observations(...)\n",
      " |      compute_num_observations(self: pycolmap.Reconstruction) -> int\n",
      " |\n",
      " |  create_image_dirs(...)\n",
      " |      create_image_dirs(self: pycolmap.Reconstruction, arg0: str) -> None\n",
      " |\n",
      " |      Create all image sub-directories in the given path.\n",
      " |\n",
      " |  crop(...)\n",
      " |      crop(self: pycolmap.Reconstruction, arg0: Tuple[numpy.ndarray[numpy.float64[3, 1]], numpy.ndarray[numpy.float64[3, 1]]]) -> pycolmap.Reconstruction\n",
      " |\n",
      " |  delete_observation(...)\n",
      " |      delete_observation(self: pycolmap.Reconstruction, arg0: int, arg1: int) -> None\n",
      " |\n",
      " |      Delete one observation from an image and the corresponding 3D point.\n",
      " |      Note that this deletes the entire 3D point, if the track has two elements\n",
      " |      prior to calling this method.\n",
      " |\n",
      " |  delete_point3D(...)\n",
      " |      delete_point3D(self: pycolmap.Reconstruction, arg0: int) -> None\n",
      " |\n",
      " |      Delete a 3D point, and all its references in the observed images.\n",
      " |\n",
      " |  deregister_image(...)\n",
      " |      deregister_image(self: pycolmap.Reconstruction, arg0: int) -> None\n",
      " |\n",
      " |      De-register an existing image, and all its references.\n",
      " |\n",
      " |  exists_camera(...)\n",
      " |      exists_camera(self: pycolmap.Reconstruction, arg0: int) -> bool\n",
      " |\n",
      " |  exists_image(...)\n",
      " |      exists_image(self: pycolmap.Reconstruction, arg0: int) -> bool\n",
      " |\n",
      " |  exists_image_pair(...)\n",
      " |      exists_image_pair(self: pycolmap.Reconstruction, arg0: int) -> bool\n",
      " |\n",
      " |  exists_point3D(...)\n",
      " |      exists_point3D(self: pycolmap.Reconstruction, arg0: int) -> bool\n",
      " |\n",
      " |  export_CAM(...)\n",
      " |      export_CAM(self: pycolmap.Reconstruction, output_dir: str, skip_distortion: bool = False) -> None\n",
      " |\n",
      " |      Exports in CAM format which is a simple text file that contains pose\n",
      " |      information and camera intrinsics for each image and exports one file per\n",
      " |      image; it does not include information on the 3D points. The format is as\n",
      " |      follows (2 lines of text with space separated numbers):\n",
      " |      <Tvec; 3 values> <Rotation matrix in row-major format; 9 values>\n",
      " |      <focal_length> <k1> <k2> 1.0 <principal point X> <principal point Y>\n",
      " |      Note that focal length is relative to the image max(width, height),\n",
      " |      and principal points x and y are relative to width and height respectively.\n",
      " |\n",
      " |      Only supports SIMPLE_RADIAL and RADIAL camera models when exporting\n",
      " |      distortion parameters. When skip_distortion == True it supports all camera\n",
      " |      models with the caveat that it's using the mean focal length which will be\n",
      " |      inaccurate for camera models with two focal lengths and distortion.\n",
      " |\n",
      " |  export_NVM(...)\n",
      " |      export_NVM(self: pycolmap.Reconstruction, output_path: str, skip_distortion: bool = False) -> None\n",
      " |\n",
      " |      Export reconstruction in NVM format (.nvm).\n",
      " |\n",
      " |      Only supports SIMPLE_RADIAL camera models when exporting\n",
      " |      distortion parameters. When skip_distortion == True it supports all camera\n",
      " |      models with the caveat that it's using the mean focal length which will be\n",
      " |      inaccurate for camera models with two focal lengths and distortion.\n",
      " |\n",
      " |  export_PLY(...)\n",
      " |      export_PLY(self: pycolmap.Reconstruction, output_path: str) -> None\n",
      " |\n",
      " |      Export 3D points to PLY format (.ply).\n",
      " |\n",
      " |  export_VRML(...)\n",
      " |      export_VRML(self: pycolmap.Reconstruction, images_path: str, points3D_path: str, image_scale: float = 1.0, image_rgb: numpy.ndarray[numpy.float64[3, 1]] = array([1., 0., 0.])) -> None\n",
      " |\n",
      " |      Export reconstruction in VRML format (.wrl).\n",
      " |\n",
      " |  export_bundler(...)\n",
      " |      export_bundler(self: pycolmap.Reconstruction, output_path: str, list_path: str, skip_distortion: bool = False) -> None\n",
      " |\n",
      " |      Export reconstruction in Bundler format.\n",
      " |      Supports SIMPLE_PINHOLE, PINHOLE, SIMPLE_RADIAL and RADIAL camera models\n",
      " |      when exporting distortion parameters. When skip_distortion == True it\n",
      " |      supports all camera models with the caveat that it's using the mean focal\n",
      " |      length which will be inaccurate for camera models with two focal lengths\n",
      " |      and distortion.\n",
      " |\n",
      " |  extract_colors_for_all_images(...)\n",
      " |      extract_colors_for_all_images(self: pycolmap.Reconstruction, arg0: str) -> None\n",
      " |\n",
      " |      Extract colors for all 3D points by computing the mean color of all images.\n",
      " |\n",
      " |      @param path          Absolute or relative path to root folder of image.\n",
      " |                           The image path is determined by concatenating the\n",
      " |                           root path and the name of the image.\n",
      " |\n",
      " |  extract_colors_for_image(...)\n",
      " |      extract_colors_for_image(self: pycolmap.Reconstruction, arg0: int, arg1: str) -> bool\n",
      " |\n",
      " |      Extract colors for 3D points of given image. Colors will be extracted\n",
      " |      only for 3D points which are completely black.\n",
      " |\n",
      " |      @param image_id      Identifier of the image for which to extract colors.\n",
      " |      @param path          Absolute or relative path to root folder of image.\n",
      " |                           The image path is determined by concatenating the\n",
      " |                           root path and the name of the image.\n",
      " |\n",
      " |      @return              True if image could be read at given path.\n",
      " |\n",
      " |  filter_all_points3D(...)\n",
      " |      filter_all_points3D(self: pycolmap.Reconstruction, arg0: float, arg1: float) -> int\n",
      " |\n",
      " |      Filter 3D points with large reprojection error, negative depth, or\n",
      " |      insufficient triangulation angle.\n",
      " |\n",
      " |      @param max_reproj_error    The maximum reprojection error.\n",
      " |      @param min_tri_angle       The minimum triangulation angle.\n",
      " |\n",
      " |      @return                    The number of filtered observations.\n",
      " |\n",
      " |  filter_images(...)\n",
      " |      filter_images(self: pycolmap.Reconstruction, arg0: float, arg1: float, arg2: float) -> List[int]\n",
      " |\n",
      " |      Filter images without observations or bogus camera parameters.\n",
      " |\n",
      " |      @return    The identifiers of the filtered images.\n",
      " |\n",
      " |  filter_observations_with_negative_depth(...)\n",
      " |      filter_observations_with_negative_depth(self: pycolmap.Reconstruction) -> int\n",
      " |\n",
      " |      Filter observations that have negative depth.\n",
      " |\n",
      " |      @return    The number of filtered observations.\n",
      " |\n",
      " |  filter_points3D(...)\n",
      " |      filter_points3D(self: pycolmap.Reconstruction, arg0: float, arg1: float, arg2: Set[int]) -> int\n",
      " |\n",
      " |      Filter 3D points with large reprojection error, negative depth, or\n",
      " |      insufficient triangulation angle.\n",
      " |\n",
      " |      @param max_reproj_error    The maximum reprojection error.\n",
      " |      @param min_tri_angle       The minimum triangulation angle.\n",
      " |      @param point3D_ids         The points to be filtered.\n",
      " |\n",
      " |      @return                    The number of filtered observations.\n",
      " |\n",
      " |  filter_points3D_in_images(...)\n",
      " |      filter_points3D_in_images(self: pycolmap.Reconstruction, arg0: float, arg1: float, arg2: Set[int]) -> int\n",
      " |\n",
      " |      Filter 3D points with large reprojection error, negative depth, or\n",
      " |      insufficient triangulation angle.\n",
      " |\n",
      " |      @param max_reproj_error    The maximum reprojection error.\n",
      " |      @param min_tri_angle       The minimum triangulation angle.\n",
      " |      @param image_ids           The the image ids in which the points3D are filtered.\n",
      " |\n",
      " |      @return                    The number of filtered observations.\n",
      " |\n",
      " |  find_common_reg_image_ids(...)\n",
      " |      find_common_reg_image_ids(self: pycolmap.Reconstruction, arg0: pycolmap.Reconstruction) -> List[Tuple[int, int]]\n",
      " |\n",
      " |      Find images that are both present in this and the given reconstruction.\n",
      " |\n",
      " |  find_image_with_name(...)\n",
      " |      find_image_with_name(self: pycolmap.Reconstruction, arg0: str) -> pycolmap.Image\n",
      " |\n",
      " |      Find image with matching name. Returns None if no match is found.\n",
      " |\n",
      " |  import_PLY(...)\n",
      " |      import_PLY(self: pycolmap.Reconstruction, arg0: str) -> None\n",
      " |\n",
      " |      Import from PLY format. Note that these import functions are\n",
      " |      only intended for visualization of data and usable for reconstruction.\n",
      " |\n",
      " |  is_image_registered(...)\n",
      " |      is_image_registered(self: pycolmap.Reconstruction, arg0: int) -> bool\n",
      " |\n",
      " |      Check if image is registered.\n",
      " |\n",
      " |  merge_points3D(...)\n",
      " |      merge_points3D(self: pycolmap.Reconstruction, arg0: int, arg1: int) -> int\n",
      " |\n",
      " |      Merge two 3D points and return new identifier of new 3D point.\n",
      " |      The location of the merged 3D point is a weighted average of the two\n",
      " |      original 3D point's locations according to their track lengths.\n",
      " |\n",
      " |  normalize(...)\n",
      " |      normalize(self: pycolmap.Reconstruction, arg0: float, arg1: float, arg2: float, arg3: bool) -> None\n",
      " |\n",
      " |      Normalize scene by scaling and translation to avoid degenerate\n",
      " |      visualization after bundle adjustment and to improve numerical\n",
      " |      stability of algorithms.\n",
      " |\n",
      " |      Translates scene such that the mean of the camera centers or point\n",
      " |      locations are at the origin of the coordinate system.\n",
      " |\n",
      " |      Scales scene such that the minimum and maximum camera centers are at the\n",
      " |      given `extent`, whereas `p0` and `p1` determine the minimum and\n",
      " |      maximum percentiles of the camera centers considered.\n",
      " |\n",
      " |  num_cameras(...)\n",
      " |      num_cameras(self: pycolmap.Reconstruction) -> int\n",
      " |\n",
      " |  num_image_pairs(...)\n",
      " |      num_image_pairs(self: pycolmap.Reconstruction) -> int\n",
      " |\n",
      " |  num_images(...)\n",
      " |      num_images(self: pycolmap.Reconstruction) -> int\n",
      " |\n",
      " |  num_points3D(...)\n",
      " |      num_points3D(self: pycolmap.Reconstruction) -> int\n",
      " |\n",
      " |  num_reg_images(...)\n",
      " |      num_reg_images(self: pycolmap.Reconstruction) -> int\n",
      " |\n",
      " |  point3D_ids(...)\n",
      " |      point3D_ids(self: pycolmap.Reconstruction) -> Set[int]\n",
      " |\n",
      " |  read(...)\n",
      " |      read(self: pycolmap.Reconstruction, sfm_dir: str) -> None\n",
      " |\n",
      " |      Read reconstruction in COLMAP format. Prefer binary.\n",
      " |\n",
      " |  read_binary(...)\n",
      " |      read_binary(self: pycolmap.Reconstruction, arg0: str) -> None\n",
      " |\n",
      " |  read_text(...)\n",
      " |      read_text(self: pycolmap.Reconstruction, arg0: str) -> None\n",
      " |\n",
      " |  reg_image_ids(...)\n",
      " |      reg_image_ids(self: pycolmap.Reconstruction) -> List[int]\n",
      " |\n",
      " |  register_image(...)\n",
      " |      register_image(self: pycolmap.Reconstruction, arg0: int) -> None\n",
      " |\n",
      " |      Register an existing image.\n",
      " |\n",
      " |  summary(...)\n",
      " |      summary(self: pycolmap.Reconstruction) -> str\n",
      " |\n",
      " |  transform(...)\n",
      " |      transform(self: pycolmap.Reconstruction, arg0: pycolmap.Sim3d) -> None\n",
      " |\n",
      " |      Apply the 3D similarity transformation to all images and points.\n",
      " |\n",
      " |  write(...)\n",
      " |      write(self: pycolmap.Reconstruction, output_dir: str) -> None\n",
      " |\n",
      " |      Write reconstruction in COLMAP binary format.\n",
      " |\n",
      " |  write_binary(...)\n",
      " |      write_binary(self: pycolmap.Reconstruction, arg0: str) -> None\n",
      " |\n",
      " |  write_text(...)\n",
      " |      write_text(self: pycolmap.Reconstruction, arg0: str) -> None\n",
      " |\n",
      " |  ----------------------------------------------------------------------\n",
      " |  Readonly properties defined here:\n",
      " |\n",
      " |  cameras\n",
      " |\n",
      " |  image_pairs\n",
      " |\n",
      " |  images\n",
      " |\n",
      " |  points3D\n",
      " |\n",
      " |  ----------------------------------------------------------------------\n",
      " |  Static methods inherited from pybind11_builtins.pybind11_object:\n",
      " |\n",
      " |  __new__(*args, **kwargs) class method of pybind11_builtins.pybind11_object\n",
      " |      Create and return a new object.  See help(type) for accurate signature.\n",
      "\n"
     ]
    }
   ],
   "execution_count": 7
  },
  {
   "metadata": {
    "ExecuteTime": {
     "end_time": "2024-09-05T13:48:28.151671Z",
     "start_time": "2024-09-05T13:48:28.142641Z"
    }
   },
   "cell_type": "code",
   "source": [
    "for image_id, image in reconstruction.images.items():\n",
    "    print(image_id, image)"
   ],
   "id": "f93a25980f502abd",
   "outputs": [
    {
     "name": "stdout",
     "output_type": "stream",
     "text": [
      "1 Image(image_id=1, camera_id=1, name=\"P1180141.JPG\", triangulated=2395/12923)\n",
      "2 Image(image_id=2, camera_id=1, name=\"P1180142.JPG\", triangulated=2142/8620)\n",
      "3 Image(image_id=3, camera_id=1, name=\"P1180143.JPG\", triangulated=2054/8982)\n",
      "4 Image(image_id=4, camera_id=1, name=\"P1180144.JPG\", triangulated=1329/9548)\n",
      "5 Image(image_id=5, camera_id=1, name=\"P1180145.JPG\", triangulated=799/10334)\n",
      "6 Image(image_id=6, camera_id=1, name=\"P1180146.JPG\", triangulated=882/11774)\n",
      "7 Image(image_id=7, camera_id=1, name=\"P1180147.JPG\", triangulated=1038/9599)\n",
      "8 Image(image_id=8, camera_id=1, name=\"P1180148.JPG\", triangulated=956/7044)\n",
      "9 Image(image_id=9, camera_id=1, name=\"P1180149.JPG\", triangulated=1203/10432)\n",
      "10 Image(image_id=10, camera_id=1, name=\"P1180150.JPG\", triangulated=1064/10874)\n",
      "11 Image(image_id=11, camera_id=1, name=\"P1180151.JPG\", triangulated=784/6926)\n",
      "12 Image(image_id=12, camera_id=1, name=\"P1180152.JPG\", triangulated=639/6952)\n",
      "13 Image(image_id=13, camera_id=1, name=\"P1180153.JPG\", triangulated=363/10899)\n",
      "14 Image(image_id=14, camera_id=1, name=\"P1180154.JPG\", triangulated=282/7800)\n",
      "15 Image(image_id=15, camera_id=1, name=\"P1180155.JPG\", triangulated=597/8282)\n",
      "16 Image(image_id=16, camera_id=1, name=\"P1180156.JPG\", triangulated=835/9285)\n",
      "17 Image(image_id=17, camera_id=1, name=\"P1180157.JPG\", triangulated=912/7333)\n",
      "18 Image(image_id=18, camera_id=1, name=\"P1180158.JPG\", triangulated=1776/11518)\n",
      "19 Image(image_id=19, camera_id=1, name=\"P1180159.JPG\", triangulated=1557/11926)\n",
      "20 Image(image_id=20, camera_id=1, name=\"P1180160.JPG\", triangulated=2141/9708)\n",
      "21 Image(image_id=21, camera_id=1, name=\"P1180161.JPG\", triangulated=1690/10874)\n",
      "22 Image(image_id=22, camera_id=1, name=\"P1180162.JPG\", triangulated=2143/6953)\n",
      "23 Image(image_id=23, camera_id=1, name=\"P1180163.JPG\", triangulated=2026/8178)\n",
      "24 Image(image_id=24, camera_id=1, name=\"P1180164.JPG\", triangulated=2595/9398)\n",
      "25 Image(image_id=25, camera_id=1, name=\"P1180165.JPG\", triangulated=2741/10321)\n",
      "26 Image(image_id=26, camera_id=1, name=\"P1180166.JPG\", triangulated=3282/8394)\n",
      "27 Image(image_id=27, camera_id=1, name=\"P1180167.JPG\", triangulated=3595/13630)\n",
      "28 Image(image_id=28, camera_id=1, name=\"P1180168.JPG\", triangulated=3143/12796)\n",
      "29 Image(image_id=29, camera_id=1, name=\"P1180169.JPG\", triangulated=2393/11994)\n",
      "30 Image(image_id=30, camera_id=1, name=\"P1180170.JPG\", triangulated=2235/9150)\n",
      "31 Image(image_id=31, camera_id=1, name=\"P1180171.JPG\", triangulated=3713/8810)\n",
      "32 Image(image_id=32, camera_id=1, name=\"P1180172.JPG\", triangulated=3651/9261)\n",
      "33 Image(image_id=33, camera_id=1, name=\"P1180173.JPG\", triangulated=2612/11084)\n",
      "34 Image(image_id=34, camera_id=1, name=\"P1180174.JPG\", triangulated=2711/8588)\n",
      "35 Image(image_id=35, camera_id=1, name=\"P1180175.JPG\", triangulated=1971/11177)\n",
      "36 Image(image_id=36, camera_id=1, name=\"P1180176.JPG\", triangulated=3158/10907)\n",
      "37 Image(image_id=37, camera_id=1, name=\"P1180177.JPG\", triangulated=3862/13048)\n",
      "38 Image(image_id=38, camera_id=1, name=\"P1180178.JPG\", triangulated=3892/12902)\n",
      "39 Image(image_id=39, camera_id=1, name=\"P1180179.JPG\", triangulated=3999/8200)\n",
      "40 Image(image_id=40, camera_id=1, name=\"P1180180.JPG\", triangulated=4118/9210)\n",
      "41 Image(image_id=41, camera_id=1, name=\"P1180181.JPG\", triangulated=3739/9105)\n",
      "42 Image(image_id=42, camera_id=1, name=\"P1180182.JPG\", triangulated=3015/9255)\n",
      "43 Image(image_id=43, camera_id=1, name=\"P1180183.JPG\", triangulated=2627/9321)\n",
      "44 Image(image_id=44, camera_id=1, name=\"P1180184.JPG\", triangulated=2506/9535)\n",
      "45 Image(image_id=45, camera_id=1, name=\"P1180185.JPG\", triangulated=2950/9119)\n",
      "46 Image(image_id=46, camera_id=1, name=\"P1180186.JPG\", triangulated=3968/14114)\n",
      "47 Image(image_id=47, camera_id=1, name=\"P1180187.JPG\", triangulated=4209/12021)\n",
      "48 Image(image_id=48, camera_id=1, name=\"P1180188.JPG\", triangulated=2629/6774)\n",
      "49 Image(image_id=49, camera_id=1, name=\"P1180189.JPG\", triangulated=3083/6507)\n",
      "50 Image(image_id=50, camera_id=1, name=\"P1180190.JPG\", triangulated=2907/5978)\n",
      "51 Image(image_id=51, camera_id=1, name=\"P1180191.JPG\", triangulated=4984/12672)\n",
      "52 Image(image_id=52, camera_id=1, name=\"P1180192.JPG\", triangulated=3139/11105)\n",
      "53 Image(image_id=53, camera_id=1, name=\"P1180193.JPG\", triangulated=4634/9324)\n",
      "54 Image(image_id=54, camera_id=1, name=\"P1180194.JPG\", triangulated=4414/8662)\n",
      "55 Image(image_id=55, camera_id=1, name=\"P1180195.JPG\", triangulated=4110/8959)\n",
      "56 Image(image_id=56, camera_id=1, name=\"P1180196.JPG\", triangulated=4041/9276)\n",
      "57 Image(image_id=57, camera_id=1, name=\"P1180197.JPG\", triangulated=4265/9664)\n",
      "58 Image(image_id=58, camera_id=1, name=\"P1180198.JPG\", triangulated=3168/14374)\n",
      "59 Image(image_id=59, camera_id=1, name=\"P1180199.JPG\", triangulated=2895/8410)\n",
      "60 Image(image_id=60, camera_id=1, name=\"P1180200.JPG\", triangulated=2755/9411)\n",
      "61 Image(image_id=61, camera_id=1, name=\"P1180201.JPG\", triangulated=2144/7561)\n",
      "62 Image(image_id=62, camera_id=1, name=\"P1180202.JPG\", triangulated=5195/13640)\n",
      "63 Image(image_id=63, camera_id=1, name=\"P1180203.JPG\", triangulated=4350/8213)\n",
      "64 Image(image_id=64, camera_id=1, name=\"P1180204.JPG\", triangulated=4746/8326)\n",
      "65 Image(image_id=65, camera_id=1, name=\"P1180205.JPG\", triangulated=4861/8214)\n",
      "66 Image(image_id=66, camera_id=1, name=\"P1180206.JPG\", triangulated=4911/8415)\n",
      "67 Image(image_id=67, camera_id=1, name=\"P1180207.JPG\", triangulated=4901/8258)\n",
      "68 Image(image_id=68, camera_id=1, name=\"P1180208.JPG\", triangulated=4632/12528)\n",
      "69 Image(image_id=69, camera_id=1, name=\"P1180209.JPG\", triangulated=4770/7885)\n",
      "70 Image(image_id=70, camera_id=1, name=\"P1180210.JPG\", triangulated=6590/13356)\n",
      "71 Image(image_id=71, camera_id=1, name=\"P1180211.JPG\", triangulated=4609/12427)\n",
      "72 Image(image_id=72, camera_id=1, name=\"P1180212.JPG\", triangulated=6288/13280)\n",
      "73 Image(image_id=73, camera_id=1, name=\"P1180213.JPG\", triangulated=4215/12971)\n",
      "74 Image(image_id=74, camera_id=1, name=\"P1180214.JPG\", triangulated=4579/12860)\n",
      "75 Image(image_id=75, camera_id=1, name=\"P1180215.JPG\", triangulated=4477/8331)\n",
      "76 Image(image_id=76, camera_id=1, name=\"P1180216.JPG\", triangulated=4230/8319)\n",
      "77 Image(image_id=77, camera_id=1, name=\"P1180217.JPG\", triangulated=4015/8405)\n",
      "78 Image(image_id=78, camera_id=1, name=\"P1180218.JPG\", triangulated=4035/8225)\n",
      "79 Image(image_id=79, camera_id=1, name=\"P1180219.JPG\", triangulated=3805/12260)\n",
      "80 Image(image_id=80, camera_id=1, name=\"P1180220.JPG\", triangulated=3241/11730)\n",
      "81 Image(image_id=81, camera_id=1, name=\"P1180221.JPG\", triangulated=2758/10924)\n",
      "82 Image(image_id=82, camera_id=1, name=\"P1180222.JPG\", triangulated=1605/11278)\n",
      "83 Image(image_id=83, camera_id=1, name=\"P1180223.JPG\", triangulated=1443/9163)\n",
      "84 Image(image_id=84, camera_id=1, name=\"P1180224.JPG\", triangulated=1303/8990)\n",
      "85 Image(image_id=85, camera_id=1, name=\"P1180225.JPG\", triangulated=1801/10216)\n",
      "86 Image(image_id=86, camera_id=1, name=\"P1180305.JPG\", triangulated=4907/11885)\n",
      "87 Image(image_id=87, camera_id=1, name=\"P1180306.JPG\", triangulated=3396/6385)\n",
      "88 Image(image_id=88, camera_id=1, name=\"P1180307.JPG\", triangulated=2983/6303)\n",
      "89 Image(image_id=89, camera_id=1, name=\"P1180308.JPG\", triangulated=3919/9633)\n",
      "90 Image(image_id=90, camera_id=1, name=\"P1180309.JPG\", triangulated=3976/9462)\n",
      "91 Image(image_id=91, camera_id=1, name=\"P1180310.JPG\", triangulated=3350/8266)\n",
      "92 Image(image_id=92, camera_id=1, name=\"P1180311.JPG\", triangulated=3236/8776)\n",
      "93 Image(image_id=93, camera_id=1, name=\"P1180312.JPG\", triangulated=2641/10929)\n",
      "94 Image(image_id=94, camera_id=1, name=\"P1180313.JPG\", triangulated=2793/11009)\n",
      "95 Image(image_id=95, camera_id=1, name=\"P1180314.JPG\", triangulated=3348/12339)\n",
      "96 Image(image_id=96, camera_id=1, name=\"P1180315.JPG\", triangulated=3999/8766)\n",
      "97 Image(image_id=97, camera_id=1, name=\"P1180316.JPG\", triangulated=6307/13605)\n",
      "98 Image(image_id=98, camera_id=1, name=\"P1180317.JPG\", triangulated=6703/13287)\n",
      "99 Image(image_id=99, camera_id=1, name=\"P1180318.JPG\", triangulated=7026/13211)\n",
      "100 Image(image_id=100, camera_id=1, name=\"P1180319.JPG\", triangulated=4485/11929)\n",
      "101 Image(image_id=101, camera_id=1, name=\"P1180320.JPG\", triangulated=4045/11378)\n",
      "102 Image(image_id=102, camera_id=1, name=\"P1180321.JPG\", triangulated=3794/7880)\n",
      "103 Image(image_id=103, camera_id=1, name=\"P1180322.JPG\", triangulated=3649/8702)\n",
      "104 Image(image_id=104, camera_id=1, name=\"P1180323.JPG\", triangulated=3566/8528)\n",
      "105 Image(image_id=105, camera_id=1, name=\"P1180324.JPG\", triangulated=3453/8244)\n",
      "106 Image(image_id=106, camera_id=1, name=\"P1180325.JPG\", triangulated=2961/11975)\n",
      "107 Image(image_id=107, camera_id=1, name=\"P1180326.JPG\", triangulated=2122/12291)\n",
      "108 Image(image_id=108, camera_id=1, name=\"P1180327.JPG\", triangulated=1565/8799)\n",
      "109 Image(image_id=109, camera_id=1, name=\"P1180328.JPG\", triangulated=1532/9084)\n",
      "110 Image(image_id=110, camera_id=1, name=\"P1180329.JPG\", triangulated=2042/9069)\n",
      "111 Image(image_id=111, camera_id=1, name=\"P1180330.JPG\", triangulated=1331/9285)\n",
      "112 Image(image_id=112, camera_id=1, name=\"P1180331.JPG\", triangulated=1080/8238)\n",
      "113 Image(image_id=113, camera_id=1, name=\"P1180332.JPG\", triangulated=1004/8405)\n",
      "114 Image(image_id=114, camera_id=1, name=\"P1180333.JPG\", triangulated=838/7849)\n",
      "115 Image(image_id=115, camera_id=1, name=\"P1180334.JPG\", triangulated=632/7611)\n",
      "116 Image(image_id=116, camera_id=1, name=\"P1180335.JPG\", triangulated=273/11931)\n",
      "117 Image(image_id=117, camera_id=1, name=\"P1180336.JPG\", triangulated=787/7837)\n",
      "118 Image(image_id=118, camera_id=1, name=\"P1180337.JPG\", triangulated=1009/7970)\n",
      "119 Image(image_id=119, camera_id=1, name=\"P1180338.JPG\", triangulated=1203/7738)\n",
      "120 Image(image_id=120, camera_id=1, name=\"P1180339.JPG\", triangulated=1765/7849)\n",
      "121 Image(image_id=121, camera_id=1, name=\"P1180340.JPG\", triangulated=2179/9920)\n",
      "122 Image(image_id=122, camera_id=1, name=\"P1180341.JPG\", triangulated=1985/14080)\n",
      "123 Image(image_id=123, camera_id=1, name=\"P1180342.JPG\", triangulated=1822/10485)\n",
      "124 Image(image_id=124, camera_id=1, name=\"P1180343.JPG\", triangulated=2107/9570)\n",
      "125 Image(image_id=125, camera_id=1, name=\"P1180344.JPG\", triangulated=3599/11760)\n",
      "126 Image(image_id=126, camera_id=1, name=\"P1180345.JPG\", triangulated=2882/10151)\n",
      "127 Image(image_id=127, camera_id=1, name=\"P1180346.JPG\", triangulated=2195/8343)\n",
      "128 Image(image_id=128, camera_id=1, name=\"P1180347.JPG\", triangulated=3432/11434)\n"
     ]
    }
   ],
   "execution_count": 8
  },
  {
   "metadata": {
    "ExecuteTime": {
     "end_time": "2024-09-05T13:48:29.699326Z",
     "start_time": "2024-09-05T13:48:29.693217Z"
    }
   },
   "cell_type": "code",
   "source": [
    "img = reconstruction.images[1]\n",
    "\n",
    "help(img)"
   ],
   "id": "13f858b2ff9af513",
   "outputs": [
    {
     "name": "stdout",
     "output_type": "stream",
     "text": [
      "Help on Image in module pycolmap object:\n",
      "\n",
      "class Image(pybind11_builtins.pybind11_object)\n",
      " |  Method resolution order:\n",
      " |      Image\n",
      " |      pybind11_builtins.pybind11_object\n",
      " |      builtins.object\n",
      " |\n",
      " |  Methods defined here:\n",
      " |\n",
      " |  __copy__(...)\n",
      " |      __copy__(self: pycolmap.Image) -> pycolmap.Image\n",
      " |\n",
      " |  __deepcopy__(...)\n",
      " |      __deepcopy__(self: pycolmap.Image, arg0: dict) -> pycolmap.Image\n",
      " |\n",
      " |  __getstate__(...)\n",
      " |      __getstate__(self: pycolmap.Image) -> dict\n",
      " |\n",
      " |  __init__(...)\n",
      " |      __init__(*args, **kwargs)\n",
      " |      Overloaded function.\n",
      " |\n",
      " |      1. __init__(self: pycolmap.Image) -> None\n",
      " |\n",
      " |      2. __init__(self: pycolmap.Image, name: str = '', points2D: List[colmap::Point2D] = [], cam_from_world: pycolmap.Rigid3d = Rigid3d(quat_xyzw=[0, 0, 0, 1], t=[0, 0, 0]), camera_id: int = 4294967295, id: int = 4294967295) -> None\n",
      " |\n",
      " |      3. __init__(self: pycolmap.Image, name: str = '', keypoints: numpy.ndarray[numpy.float64[m, 2]] = array([], shape=(0, 2), dtype=float64), cam_from_world: pycolmap.Rigid3d = Rigid3d(quat_xyzw=[0, 0, 0, 1], t=[0, 0, 0]), camera_id: int = 4294967295, id: int = 4294967295) -> None\n",
      " |\n",
      " |      4. __init__(self: pycolmap.Image, arg0: dict) -> None\n",
      " |\n",
      " |      5. __init__(self: pycolmap.Image, **kwargs) -> None\n",
      " |\n",
      " |  __repr__(...)\n",
      " |      __repr__(self: pycolmap.Image) -> str\n",
      " |\n",
      " |  __setstate__(...)\n",
      " |      __setstate__(self: pycolmap.Image, arg0: dict) -> None\n",
      " |\n",
      " |  decrement_correspondence_has_point3D(...)\n",
      " |      decrement_correspondence_has_point3D(self: pycolmap.Image, arg0: int) -> None\n",
      " |\n",
      " |      Indicate that another image has a point that is not triangulated any more\n",
      " |      and has a correspondence to this image point. This assumes that\n",
      " |      `IncrementCorrespondenceHasPoint3D` was called for the same image point\n",
      " |      and correspondence before. Note that this must only be called\n",
      " |      after calling `SetUp`.\n",
      " |\n",
      " |  get_valid_point2D_ids(...)\n",
      " |      get_valid_point2D_ids(self: pycolmap.Image) -> List[int]\n",
      " |\n",
      " |  get_valid_points2D(...)\n",
      " |      get_valid_points2D(self: pycolmap.Image) -> List[colmap::Point2D]\n",
      " |\n",
      " |  has_camera(...)\n",
      " |      has_camera(self: pycolmap.Image) -> bool\n",
      " |\n",
      " |      Check whether identifier of camera has been set.\n",
      " |\n",
      " |  has_point3D(...)\n",
      " |      has_point3D(self: pycolmap.Image, arg0: int) -> bool\n",
      " |\n",
      " |      Check whether one of the image points is part of the 3D point track.\n",
      " |\n",
      " |  increment_correspondence_has_point3D(...)\n",
      " |      increment_correspondence_has_point3D(self: pycolmap.Image, arg0: int) -> None\n",
      " |\n",
      " |      Indicate that another image has a point that is triangulated and has\n",
      " |      a correspondence to this image point. Note that this must only be called\n",
      " |      after calling `SetUp`.\n",
      " |\n",
      " |  is_point3D_visible(...)\n",
      " |      is_point3D_visible(self: pycolmap.Image, arg0: int) -> bool\n",
      " |\n",
      " |      Check whether an image point has a correspondence to an image point in\n",
      " |      another image that has a 3D point.\n",
      " |\n",
      " |  mergedict(...)\n",
      " |      mergedict(self: object, arg0: dict) -> None\n",
      " |\n",
      " |  num_points2D(...)\n",
      " |      num_points2D(self: pycolmap.Image) -> int\n",
      " |\n",
      " |      Get the number of image points (keypoints).\n",
      " |\n",
      " |  num_visible_points3D(...)\n",
      " |      num_visible_points3D(self: pycolmap.Image) -> int\n",
      " |\n",
      " |      Get the number of observations that see a triangulated point, i.e. the\n",
      " |      number of image points that have at least one correspondence to a\n",
      " |      triangulated point in another image.\n",
      " |\n",
      " |  point3D_visibility_score(...)\n",
      " |      point3D_visibility_score(self: pycolmap.Image) -> int\n",
      " |\n",
      " |      Get the score of triangulated observations. In contrast to\n",
      " |      `NumVisiblePoints3D`, this score also captures the distribution\n",
      " |      of triangulated observations in the image. This is useful to select\n",
      " |      the next best image in incremental reconstruction, because a more\n",
      " |      uniform distribution of observations results in more robust registration.\n",
      " |\n",
      " |  projection_center(...)\n",
      " |      projection_center(self: pycolmap.Image) -> numpy.ndarray[numpy.float64[3, 1]]\n",
      " |\n",
      " |      Extract the projection center in world space.\n",
      " |\n",
      " |  reset_point3D_for_point2D(...)\n",
      " |      reset_point3D_for_point2D(self: pycolmap.Image, arg0: int) -> None\n",
      " |\n",
      " |      Set the point as not triangulated, i.e. it is not part of a 3D point track\n",
      " |\n",
      " |  set_point3D_for_point2D(...)\n",
      " |      set_point3D_for_point2D(self: pycolmap.Image, arg0: int, arg1: int) -> None\n",
      " |\n",
      " |      Set the point as triangulated, i.e. it is part of a 3D point track.\n",
      " |\n",
      " |  set_up(...)\n",
      " |      set_up(self: pycolmap.Image, arg0: colmap::Camera) -> None\n",
      " |\n",
      " |      Setup the image and necessary internal data structures before being used in reconstruction.\n",
      " |\n",
      " |  summary(...)\n",
      " |      summary(self: pycolmap.Image, write_type: bool = False) -> str\n",
      " |\n",
      " |  todict(...)\n",
      " |      todict(self: pycolmap.Image, recursive: bool = True) -> dict\n",
      " |\n",
      " |  viewing_direction(...)\n",
      " |      viewing_direction(self: pycolmap.Image) -> numpy.ndarray[numpy.float64[3, 1]]\n",
      " |\n",
      " |      Extract the viewing direction of the image.\n",
      " |\n",
      " |  ----------------------------------------------------------------------\n",
      " |  Readonly properties defined here:\n",
      " |\n",
      " |  num_points3D\n",
      " |      Get the number of triangulations, i.e. the number of points that\n",
      " |      are part of a 3D point track. (int, default: 0)\n",
      " |\n",
      " |  ----------------------------------------------------------------------\n",
      " |  Data descriptors defined here:\n",
      " |\n",
      " |  cam_from_world\n",
      " |      The pose of the image, defined as the transformation from world to camera space. (Rigid3d, default: Rigid3d(quat_xyzw=[0, 0, 0, 1], t=[0, 0, 0]))\n",
      " |\n",
      " |  cam_from_world_prior\n",
      " |      The pose prior of the image, e.g. extracted from EXIF tags. (Rigid3d, default: Rigid3d(quat_xyzw=[nan, nan, nan, nan], t=[nan, nan, nan]))\n",
      " |\n",
      " |  camera_id\n",
      " |      Unique identifier of the camera. (int, default: 4294967295)\n",
      " |\n",
      " |  image_id\n",
      " |      Unique identifier of image. (int, default: 4294967295)\n",
      " |\n",
      " |  name\n",
      " |      Name of the image. (str, default: )\n",
      " |\n",
      " |  num_correspondences\n",
      " |      Number of correspondences for all image points. (int, default: 0)\n",
      " |\n",
      " |  num_observations\n",
      " |      Number of observations, i.e. the number of image points that\n",
      " |      have at least one correspondence to another image. (int, default: 0)\n",
      " |\n",
      " |  points2D\n",
      " |      Array of Points2D (=keypoints). (list, default: [])\n",
      " |\n",
      " |  registered\n",
      " |      Whether image is registered in the reconstruction. (bool, default: False)\n",
      " |\n",
      " |  ----------------------------------------------------------------------\n",
      " |  Static methods inherited from pybind11_builtins.pybind11_object:\n",
      " |\n",
      " |  __new__(*args, **kwargs) class method of pybind11_builtins.pybind11_object\n",
      " |      Create and return a new object.  See help(type) for accurate signature.\n",
      "\n"
     ]
    }
   ],
   "execution_count": 9
  },
  {
   "metadata": {
    "ExecuteTime": {
     "end_time": "2024-09-05T13:48:31.136463Z",
     "start_time": "2024-09-05T13:48:31.116272Z"
    }
   },
   "cell_type": "code",
   "source": "img.points2D",
   "id": "787c2355522c4e44",
   "outputs": [
    {
     "data": {
      "text/plain": [
       "[Point2D(xy=[2406.48, 226.915], point3D_id=Invalid),\n",
       " Point2D(xy=[2368.02, 240.081], point3D_id=Invalid),\n",
       " Point2D(xy=[2430.59, 246.949], point3D_id=64471),\n",
       " Point2D(xy=[2394.29, 257.213], point3D_id=Invalid),\n",
       " Point2D(xy=[2383.74, 261.567], point3D_id=Invalid),\n",
       " Point2D(xy=[2399.71, 261.81], point3D_id=63474),\n",
       " Point2D(xy=[2891.16, 267.467], point3D_id=Invalid),\n",
       " Point2D(xy=[2394.12, 270.269], point3D_id=64022),\n",
       " Point2D(xy=[2394.12, 270.269], point3D_id=Invalid),\n",
       " Point2D(xy=[1747.07, 272.561], point3D_id=68244),\n",
       " Point2D(xy=[2890.34, 276.551], point3D_id=Invalid),\n",
       " Point2D(xy=[2319.26, 288.113], point3D_id=64023),\n",
       " Point2D(xy=[2409.46, 289.643], point3D_id=65021),\n",
       " Point2D(xy=[2719.73, 292.837], point3D_id=63478),\n",
       " Point2D(xy=[2563.48, 293.414], point3D_id=65398),\n",
       " Point2D(xy=[2685.94, 293.363], point3D_id=Invalid),\n",
       " Point2D(xy=[2373.19, 296.502], point3D_id=Invalid),\n",
       " Point2D(xy=[1680.48, 297.669], point3D_id=Invalid),\n",
       " Point2D(xy=[2576.5, 297.421], point3D_id=Invalid),\n",
       " Point2D(xy=[2914.5, 298.322], point3D_id=Invalid),\n",
       " Point2D(xy=[2768.82, 299.279], point3D_id=Invalid),\n",
       " Point2D(xy=[2440.86, 300.83], point3D_id=Invalid),\n",
       " Point2D(xy=[2440.86, 300.83], point3D_id=Invalid),\n",
       " Point2D(xy=[2566.85, 300.277], point3D_id=63479),\n",
       " Point2D(xy=[2685.62, 300.677], point3D_id=Invalid),\n",
       " Point2D(xy=[1850.79, 304.854], point3D_id=Invalid),\n",
       " Point2D(xy=[2358.91, 304.061], point3D_id=Invalid),\n",
       " Point2D(xy=[2358.91, 304.061], point3D_id=Invalid),\n",
       " Point2D(xy=[2409.99, 305.889], point3D_id=Invalid),\n",
       " Point2D(xy=[2885.62, 305.772], point3D_id=Invalid),\n",
       " Point2D(xy=[2885.62, 305.772], point3D_id=Invalid),\n",
       " Point2D(xy=[2636.24, 308.616], point3D_id=Invalid),\n",
       " Point2D(xy=[2603.07, 309.271], point3D_id=63020),\n",
       " Point2D(xy=[2873.07, 311.914], point3D_id=Invalid),\n",
       " Point2D(xy=[2873.07, 311.914], point3D_id=Invalid),\n",
       " Point2D(xy=[1655.88, 313.997], point3D_id=Invalid),\n",
       " Point2D(xy=[2548.95, 314.648], point3D_id=Invalid),\n",
       " Point2D(xy=[2890.32, 315.306], point3D_id=Invalid),\n",
       " Point2D(xy=[2890.32, 315.306], point3D_id=Invalid),\n",
       " Point2D(xy=[2575.68, 317.529], point3D_id=Invalid),\n",
       " Point2D(xy=[2646.82, 318.422], point3D_id=63483),\n",
       " Point2D(xy=[2328.52, 319.87], point3D_id=Invalid),\n",
       " Point2D(xy=[2444.08, 319.815], point3D_id=Invalid),\n",
       " Point2D(xy=[2700.94, 320.159], point3D_id=Invalid),\n",
       " Point2D(xy=[2563.63, 320.674], point3D_id=Invalid),\n",
       " Point2D(xy=[1638.63, 322.581], point3D_id=Invalid),\n",
       " Point2D(xy=[1638.63, 322.581], point3D_id=Invalid),\n",
       " Point2D(xy=[2894.51, 322.269], point3D_id=Invalid),\n",
       " Point2D(xy=[2538.86, 325.123], point3D_id=Invalid),\n",
       " Point2D(xy=[2778.24, 325.762], point3D_id=Invalid),\n",
       " Point2D(xy=[2808.68, 325.232], point3D_id=Invalid),\n",
       " Point2D(xy=[2521.25, 326.661], point3D_id=63484),\n",
       " Point2D(xy=[2856.53, 327.611], point3D_id=Invalid),\n",
       " Point2D(xy=[2306.95, 329.136], point3D_id=Invalid),\n",
       " Point2D(xy=[2624.02, 329.689], point3D_id=Invalid),\n",
       " Point2D(xy=[2581.36, 332.54], point3D_id=Invalid),\n",
       " Point2D(xy=[2427.05, 333.487], point3D_id=Invalid),\n",
       " Point2D(xy=[1648.16, 334.987], point3D_id=Invalid),\n",
       " Point2D(xy=[1694.6, 334.758], point3D_id=Invalid),\n",
       " Point2D(xy=[2848.97, 334.018], point3D_id=Invalid),\n",
       " Point2D(xy=[1711.57, 335.325], point3D_id=Invalid),\n",
       " Point2D(xy=[2834.46, 336.094], point3D_id=Invalid),\n",
       " Point2D(xy=[2889.84, 337.384], point3D_id=Invalid),\n",
       " Point2D(xy=[2889.84, 337.384], point3D_id=Invalid),\n",
       " Point2D(xy=[2474.57, 338.989], point3D_id=Invalid),\n",
       " Point2D(xy=[2563.92, 339.654], point3D_id=Invalid),\n",
       " Point2D(xy=[1776.46, 341.654], point3D_id=Invalid),\n",
       " Point2D(xy=[2744.15, 345.063], point3D_id=Invalid),\n",
       " Point2D(xy=[2744.15, 345.063], point3D_id=Invalid),\n",
       " Point2D(xy=[2308.73, 346.651], point3D_id=Invalid),\n",
       " Point2D(xy=[2479.98, 346.59], point3D_id=Invalid),\n",
       " Point2D(xy=[2337.49, 347.731], point3D_id=Invalid),\n",
       " Point2D(xy=[2337.49, 347.731], point3D_id=Invalid),\n",
       " Point2D(xy=[1755.78, 349.445], point3D_id=Invalid),\n",
       " Point2D(xy=[2871.16, 352.534], point3D_id=Invalid),\n",
       " Point2D(xy=[2382.04, 353.363], point3D_id=Invalid),\n",
       " Point2D(xy=[2433.79, 356.564], point3D_id=Invalid),\n",
       " Point2D(xy=[2281.66, 359.054], point3D_id=Invalid),\n",
       " Point2D(xy=[2281.66, 359.054], point3D_id=Invalid),\n",
       " Point2D(xy=[2296.59, 358.414], point3D_id=Invalid),\n",
       " Point2D(xy=[2296.59, 358.414], point3D_id=Invalid),\n",
       " Point2D(xy=[2377.91, 359.242], point3D_id=Invalid),\n",
       " Point2D(xy=[2758.23, 360.715], point3D_id=64485),\n",
       " Point2D(xy=[2643.41, 363.534], point3D_id=Invalid),\n",
       " Point2D(xy=[2789.4, 363.091], point3D_id=Invalid),\n",
       " Point2D(xy=[1715.64, 364.785], point3D_id=Invalid),\n",
       " Point2D(xy=[1808.02, 363.844], point3D_id=Invalid),\n",
       " Point2D(xy=[2367.72, 365.625], point3D_id=Invalid),\n",
       " Point2D(xy=[2563.84, 365.83], point3D_id=Invalid),\n",
       " Point2D(xy=[2634.46, 365.5], point3D_id=Invalid),\n",
       " Point2D(xy=[2747.11, 364.806], point3D_id=Invalid),\n",
       " Point2D(xy=[2282.69, 366.551], point3D_id=Invalid),\n",
       " Point2D(xy=[2282.69, 366.551], point3D_id=Invalid),\n",
       " Point2D(xy=[1489.46, 367.816], point3D_id=Invalid),\n",
       " Point2D(xy=[2754.46, 367.841], point3D_id=Invalid),\n",
       " Point2D(xy=[2754.46, 367.841], point3D_id=Invalid),\n",
       " Point2D(xy=[1804.54, 370.437], point3D_id=64026),\n",
       " Point2D(xy=[2243.56, 371.223], point3D_id=64025),\n",
       " Point2D(xy=[2604.24, 372.327], point3D_id=Invalid),\n",
       " Point2D(xy=[2546.19, 372.498], point3D_id=Invalid),\n",
       " Point2D(xy=[2620.9, 373.263], point3D_id=Invalid),\n",
       " Point2D(xy=[2620.9, 373.263], point3D_id=Invalid),\n",
       " Point2D(xy=[2658.45, 373.557], point3D_id=Invalid),\n",
       " Point2D(xy=[2898.5, 373.667], point3D_id=Invalid),\n",
       " Point2D(xy=[1818.01, 374.137], point3D_id=Invalid),\n",
       " Point2D(xy=[2420.42, 374.118], point3D_id=Invalid),\n",
       " Point2D(xy=[2799.75, 375.237], point3D_id=Invalid),\n",
       " Point2D(xy=[2565.67, 376.4], point3D_id=Invalid),\n",
       " Point2D(xy=[2644.58, 376.833], point3D_id=Invalid),\n",
       " Point2D(xy=[2742.21, 376.919], point3D_id=Invalid),\n",
       " Point2D(xy=[2300.02, 377.408], point3D_id=Invalid),\n",
       " Point2D(xy=[2382.64, 377.195], point3D_id=Invalid),\n",
       " Point2D(xy=[2792.43, 377.909], point3D_id=Invalid),\n",
       " Point2D(xy=[2519.65, 378.643], point3D_id=Invalid),\n",
       " Point2D(xy=[1814.35, 380.377], point3D_id=Invalid),\n",
       " Point2D(xy=[2883.2, 381.948], point3D_id=Invalid),\n",
       " Point2D(xy=[1651.58, 383.017], point3D_id=Invalid),\n",
       " Point2D(xy=[1651.58, 383.017], point3D_id=Invalid),\n",
       " Point2D(xy=[1827.93, 383.741], point3D_id=Invalid),\n",
       " Point2D(xy=[1861.17, 383.778], point3D_id=64028),\n",
       " Point2D(xy=[2295.79, 383.094], point3D_id=Invalid),\n",
       " Point2D(xy=[2311.28, 384.099], point3D_id=Invalid),\n",
       " Point2D(xy=[2489.7, 385.24], point3D_id=Invalid),\n",
       " Point2D(xy=[2717.73, 386.848], point3D_id=Invalid),\n",
       " Point2D(xy=[2760.89, 386.878], point3D_id=Invalid),\n",
       " Point2D(xy=[2362.69, 387.385], point3D_id=Invalid),\n",
       " Point2D(xy=[2362.69, 387.385], point3D_id=Invalid),\n",
       " Point2D(xy=[2814.2, 387.256], point3D_id=Invalid),\n",
       " Point2D(xy=[2302.86, 388.594], point3D_id=Invalid),\n",
       " Point2D(xy=[2302.86, 388.594], point3D_id=Invalid),\n",
       " Point2D(xy=[2543.14, 389.461], point3D_id=Invalid),\n",
       " Point2D(xy=[2543.14, 389.461], point3D_id=Invalid),\n",
       " Point2D(xy=[1824.35, 390.835], point3D_id=Invalid),\n",
       " Point2D(xy=[2777.91, 390.534], point3D_id=Invalid),\n",
       " Point2D(xy=[2568.04, 391.979], point3D_id=Invalid),\n",
       " Point2D(xy=[2865.65, 392.664], point3D_id=Invalid),\n",
       " Point2D(xy=[1838.02, 394.19], point3D_id=Invalid),\n",
       " Point2D(xy=[2287.21, 394.456], point3D_id=Invalid),\n",
       " Point2D(xy=[2519.74, 394.324], point3D_id=Invalid),\n",
       " Point2D(xy=[2711.47, 394.889], point3D_id=Invalid),\n",
       " Point2D(xy=[2711.47, 394.889], point3D_id=Invalid),\n",
       " Point2D(xy=[2448.19, 395.611], point3D_id=Invalid),\n",
       " Point2D(xy=[2494.77, 396.467], point3D_id=Invalid),\n",
       " Point2D(xy=[2653.04, 396.75], point3D_id=Invalid),\n",
       " Point2D(xy=[2439.82, 397.218], point3D_id=Invalid),\n",
       " Point2D(xy=[1667.2, 398.249], point3D_id=Invalid),\n",
       " Point2D(xy=[2475.41, 399.803], point3D_id=Invalid),\n",
       " Point2D(xy=[1397.78, 400.474], point3D_id=63664),\n",
       " Point2D(xy=[2501.06, 400.187], point3D_id=Invalid),\n",
       " Point2D(xy=[1571.83, 402.438], point3D_id=Invalid),\n",
       " Point2D(xy=[1840.38, 403.91], point3D_id=Invalid),\n",
       " Point2D(xy=[1847.74, 403.494], point3D_id=Invalid),\n",
       " Point2D(xy=[2267.92, 403.226], point3D_id=Invalid),\n",
       " Point2D(xy=[2279.42, 403.84], point3D_id=Invalid),\n",
       " Point2D(xy=[2461.68, 408.7], point3D_id=Invalid),\n",
       " Point2D(xy=[2461.68, 408.7], point3D_id=Invalid),\n",
       " Point2D(xy=[2204.5, 409.547], point3D_id=Invalid),\n",
       " Point2D(xy=[1513.02, 411.003], point3D_id=Invalid),\n",
       " Point2D(xy=[1888.92, 410.964], point3D_id=Invalid),\n",
       " Point2D(xy=[1888.92, 410.964], point3D_id=64032),\n",
       " Point2D(xy=[1857.63, 413.175], point3D_id=Invalid),\n",
       " Point2D(xy=[2431.37, 412.622], point3D_id=Invalid),\n",
       " Point2D(xy=[2431.37, 412.622], point3D_id=Invalid),\n",
       " Point2D(xy=[1722.49, 413.616], point3D_id=Invalid),\n",
       " Point2D(xy=[1760.68, 413.267], point3D_id=64033),\n",
       " Point2D(xy=[1760.68, 413.267], point3D_id=64034),\n",
       " Point2D(xy=[2251.75, 413.137], point3D_id=63490),\n",
       " Point2D(xy=[2251.75, 413.137], point3D_id=63491),\n",
       " Point2D(xy=[2738.11, 413.594], point3D_id=Invalid),\n",
       " Point2D(xy=[1791.93, 414.429], point3D_id=Invalid),\n",
       " Point2D(xy=[2844.73, 414.273], point3D_id=Invalid),\n",
       " Point2D(xy=[2844.73, 414.273], point3D_id=Invalid),\n",
       " Point2D(xy=[2689.51, 417.651], point3D_id=Invalid),\n",
       " Point2D(xy=[1853.86, 419.03], point3D_id=Invalid),\n",
       " Point2D(xy=[2732.58, 419.479], point3D_id=Invalid),\n",
       " Point2D(xy=[2253.88, 420.991], point3D_id=63493),\n",
       " Point2D(xy=[2506.98, 420.437], point3D_id=Invalid),\n",
       " Point2D(xy=[2586.58, 420.952], point3D_id=Invalid),\n",
       " Point2D(xy=[2417.28, 421.413], point3D_id=Invalid),\n",
       " Point2D(xy=[2665.45, 421.238], point3D_id=Invalid),\n",
       " Point2D(xy=[2712.25, 421.551], point3D_id=Invalid),\n",
       " Point2D(xy=[1860.67, 422.79], point3D_id=Invalid),\n",
       " Point2D(xy=[1867.44, 423.167], point3D_id=Invalid),\n",
       " Point2D(xy=[2247.06, 425.9], point3D_id=Invalid),\n",
       " Point2D(xy=[2495.65, 425.543], point3D_id=Invalid),\n",
       " Point2D(xy=[2258.61, 426.269], point3D_id=Invalid),\n",
       " Point2D(xy=[2308.25, 427.141], point3D_id=64029),\n",
       " Point2D(xy=[2579.87, 427.302], point3D_id=Invalid),\n",
       " Point2D(xy=[1539.93, 428.721], point3D_id=Invalid),\n",
       " Point2D(xy=[1863.51, 429.06], point3D_id=Invalid),\n",
       " Point2D(xy=[2230.36, 428.484], point3D_id=Invalid),\n",
       " Point2D(xy=[1684.1, 429.111], point3D_id=Invalid),\n",
       " Point2D(xy=[2024.51, 431.362], point3D_id=Invalid),\n",
       " Point2D(xy=[2362.76, 431.725], point3D_id=63495),\n",
       " Point2D(xy=[1877.41, 433.258], point3D_id=Invalid),\n",
       " Point2D(xy=[2950.19, 433.388], point3D_id=Invalid),\n",
       " Point2D(xy=[2950.19, 433.388], point3D_id=Invalid),\n",
       " Point2D(xy=[2109.7, 434.799], point3D_id=Invalid),\n",
       " Point2D(xy=[2109.7, 434.799], point3D_id=Invalid),\n",
       " Point2D(xy=[2313.18, 435.16], point3D_id=65604),\n",
       " Point2D(xy=[1677.28, 435.736], point3D_id=Invalid),\n",
       " Point2D(xy=[2051.81, 435.714], point3D_id=63492),\n",
       " Point2D(xy=[2299.8, 435.783], point3D_id=Invalid),\n",
       " Point2D(xy=[2210.71, 436.94], point3D_id=Invalid),\n",
       " Point2D(xy=[2210.71, 436.94], point3D_id=Invalid),\n",
       " Point2D(xy=[2352.85, 436.783], point3D_id=63497),\n",
       " Point2D(xy=[2393.73, 436.994], point3D_id=Invalid),\n",
       " Point2D(xy=[2137.58, 438.262], point3D_id=64031),\n",
       " Point2D(xy=[2072.84, 439.514], point3D_id=Invalid),\n",
       " Point2D(xy=[2754.71, 439.046], point3D_id=Invalid),\n",
       " Point2D(xy=[2754.71, 439.046], point3D_id=Invalid),\n",
       " Point2D(xy=[2827.63, 441.488], point3D_id=Invalid),\n",
       " Point2D(xy=[1531.05, 442.098], point3D_id=Invalid),\n",
       " Point2D(xy=[1531.05, 442.098], point3D_id=Invalid),\n",
       " Point2D(xy=[1887.16, 442.726], point3D_id=Invalid),\n",
       " Point2D(xy=[1512.98, 445.066], point3D_id=Invalid),\n",
       " Point2D(xy=[1512.98, 445.066], point3D_id=Invalid),\n",
       " Point2D(xy=[2235.1, 445.567], point3D_id=Invalid),\n",
       " Point2D(xy=[2814.49, 447.538], point3D_id=Invalid),\n",
       " Point2D(xy=[2881.34, 447.546], point3D_id=Invalid),\n",
       " Point2D(xy=[2303.86, 448.413], point3D_id=Invalid),\n",
       " Point2D(xy=[1501.57, 449.693], point3D_id=Invalid),\n",
       " Point2D(xy=[1501.57, 449.693], point3D_id=Invalid),\n",
       " Point2D(xy=[2167.74, 450.772], point3D_id=Invalid),\n",
       " Point2D(xy=[2317.9, 450.424], point3D_id=Invalid),\n",
       " Point2D(xy=[2711.71, 450.421], point3D_id=Invalid),\n",
       " Point2D(xy=[2186.72, 451.232], point3D_id=Invalid),\n",
       " Point2D(xy=[2413.71, 451.441], point3D_id=Invalid),\n",
       " Point2D(xy=[2413.71, 451.441], point3D_id=Invalid),\n",
       " Point2D(xy=[1897.12, 452.755], point3D_id=Invalid),\n",
       " Point2D(xy=[2099.4, 452.47], point3D_id=Invalid),\n",
       " Point2D(xy=[2311.17, 451.966], point3D_id=64493),\n",
       " Point2D(xy=[2311.17, 451.966], point3D_id=64494),\n",
       " Point2D(xy=[1489.95, 453.691], point3D_id=Invalid),\n",
       " Point2D(xy=[2831.25, 453.351], point3D_id=Invalid),\n",
       " Point2D(xy=[2884.67, 453.641], point3D_id=Invalid),\n",
       " Point2D(xy=[2544.51, 456.308], point3D_id=Invalid),\n",
       " Point2D(xy=[2837.7, 456.471], point3D_id=Invalid),\n",
       " Point2D(xy=[2837.7, 456.471], point3D_id=Invalid),\n",
       " Point2D(xy=[1478.25, 458.881], point3D_id=Invalid),\n",
       " Point2D(xy=[1478.25, 458.881], point3D_id=Invalid),\n",
       " Point2D(xy=[2600.7, 460.061], point3D_id=Invalid),\n",
       " Point2D(xy=[1906.84, 461.966], point3D_id=Invalid),\n",
       " Point2D(xy=[1356.55, 463.211], point3D_id=Invalid),\n",
       " Point2D(xy=[1466.72, 463.352], point3D_id=Invalid),\n",
       " Point2D(xy=[1466.72, 463.352], point3D_id=Invalid),\n",
       " Point2D(xy=[2267.42, 463.8], point3D_id=Invalid),\n",
       " Point2D(xy=[1703.88, 464.387], point3D_id=Invalid),\n",
       " Point2D(xy=[2647.39, 464.271], point3D_id=Invalid),\n",
       " Point2D(xy=[2647.39, 464.271], point3D_id=Invalid),\n",
       " Point2D(xy=[2065.55, 465.72], point3D_id=Invalid),\n",
       " Point2D(xy=[2099.02, 465.131], point3D_id=Invalid),\n",
       " Point2D(xy=[2772.3, 465.542], point3D_id=Invalid),\n",
       " Point2D(xy=[2934.1, 465.467], point3D_id=Invalid),\n",
       " Point2D(xy=[1473.37, 466.068], point3D_id=Invalid),\n",
       " Point2D(xy=[2715.14, 466.333], point3D_id=Invalid),\n",
       " Point2D(xy=[2333.91, 467.832], point3D_id=Invalid),\n",
       " Point2D(xy=[2333.91, 467.832], point3D_id=Invalid),\n",
       " Point2D(xy=[2476.68, 467.545], point3D_id=Invalid),\n",
       " Point2D(xy=[1454.98, 467.829], point3D_id=Invalid),\n",
       " Point2D(xy=[1454.98, 467.829], point3D_id=Invalid),\n",
       " Point2D(xy=[1727.77, 468.101], point3D_id=Invalid),\n",
       " Point2D(xy=[2611.48, 468.2], point3D_id=Invalid),\n",
       " Point2D(xy=[2611.48, 468.2], point3D_id=Invalid),\n",
       " Point2D(xy=[2900.41, 468.747], point3D_id=Invalid),\n",
       " Point2D(xy=[1461.23, 470.402], point3D_id=Invalid),\n",
       " Point2D(xy=[2090.38, 470.493], point3D_id=Invalid),\n",
       " Point2D(xy=[2090.38, 470.493], point3D_id=Invalid),\n",
       " Point2D(xy=[1575.24, 471.43], point3D_id=Invalid),\n",
       " Point2D(xy=[1442.94, 472.394], point3D_id=Invalid),\n",
       " Point2D(xy=[1442.94, 472.394], point3D_id=Invalid),\n",
       " Point2D(xy=[1909.26, 471.828], point3D_id=Invalid),\n",
       " Point2D(xy=[1916.5, 472.111], point3D_id=Invalid),\n",
       " Point2D(xy=[1098.59, 473.873], point3D_id=8169),\n",
       " Point2D(xy=[2796.45, 473.056], point3D_id=Invalid),\n",
       " Point2D(xy=[1419.44, 474.691], point3D_id=Invalid),\n",
       " Point2D(xy=[1449.69, 475.371], point3D_id=Invalid),\n",
       " Point2D(xy=[1113.24, 476.863], point3D_id=Invalid),\n",
       " Point2D(xy=[1430.84, 477.45], point3D_id=Invalid),\n",
       " Point2D(xy=[1430.84, 477.45], point3D_id=Invalid),\n",
       " Point2D(xy=[2222.08, 478.344], point3D_id=Invalid),\n",
       " Point2D(xy=[2124.87, 479.09], point3D_id=Invalid),\n",
       " Point2D(xy=[2490.32, 479.697], point3D_id=Invalid),\n",
       " Point2D(xy=[2490.32, 479.697], point3D_id=Invalid),\n",
       " Point2D(xy=[1437.39, 480.127], point3D_id=Invalid),\n",
       " Point2D(xy=[2569.36, 480.297], point3D_id=Invalid),\n",
       " Point2D(xy=[2569.36, 480.297], point3D_id=Invalid),\n",
       " Point2D(xy=[2790.83, 480.824], point3D_id=Invalid),\n",
       " Point2D(xy=[2790.83, 480.824], point3D_id=Invalid),\n",
       " Point2D(xy=[1587.21, 480.782], point3D_id=Invalid),\n",
       " Point2D(xy=[1587.21, 480.782], point3D_id=Invalid),\n",
       " Point2D(xy=[1919.31, 481.387], point3D_id=Invalid),\n",
       " Point2D(xy=[1926.23, 481.351], point3D_id=Invalid),\n",
       " Point2D(xy=[1961.3, 481.471], point3D_id=Invalid),\n",
       " Point2D(xy=[2019.84, 481.88], point3D_id=Invalid),\n",
       " Point2D(xy=[2466.19, 481.402], point3D_id=Invalid),\n",
       " Point2D(xy=[1129.78, 482.439], point3D_id=Invalid),\n",
       " Point2D(xy=[1129.78, 482.439], point3D_id=Invalid),\n",
       " Point2D(xy=[1418.82, 482.427], point3D_id=Invalid),\n",
       " Point2D(xy=[1418.82, 482.427], point3D_id=Invalid),\n",
       " Point2D(xy=[2634.77, 483.468], point3D_id=Invalid),\n",
       " Point2D(xy=[2668.84, 483.591], point3D_id=Invalid),\n",
       " Point2D(xy=[2850.26, 483.059], point3D_id=Invalid),\n",
       " Point2D(xy=[1425.58, 484.551], point3D_id=Invalid),\n",
       " Point2D(xy=[2445.43, 484.787], point3D_id=Invalid),\n",
       " Point2D(xy=[2130.97, 487.022], point3D_id=Invalid),\n",
       " Point2D(xy=[2492.6, 486.596], point3D_id=Invalid),\n",
       " Point2D(xy=[2684.46, 486.857], point3D_id=Invalid),\n",
       " Point2D(xy=[1082.13, 487.796], point3D_id=Invalid),\n",
       " Point2D(xy=[1407.13, 486.949], point3D_id=Invalid),\n",
       " Point2D(xy=[2057.65, 487.538], point3D_id=Invalid),\n",
       " Point2D(xy=[2646.32, 487.904], point3D_id=Invalid),\n",
       " Point2D(xy=[1563.05, 489.97], point3D_id=Invalid),\n",
       " Point2D(xy=[2218.57, 489.946], point3D_id=Invalid),\n",
       " Point2D(xy=[2770.62, 489.208], point3D_id=Invalid),\n",
       " Point2D(xy=[2770.62, 489.208], point3D_id=Invalid),\n",
       " Point2D(xy=[1413.48, 490.022], point3D_id=Invalid),\n",
       " Point2D(xy=[1936.06, 490.813], point3D_id=Invalid),\n",
       " Point2D(xy=[2170.38, 491.793], point3D_id=Invalid),\n",
       " Point2D(xy=[2170.38, 491.793], point3D_id=Invalid),\n",
       " Point2D(xy=[1112.86, 492.458], point3D_id=Invalid),\n",
       " Point2D(xy=[1112.86, 492.458], point3D_id=Invalid),\n",
       " Point2D(xy=[1395.11, 491.759], point3D_id=Invalid),\n",
       " Point2D(xy=[2381.62, 492.874], point3D_id=Invalid),\n",
       " Point2D(xy=[2688.72, 492.828], point3D_id=Invalid),\n",
       " Point2D(xy=[1075.14, 493.32], point3D_id=Invalid),\n",
       " Point2D(xy=[2438.74, 493.115], point3D_id=Invalid),\n",
       " Point2D(xy=[1401.71, 494.205], point3D_id=Invalid),\n",
       " Point2D(xy=[2633.74, 494.49], point3D_id=Invalid),\n",
       " Point2D(xy=[2481.78, 495.47], point3D_id=Invalid),\n",
       " Point2D(xy=[1382.99, 496.228], point3D_id=Invalid),\n",
       " Point2D(xy=[1382.99, 496.228], point3D_id=Invalid),\n",
       " Point2D(xy=[2533.56, 496.212], point3D_id=Invalid),\n",
       " Point2D(xy=[2555.44, 497.649], point3D_id=Invalid),\n",
       " Point2D(xy=[2555.44, 497.649], point3D_id=Invalid),\n",
       " Point2D(xy=[1389.91, 499.217], point3D_id=Invalid),\n",
       " Point2D(xy=[1945.69, 500.119], point3D_id=Invalid),\n",
       " Point2D(xy=[2075.13, 499.209], point3D_id=Invalid),\n",
       " Point2D(xy=[1581.23, 500.169], point3D_id=Invalid),\n",
       " Point2D(xy=[1581.23, 500.169], point3D_id=Invalid),\n",
       " Point2D(xy=[1938.19, 500.74], point3D_id=Invalid),\n",
       " Point2D(xy=[1370.39, 501.015], point3D_id=Invalid),\n",
       " Point2D(xy=[2197.45, 501.478], point3D_id=Invalid),\n",
       " Point2D(xy=[2538.65, 501.773], point3D_id=Invalid),\n",
       " Point2D(xy=[2538.65, 501.773], point3D_id=Invalid),\n",
       " Point2D(xy=[2743.65, 501.46], point3D_id=Invalid),\n",
       " Point2D(xy=[2743.65, 501.46], point3D_id=Invalid),\n",
       " Point2D(xy=[2519.58, 502.557], point3D_id=Invalid),\n",
       " Point2D(xy=[2519.58, 502.557], point3D_id=Invalid),\n",
       " Point2D(xy=[2610.27, 502.493], point3D_id=Invalid),\n",
       " Point2D(xy=[1377.51, 503.51], point3D_id=65031),\n",
       " Point2D(xy=[2122.6, 505.689], point3D_id=Invalid),\n",
       " Point2D(xy=[2122.6, 505.689], point3D_id=Invalid),\n",
       " Point2D(xy=[1358.1, 506.125], point3D_id=Invalid),\n",
       " Point2D(xy=[1358.1, 506.125], point3D_id=Invalid),\n",
       " Point2D(xy=[2457.63, 507.633], point3D_id=Invalid),\n",
       " Point2D(xy=[2534.34, 507.281], point3D_id=Invalid),\n",
       " Point2D(xy=[2807.88, 507.793], point3D_id=Invalid),\n",
       " Point2D(xy=[2847.27, 507.139], point3D_id=Invalid),\n",
       " Point2D(xy=[1794.75, 508.957], point3D_id=Invalid),\n",
       " Point2D(xy=[2544.32, 508.316], point3D_id=Invalid),\n",
       " Point2D(xy=[2544.32, 508.316], point3D_id=Invalid),\n",
       " Point2D(xy=[1365.01, 509.007], point3D_id=65818),\n",
       " Point2D(xy=[1947.92, 509.684], point3D_id=Invalid),\n",
       " Point2D(xy=[1955.46, 509.175], point3D_id=Invalid),\n",
       " Point2D(xy=[2085.87, 508.588], point3D_id=Invalid),\n",
       " Point2D(xy=[2324.56, 509.871], point3D_id=Invalid),\n",
       " Point2D(xy=[3021.25, 510.373], point3D_id=Invalid),\n",
       " Point2D(xy=[1345.86, 511.038], point3D_id=Invalid),\n",
       " Point2D(xy=[1345.86, 511.038], point3D_id=Invalid),\n",
       " Point2D(xy=[2128.89, 511.151], point3D_id=Invalid),\n",
       " Point2D(xy=[2283.66, 511.929], point3D_id=Invalid),\n",
       " Point2D(xy=[2283.66, 511.929], point3D_id=Invalid),\n",
       " Point2D(xy=[2990.4, 512.591], point3D_id=Invalid),\n",
       " Point2D(xy=[1352.48, 513.458], point3D_id=Invalid),\n",
       " Point2D(xy=[2732.42, 513.266], point3D_id=Invalid),\n",
       " Point2D(xy=[1951.94, 515.646], point3D_id=Invalid),\n",
       " Point2D(xy=[2203.74, 515.444], point3D_id=Invalid),\n",
       " Point2D(xy=[2290.54, 515.721], point3D_id=Invalid),\n",
       " Point2D(xy=[2290.54, 515.721], point3D_id=Invalid),\n",
       " Point2D(xy=[2701.07, 515.759], point3D_id=Invalid),\n",
       " Point2D(xy=[2862.14, 515.277], point3D_id=Invalid),\n",
       " Point2D(xy=[2862.14, 515.277], point3D_id=Invalid),\n",
       " Point2D(xy=[2939.67, 515.654], point3D_id=Invalid),\n",
       " Point2D(xy=[1333.3, 516.113], point3D_id=Invalid),\n",
       " Point2D(xy=[1333.3, 516.113], point3D_id=Invalid),\n",
       " Point2D(xy=[1518.1, 516.139], point3D_id=Invalid),\n",
       " Point2D(xy=[1879.35, 516.458], point3D_id=64035),\n",
       " Point2D(xy=[2431.16, 516.22], point3D_id=Invalid),\n",
       " Point2D(xy=[2431.16, 516.22], point3D_id=Invalid),\n",
       " Point2D(xy=[2692.16, 516.087], point3D_id=Invalid),\n",
       " Point2D(xy=[2335.1, 516.851], point3D_id=Invalid),\n",
       " Point2D(xy=[2352.85, 517.494], point3D_id=Invalid),\n",
       " Point2D(xy=[2623.87, 518.263], point3D_id=Invalid),\n",
       " Point2D(xy=[2623.87, 518.263], point3D_id=Invalid),\n",
       " Point2D(xy=[1340.12, 518.809], point3D_id=Invalid),\n",
       " Point2D(xy=[2224.64, 518.491], point3D_id=Invalid),\n",
       " Point2D(xy=[2298.97, 518.961], point3D_id=Invalid),\n",
       " Point2D(xy=[1957.57, 519.475], point3D_id=Invalid),\n",
       " Point2D(xy=[1965.23, 519.601], point3D_id=Invalid),\n",
       " Point2D(xy=[2947.81, 518.876], point3D_id=Invalid),\n",
       " Point2D(xy=[2947.81, 518.876], point3D_id=Invalid),\n",
       " Point2D(xy=[2713.12, 520.297], point3D_id=Invalid),\n",
       " Point2D(xy=[1320.98, 520.773], point3D_id=Invalid),\n",
       " Point2D(xy=[1320.98, 520.773], point3D_id=65615),\n",
       " Point2D(xy=[2306.96, 520.885], point3D_id=Invalid),\n",
       " Point2D(xy=[2937.1, 521.496], point3D_id=Invalid),\n",
       " Point2D(xy=[1327.77, 523.524], point3D_id=Invalid),\n",
       " Point2D(xy=[1521.6, 523.027], point3D_id=Invalid),\n",
       " Point2D(xy=[2104.19, 523.924], point3D_id=Invalid),\n",
       " Point2D(xy=[2160.02, 523.451], point3D_id=Invalid),\n",
       " Point2D(xy=[2160.02, 523.451], point3D_id=Invalid),\n",
       " Point2D(xy=[2281.26, 523.117], point3D_id=Invalid),\n",
       " Point2D(xy=[2444.27, 523.74], point3D_id=Invalid),\n",
       " Point2D(xy=[2205.5, 524.209], point3D_id=Invalid),\n",
       " Point2D(xy=[2752.49, 524.935], point3D_id=Invalid),\n",
       " Point2D(xy=[2752.49, 524.935], point3D_id=Invalid),\n",
       " Point2D(xy=[2927.53, 525.067], point3D_id=Invalid),\n",
       " Point2D(xy=[2974.63, 524.713], point3D_id=Invalid),\n",
       " Point2D(xy=[2974.63, 524.713], point3D_id=Invalid),\n",
       " Point2D(xy=[2982.15, 526.303], point3D_id=Invalid),\n",
       " Point2D(xy=[1974.84, 528.641], point3D_id=Invalid),\n",
       " Point2D(xy=[2558.43, 528.432], point3D_id=Invalid),\n",
       " Point2D(xy=[2558.43, 528.432], point3D_id=Invalid),\n",
       " Point2D(xy=[2621.29, 528.823], point3D_id=Invalid),\n",
       " Point2D(xy=[1398, 530.25], point3D_id=Invalid),\n",
       " Point2D(xy=[2288.65, 530.266], point3D_id=Invalid),\n",
       " Point2D(xy=[2288.65, 530.266], point3D_id=Invalid),\n",
       " Point2D(xy=[2760.96, 530.73], point3D_id=Invalid),\n",
       " Point2D(xy=[1295.68, 530.872], point3D_id=Invalid),\n",
       " Point2D(xy=[1295.68, 530.872], point3D_id=Invalid),\n",
       " Point2D(xy=[2433.21, 532.769], point3D_id=Invalid),\n",
       " Point2D(xy=[2731.23, 532.296], point3D_id=Invalid),\n",
       " Point2D(xy=[3024.83, 533.616], point3D_id=Invalid),\n",
       " Point2D(xy=[2361.83, 535.623], point3D_id=Invalid),\n",
       " Point2D(xy=[2483.08, 535.234], point3D_id=Invalid),\n",
       " Point2D(xy=[1520.08, 536.413], point3D_id=Invalid),\n",
       " Point2D(xy=[2840.17, 537.714], point3D_id=Invalid),\n",
       " Point2D(xy=[1289.97, 538.065], point3D_id=Invalid),\n",
       " Point2D(xy=[1976.2, 538.56], point3D_id=64501),\n",
       " Point2D(xy=[1984.24, 538.313], point3D_id=Invalid),\n",
       " Point2D(xy=[2748.34, 538.549], point3D_id=Invalid),\n",
       " Point2D(xy=[2127.11, 539.088], point3D_id=Invalid),\n",
       " Point2D(xy=[2127.11, 539.088], point3D_id=Invalid),\n",
       " Point2D(xy=[1269.98, 540.692], point3D_id=Invalid),\n",
       " Point2D(xy=[1269.98, 540.692], point3D_id=Invalid),\n",
       " Point2D(xy=[2134.35, 540.901], point3D_id=Invalid),\n",
       " Point2D(xy=[3037.57, 541.387], point3D_id=Invalid),\n",
       " Point2D(xy=[1706.6, 542.403], point3D_id=Invalid),\n",
       " Point2D(xy=[1742.47, 542.243], point3D_id=Invalid),\n",
       " Point2D(xy=[2630.43, 543.744], point3D_id=Invalid),\n",
       " Point2D(xy=[2413.07, 546.187], point3D_id=Invalid),\n",
       " Point2D(xy=[2752.6, 545.434], point3D_id=Invalid),\n",
       " Point2D(xy=[2915.63, 545.184], point3D_id=Invalid),\n",
       " Point2D(xy=[2915.63, 545.184], point3D_id=Invalid),\n",
       " Point2D(xy=[2924.96, 546.138], point3D_id=Invalid),\n",
       " Point2D(xy=[2924.96, 546.138], point3D_id=Invalid),\n",
       " Point2D(xy=[1256.72, 545.746], point3D_id=64038),\n",
       " Point2D(xy=[1256.72, 545.746], point3D_id=64037),\n",
       " Point2D(xy=[1662.47, 546.397], point3D_id=Invalid),\n",
       " Point2D(xy=[1778.17, 547.037], point3D_id=Invalid),\n",
       " Point2D(xy=[1993.74, 547.851], point3D_id=Invalid),\n",
       " Point2D(xy=[2768.79, 547.602], point3D_id=Invalid),\n",
       " Point2D(xy=[2768.79, 547.602], point3D_id=Invalid),\n",
       " Point2D(xy=[1263.88, 548.222], point3D_id=Invalid),\n",
       " Point2D(xy=[1986.05, 548.303], point3D_id=Invalid),\n",
       " Point2D(xy=[2516.58, 548.563], point3D_id=Invalid),\n",
       " Point2D(xy=[2516.58, 548.563], point3D_id=Invalid),\n",
       " Point2D(xy=[2866.68, 548.328], point3D_id=Invalid),\n",
       " Point2D(xy=[2948.02, 548.559], point3D_id=Invalid),\n",
       " Point2D(xy=[1243.78, 550.275], point3D_id=63501),\n",
       " Point2D(xy=[1243.78, 550.275], point3D_id=64507),\n",
       " Point2D(xy=[2845.17, 552.225], point3D_id=Invalid),\n",
       " Point2D(xy=[1045.23, 554.01], point3D_id=Invalid),\n",
       " Point2D(xy=[1744.97, 553.555], point3D_id=Invalid),\n",
       " Point2D(xy=[2751.36, 553.164], point3D_id=Invalid),\n",
       " Point2D(xy=[2751.36, 553.164], point3D_id=Invalid),\n",
       " Point2D(xy=[3044.91, 553.792], point3D_id=Invalid),\n",
       " Point2D(xy=[3044.91, 553.792], point3D_id=Invalid),\n",
       " Point2D(xy=[2234.13, 554.576], point3D_id=Invalid),\n",
       " Point2D(xy=[2776.63, 554.122], point3D_id=Invalid),\n",
       " Point2D(xy=[2002.92, 556.621], point3D_id=Invalid),\n",
       " Point2D(xy=[2839.01, 556.482], point3D_id=Invalid),\n",
       " Point2D(xy=[2876.8, 556.123], point3D_id=Invalid),\n",
       " Point2D(xy=[1995.8, 557.329], point3D_id=Invalid),\n",
       " Point2D(xy=[2372.1, 557.335], point3D_id=Invalid),\n",
       " Point2D(xy=[2261.89, 558.062], point3D_id=Invalid),\n",
       " Point2D(xy=[2285.47, 558.242], point3D_id=Invalid),\n",
       " Point2D(xy=[2412.87, 558.864], point3D_id=Invalid),\n",
       " Point2D(xy=[2910.25, 558.586], point3D_id=Invalid),\n",
       " Point2D(xy=[1777.04, 560.788], point3D_id=Invalid),\n",
       " Point2D(xy=[1777.04, 560.788], point3D_id=Invalid),\n",
       " Point2D(xy=[2625.93, 560.491], point3D_id=Invalid),\n",
       " Point2D(xy=[1389.17, 561.177], point3D_id=63502),\n",
       " Point2D(xy=[2503.69, 561.273], point3D_id=Invalid),\n",
       " Point2D(xy=[2924.59, 561.624], point3D_id=Invalid),\n",
       " Point2D(xy=[2149.21, 562.625], point3D_id=Invalid),\n",
       " Point2D(xy=[2337.8, 562.704], point3D_id=Invalid),\n",
       " Point2D(xy=[3045.23, 562.502], point3D_id=Invalid),\n",
       " Point2D(xy=[3045.23, 562.502], point3D_id=Invalid),\n",
       " Point2D(xy=[2236.34, 563.122], point3D_id=Invalid),\n",
       " Point2D(xy=[2713.65, 563.164], point3D_id=Invalid),\n",
       " Point2D(xy=[2990.71, 563.566], point3D_id=Invalid),\n",
       " Point2D(xy=[2305.66, 564.958], point3D_id=Invalid),\n",
       " Point2D(xy=[2305.66, 564.958], point3D_id=Invalid),\n",
       " Point2D(xy=[2405.74, 564.424], point3D_id=Invalid),\n",
       " Point2D(xy=[2726.24, 564.992], point3D_id=Invalid),\n",
       " Point2D(xy=[2215.56, 565.605], point3D_id=Invalid),\n",
       " Point2D(xy=[2005.06, 566.277], point3D_id=Invalid),\n",
       " Point2D(xy=[2012.78, 566.782], point3D_id=Invalid),\n",
       " Point2D(xy=[2277.2, 566.334], point3D_id=Invalid),\n",
       " Point2D(xy=[2752.33, 566.662], point3D_id=Invalid),\n",
       " Point2D(xy=[2857.77, 566.871], point3D_id=Invalid),\n",
       " Point2D(xy=[2857.77, 566.871], point3D_id=Invalid),\n",
       " Point2D(xy=[2182.62, 567.194], point3D_id=Invalid),\n",
       " Point2D(xy=[1588.17, 567.696], point3D_id=Invalid),\n",
       " Point2D(xy=[2337.85, 570.101], point3D_id=Invalid),\n",
       " Point2D(xy=[2505.36, 568.987], point3D_id=Invalid),\n",
       " Point2D(xy=[2880.05, 569.346], point3D_id=Invalid),\n",
       " Point2D(xy=[1939.58, 570.235], point3D_id=Invalid),\n",
       " Point2D(xy=[2175.62, 570.216], point3D_id=Invalid),\n",
       " Point2D(xy=[2787.62, 572.818], point3D_id=Invalid),\n",
       " Point2D(xy=[2950.43, 572.28], point3D_id=Invalid),\n",
       " Point2D(xy=[2950.43, 572.28], point3D_id=Invalid),\n",
       " Point2D(xy=[1030.75, 573.44], point3D_id=Invalid),\n",
       " Point2D(xy=[2448.75, 573.232], point3D_id=Invalid),\n",
       " Point2D(xy=[2905.21, 573.851], point3D_id=Invalid),\n",
       " Point2D(xy=[2022.15, 575.609], point3D_id=Invalid),\n",
       " Point2D(xy=[2654.52, 575.503], point3D_id=Invalid),\n",
       " Point2D(xy=[2654.52, 575.503], point3D_id=Invalid),\n",
       " Point2D(xy=[1519.35, 576.807], point3D_id=Invalid),\n",
       " Point2D(xy=[2214.48, 577.373], point3D_id=Invalid),\n",
       " Point2D(xy=[2766.47, 578.135], point3D_id=Invalid),\n",
       " Point2D(xy=[1875.59, 580.094], point3D_id=64039),\n",
       " Point2D(xy=[1875.59, 580.094], point3D_id=Invalid),\n",
       " Point2D(xy=[2632.28, 579.847], point3D_id=Invalid),\n",
       " Point2D(xy=[2018.66, 582.12], point3D_id=Invalid),\n",
       " Point2D(xy=[2018.66, 582.12], point3D_id=Invalid),\n",
       " Point2D(xy=[2169.77, 581.008], point3D_id=Invalid),\n",
       " Point2D(xy=[2949.34, 581.549], point3D_id=Invalid),\n",
       " Point2D(xy=[1756.02, 583.617], point3D_id=Invalid),\n",
       " Point2D(xy=[2496.21, 583.213], point3D_id=Invalid),\n",
       " Point2D(xy=[2974.85, 584.201], point3D_id=Invalid),\n",
       " Point2D(xy=[1471.03, 584.265], point3D_id=63504),\n",
       " Point2D(xy=[2568.41, 585.982], point3D_id=Invalid),\n",
       " Point2D(xy=[1585.63, 586.279], point3D_id=Invalid),\n",
       " Point2D(xy=[2350.41, 586.389], point3D_id=Invalid),\n",
       " Point2D(xy=[2350.41, 586.389], point3D_id=Invalid),\n",
       " Point2D(xy=[2610.24, 586.969], point3D_id=Invalid),\n",
       " Point2D(xy=[2610.24, 586.969], point3D_id=Invalid),\n",
       " Point2D(xy=[2202.99, 587.869], point3D_id=Invalid),\n",
       " Point2D(xy=[2236.19, 587.912], point3D_id=Invalid),\n",
       " Point2D(xy=[2236.19, 587.912], point3D_id=Invalid),\n",
       " Point2D(xy=[2991.06, 588.093], point3D_id=Invalid),\n",
       " Point2D(xy=[2417.3, 591.972], point3D_id=Invalid),\n",
       " Point2D(xy=[2248.05, 592.068], point3D_id=Invalid),\n",
       " Point2D(xy=[1623.62, 593.724], point3D_id=63503),\n",
       " Point2D(xy=[1747.38, 593.344], point3D_id=Invalid),\n",
       " Point2D(xy=[2167.65, 593.33], point3D_id=Invalid),\n",
       " Point2D(xy=[2167.65, 593.33], point3D_id=Invalid),\n",
       " Point2D(xy=[2506.16, 593.301], point3D_id=Invalid),\n",
       " Point2D(xy=[2041.36, 594.457], point3D_id=Invalid),\n",
       " Point2D(xy=[2319.31, 594.642], point3D_id=Invalid),\n",
       " Point2D(xy=[2622.52, 594.842], point3D_id=Invalid),\n",
       " Point2D(xy=[2622.52, 594.842], point3D_id=Invalid),\n",
       " Point2D(xy=[3021.82, 595.271], point3D_id=Invalid),\n",
       " Point2D(xy=[3021.82, 595.271], point3D_id=Invalid),\n",
       " Point2D(xy=[1484.47, 596.494], point3D_id=Invalid),\n",
       " Point2D(xy=[2407.64, 598.448], point3D_id=Invalid),\n",
       " Point2D(xy=[2192.94, 599.498], point3D_id=Invalid),\n",
       " Point2D(xy=[2192.94, 599.498], point3D_id=Invalid),\n",
       " Point2D(xy=[2818.17, 599.315], point3D_id=Invalid),\n",
       " Point2D(xy=[2818.17, 599.315], point3D_id=Invalid),\n",
       " Point2D(xy=[2841.8, 599.156], point3D_id=64506),\n",
       " Point2D(xy=[1244.78, 600.92], point3D_id=Invalid),\n",
       " Point2D(xy=[1603.54, 600.245], point3D_id=Invalid),\n",
       " Point2D(xy=[2326.08, 600.466], point3D_id=Invalid),\n",
       " Point2D(xy=[2326.08, 600.466], point3D_id=Invalid),\n",
       " Point2D(xy=[2994.1, 600.815], point3D_id=Invalid),\n",
       " Point2D(xy=[2665.48, 600.968], point3D_id=Invalid),\n",
       " Point2D(xy=[2665.48, 600.968], point3D_id=Invalid),\n",
       " Point2D(xy=[1253.3, 602.882], point3D_id=63021),\n",
       " Point2D(xy=[2050.66, 602.973], point3D_id=Invalid),\n",
       " Point2D(xy=[2453.26, 602.629], point3D_id=Invalid),\n",
       " Point2D(xy=[2453.26, 602.629], point3D_id=Invalid),\n",
       " Point2D(xy=[2105.51, 604.943], point3D_id=Invalid),\n",
       " Point2D(xy=[2648.48, 605.133], point3D_id=Invalid),\n",
       " Point2D(xy=[2459.82, 606.295], point3D_id=Invalid),\n",
       " Point2D(xy=[1759.23, 607.98], point3D_id=Invalid),\n",
       " Point2D(xy=[2371.34, 607.407], point3D_id=Invalid),\n",
       " Point2D(xy=[2371.34, 607.407], point3D_id=Invalid),\n",
       " Point2D(xy=[2815.5, 608.04], point3D_id=Invalid),\n",
       " Point2D(xy=[2815.5, 608.04], point3D_id=Invalid),\n",
       " Point2D(xy=[3030.36, 608.524], point3D_id=Invalid),\n",
       " Point2D(xy=[1626.62, 609.056], point3D_id=63505),\n",
       " Point2D(xy=[1719.77, 609.682], point3D_id=Invalid),\n",
       " Point2D(xy=[2386.44, 609.846], point3D_id=Invalid),\n",
       " Point2D(xy=[1891.84, 610.719], point3D_id=Invalid),\n",
       " Point2D(xy=[1891.84, 610.719], point3D_id=Invalid),\n",
       " Point2D(xy=[2058.42, 611.406], point3D_id=Invalid),\n",
       " Point2D(xy=[2484.32, 611.92], point3D_id=Invalid),\n",
       " Point2D(xy=[2484.32, 611.92], point3D_id=Invalid),\n",
       " Point2D(xy=[1814.56, 613.909], point3D_id=Invalid),\n",
       " Point2D(xy=[2822.14, 614.009], point3D_id=Invalid),\n",
       " Point2D(xy=[2991.39, 614.753], point3D_id=Invalid),\n",
       " Point2D(xy=[1601.94, 616.582], point3D_id=Invalid),\n",
       " Point2D(xy=[1780.29, 616.033], point3D_id=Invalid),\n",
       " Point2D(xy=[1842.43, 616.155], point3D_id=Invalid),\n",
       " Point2D(xy=[2325.57, 616.72], point3D_id=Invalid),\n",
       " Point2D(xy=[2361.28, 616.966], point3D_id=Invalid),\n",
       " Point2D(xy=[2548.43, 616.746], point3D_id=Invalid),\n",
       " Point2D(xy=[1056.07, 617.859], point3D_id=Invalid),\n",
       " Point2D(xy=[1056.07, 617.859], point3D_id=Invalid),\n",
       " Point2D(xy=[2898.96, 617.958], point3D_id=Invalid),\n",
       " Point2D(xy=[2898.96, 617.958], point3D_id=Invalid),\n",
       " Point2D(xy=[2119.01, 618.78], point3D_id=Invalid),\n",
       " Point2D(xy=[2272.45, 618.197], point3D_id=Invalid),\n",
       " Point2D(xy=[2920.36, 618.366], point3D_id=Invalid),\n",
       " Point2D(xy=[1568.05, 619.441], point3D_id=Invalid),\n",
       " Point2D(xy=[2413.36, 619.266], point3D_id=Invalid),\n",
       " Point2D(xy=[3033.49, 619.299], point3D_id=Invalid),\n",
       " Point2D(xy=[3033.49, 619.299], point3D_id=Invalid),\n",
       " Point2D(xy=[3066.09, 618.948], point3D_id=Invalid),\n",
       " Point2D(xy=[1198.65, 619.647], point3D_id=Invalid),\n",
       " Point2D(xy=[2578.89, 620.812], point3D_id=Invalid),\n",
       " Point2D(xy=[2524.71, 621.042], point3D_id=Invalid),\n",
       " Point2D(xy=[2554.33, 621.66], point3D_id=Invalid),\n",
       " Point2D(xy=[2554.33, 621.66], point3D_id=Invalid),\n",
       " Point2D(xy=[2886.14, 621.67], point3D_id=65174),\n",
       " Point2D(xy=[2927.74, 621.798], point3D_id=Invalid),\n",
       " Point2D(xy=[2401.99, 626.115], point3D_id=Invalid),\n",
       " Point2D(xy=[1088.58, 627.617], point3D_id=63022),\n",
       " Point2D(xy=[1133.99, 627.547], point3D_id=Invalid),\n",
       " Point2D(xy=[2904.74, 628.263], point3D_id=Invalid),\n",
       " Point2D(xy=[2904.74, 628.263], point3D_id=Invalid),\n",
       " Point2D(xy=[3031.64, 628.656], point3D_id=Invalid),\n",
       " Point2D(xy=[2522.97, 629.164], point3D_id=Invalid),\n",
       " Point2D(xy=[2522.97, 629.164], point3D_id=Invalid),\n",
       " Point2D(xy=[958.557, 630.063], point3D_id=Invalid),\n",
       " Point2D(xy=[958.557, 630.063], point3D_id=Invalid),\n",
       " Point2D(xy=[1826.02, 631.658], point3D_id=Invalid),\n",
       " Point2D(xy=[2467.89, 631.686], point3D_id=Invalid),\n",
       " Point2D(xy=[2412.39, 632.157], point3D_id=Invalid),\n",
       " Point2D(xy=[3008.28, 632.357], point3D_id=Invalid),\n",
       " Point2D(xy=[2600.91, 633.626], point3D_id=Invalid),\n",
       " Point2D(xy=[2600.91, 633.626], point3D_id=Invalid),\n",
       " Point2D(xy=[2718.26, 635.556], point3D_id=Invalid),\n",
       " Point2D(xy=[2958.22, 635.656], point3D_id=Invalid),\n",
       " Point2D(xy=[1276.84, 636.63], point3D_id=Invalid),\n",
       " Point2D(xy=[1084.44, 638.798], point3D_id=Invalid),\n",
       " Point2D(xy=[1084.44, 638.798], point3D_id=Invalid),\n",
       " Point2D(xy=[2412.32, 638.978], point3D_id=Invalid),\n",
       " Point2D(xy=[2625.29, 637.817], point3D_id=Invalid),\n",
       " Point2D(xy=[1758.23, 639.906], point3D_id=Invalid),\n",
       " Point2D(xy=[1821.38, 639.281], point3D_id=Invalid),\n",
       " Point2D(xy=[3040.96, 639.381], point3D_id=Invalid),\n",
       " Point2D(xy=[1289.73, 639.951], point3D_id=Invalid),\n",
       " Point2D(xy=[2242.86, 640.934], point3D_id=Invalid),\n",
       " Point2D(xy=[2242.86, 640.934], point3D_id=Invalid),\n",
       " Point2D(xy=[2696.16, 640.508], point3D_id=Invalid),\n",
       " Point2D(xy=[2959.9, 641.58], point3D_id=Invalid),\n",
       " Point2D(xy=[1302.04, 641.87], point3D_id=Invalid),\n",
       " Point2D(xy=[1302.04, 641.87], point3D_id=Invalid),\n",
       " Point2D(xy=[2933.41, 643.893], point3D_id=Invalid),\n",
       " Point2D(xy=[2933.41, 643.893], point3D_id=Invalid),\n",
       " Point2D(xy=[3049.24, 643.232], point3D_id=Invalid),\n",
       " Point2D(xy=[2146.85, 646.029], point3D_id=Invalid),\n",
       " Point2D(xy=[2351.38, 645.475], point3D_id=Invalid),\n",
       " Point2D(xy=[1327.5, 647.45], point3D_id=Invalid),\n",
       " Point2D(xy=[2666.09, 647.811], point3D_id=Invalid),\n",
       " Point2D(xy=[2365.39, 648.423], point3D_id=Invalid),\n",
       " Point2D(xy=[2676.57, 648.213], point3D_id=Invalid),\n",
       " Point2D(xy=[1455.86, 649.428], point3D_id=Invalid),\n",
       " Point2D(xy=[2060.44, 649.289], point3D_id=Invalid),\n",
       " Point2D(xy=[2060.44, 649.289], point3D_id=Invalid),\n",
       " Point2D(xy=[2160.37, 649.859], point3D_id=Invalid),\n",
       " Point2D(xy=[1340.09, 650.485], point3D_id=Invalid),\n",
       " Point2D(xy=[1340.09, 650.485], point3D_id=Invalid),\n",
       " Point2D(xy=[1862.59, 650.339], point3D_id=Invalid),\n",
       " Point2D(xy=[1991.38, 650.433], point3D_id=Invalid),\n",
       " Point2D(xy=[2264.2, 651], point3D_id=Invalid),\n",
       " Point2D(xy=[1637.29, 651.247], point3D_id=Invalid),\n",
       " Point2D(xy=[2355.89, 651.513], point3D_id=Invalid),\n",
       " Point2D(xy=[2719.77, 651.553], point3D_id=Invalid),\n",
       " Point2D(xy=[1720.62, 652.45], point3D_id=Invalid),\n",
       " Point2D(xy=[2140.53, 652.833], point3D_id=Invalid),\n",
       " Point2D(xy=[2472.43, 652.749], point3D_id=Invalid),\n",
       " Point2D(xy=[2481.47, 652.282], point3D_id=Invalid),\n",
       " Point2D(xy=[2611.3, 652.394], point3D_id=Invalid),\n",
       " Point2D(xy=[1352.22, 653.238], point3D_id=Invalid),\n",
       " Point2D(xy=[2767.81, 653.39], point3D_id=Invalid),\n",
       " Point2D(xy=[2893.98, 653.409], point3D_id=Invalid),\n",
       " Point2D(xy=[1208.84, 655.347], point3D_id=Invalid),\n",
       " Point2D(xy=[2155.4, 655.287], point3D_id=Invalid),\n",
       " Point2D(xy=[2652.84, 655.083], point3D_id=Invalid),\n",
       " Point2D(xy=[1026.16, 656.681], point3D_id=Invalid),\n",
       " Point2D(xy=[1552.37, 656.987], point3D_id=Invalid),\n",
       " Point2D(xy=[1996.93, 656.559], point3D_id=Invalid),\n",
       " Point2D(xy=[1996.93, 656.559], point3D_id=Invalid),\n",
       " Point2D(xy=[1230.9, 659.527], point3D_id=Invalid),\n",
       " Point2D(xy=[1794.9, 659.165], point3D_id=Invalid),\n",
       " Point2D(xy=[2615.81, 659.809], point3D_id=Invalid),\n",
       " Point2D(xy=[2900.27, 659.51], point3D_id=Invalid),\n",
       " Point2D(xy=[2900.27, 659.51], point3D_id=Invalid),\n",
       " Point2D(xy=[2220.06, 661.208], point3D_id=Invalid),\n",
       " Point2D(xy=[2220.06, 661.208], point3D_id=Invalid),\n",
       " Point2D(xy=[2634.24, 660.835], point3D_id=Invalid),\n",
       " Point2D(xy=[1389.94, 661.329], point3D_id=Invalid),\n",
       " Point2D(xy=[1501.89, 661.496], point3D_id=Invalid),\n",
       " Point2D(xy=[1022.63, 662.04], point3D_id=Invalid),\n",
       " Point2D(xy=[2022.75, 663.467], point3D_id=Invalid),\n",
       " Point2D(xy=[2022.75, 663.467], point3D_id=Invalid),\n",
       " Point2D(xy=[2646.52, 663.533], point3D_id=Invalid),\n",
       " Point2D(xy=[1401.05, 664.372], point3D_id=Invalid),\n",
       " Point2D(xy=[2512.11, 664.061], point3D_id=Invalid),\n",
       " Point2D(xy=[1627.55, 665.37], point3D_id=Invalid),\n",
       " Point2D(xy=[1688.72, 665.271], point3D_id=Invalid),\n",
       " Point2D(xy=[1995.11, 665.091], point3D_id=Invalid),\n",
       " Point2D(xy=[1995.11, 665.091], point3D_id=Invalid),\n",
       " Point2D(xy=[2138.38, 665.205], point3D_id=Invalid),\n",
       " Point2D(xy=[2581.81, 665.052], point3D_id=Invalid),\n",
       " Point2D(xy=[2905.55, 664.89], point3D_id=Invalid),\n",
       " Point2D(xy=[1611.54, 666.174], point3D_id=Invalid),\n",
       " Point2D(xy=[2323.18, 666.274], point3D_id=Invalid),\n",
       " Point2D(xy=[1413.43, 667.258], point3D_id=Invalid),\n",
       " Point2D(xy=[1122.18, 668.354], point3D_id=Invalid),\n",
       " Point2D(xy=[1122.18, 668.354], point3D_id=63023),\n",
       " Point2D(xy=[1425.2, 669.336], point3D_id=Invalid),\n",
       " Point2D(xy=[1425.2, 669.336], point3D_id=Invalid),\n",
       " Point2D(xy=[2150.13, 669.934], point3D_id=Invalid),\n",
       " Point2D(xy=[2560.89, 670.73], point3D_id=Invalid),\n",
       " Point2D(xy=[2560.89, 670.73], point3D_id=Invalid),\n",
       " Point2D(xy=[2596.76, 670.866], point3D_id=Invalid),\n",
       " Point2D(xy=[1539.95, 672.182], point3D_id=Invalid),\n",
       " Point2D(xy=[1539.95, 672.182], point3D_id=Invalid),\n",
       " Point2D(xy=[2302.55, 672.137], point3D_id=Invalid),\n",
       " Point2D(xy=[2631.26, 671.385], point3D_id=Invalid),\n",
       " Point2D(xy=[1438.19, 671.777], point3D_id=Invalid),\n",
       " Point2D(xy=[1698.69, 672.389], point3D_id=Invalid),\n",
       " Point2D(xy=[2256.69, 673.525], point3D_id=Invalid),\n",
       " Point2D(xy=[1449.93, 674.972], point3D_id=Invalid),\n",
       " Point2D(xy=[1999.76, 676.863], point3D_id=Invalid),\n",
       " Point2D(xy=[2044.73, 676.683], point3D_id=Invalid),\n",
       " Point2D(xy=[1461.8, 677.225], point3D_id=Invalid),\n",
       " Point2D(xy=[1473.29, 679.359], point3D_id=Invalid),\n",
       " Point2D(xy=[2631.15, 679.761], point3D_id=Invalid),\n",
       " Point2D(xy=[2631.15, 679.761], point3D_id=Invalid),\n",
       " Point2D(xy=[1330.31, 680.674], point3D_id=Invalid),\n",
       " Point2D(xy=[3020.21, 681.682], point3D_id=Invalid),\n",
       " Point2D(xy=[1514.26, 683.4], point3D_id=Invalid),\n",
       " Point2D(xy=[1663.67, 682.527], point3D_id=Invalid),\n",
       " Point2D(xy=[2194.38, 682.042], point3D_id=Invalid),\n",
       " Point2D(xy=[2858.3, 682.859], point3D_id=Invalid),\n",
       " Point2D(xy=[1814.26, 683.645], point3D_id=Invalid),\n",
       " Point2D(xy=[920.932, 683.916], point3D_id=Invalid),\n",
       " Point2D(xy=[920.932, 683.916], point3D_id=Invalid),\n",
       " Point2D(xy=[1347.5, 684.165], point3D_id=Invalid),\n",
       " Point2D(xy=[1461.57, 685.136], point3D_id=64529),\n",
       " Point2D(xy=[2333, 685.391], point3D_id=Invalid),\n",
       " Point2D(xy=[1092.27, 687.312], point3D_id=Invalid),\n",
       " Point2D(xy=[1910.21, 686.144], point3D_id=Invalid),\n",
       " Point2D(xy=[2218.56, 686.752], point3D_id=Invalid),\n",
       " Point2D(xy=[2122.73, 687.164], point3D_id=Invalid),\n",
       " Point2D(xy=[2189.14, 687.932], point3D_id=Invalid),\n",
       " Point2D(xy=[2651.08, 686.519], point3D_id=Invalid),\n",
       " Point2D(xy=[2755.32, 687.109], point3D_id=Invalid),\n",
       " Point2D(xy=[2755.32, 687.109], point3D_id=Invalid),\n",
       " Point2D(xy=[3062.35, 687.992], point3D_id=Invalid),\n",
       " Point2D(xy=[2307.48, 688.596], point3D_id=Invalid),\n",
       " Point2D(xy=[1792.87, 691.102], point3D_id=Invalid),\n",
       " Point2D(xy=[1792.87, 691.102], point3D_id=Invalid),\n",
       " Point2D(xy=[2461.42, 692.192], point3D_id=Invalid),\n",
       " Point2D(xy=[2628.47, 691.64], point3D_id=Invalid),\n",
       " Point2D(xy=[3014.58, 692.714], point3D_id=Invalid),\n",
       " Point2D(xy=[1543.32, 694.619], point3D_id=Invalid),\n",
       " Point2D(xy=[1513.83, 695.263], point3D_id=Invalid),\n",
       " Point2D(xy=[1600.64, 695.679], point3D_id=Invalid),\n",
       " Point2D(xy=[1993.1, 696.851], point3D_id=Invalid),\n",
       " Point2D(xy=[1088.95, 697.321], point3D_id=63511),\n",
       " Point2D(xy=[1970.37, 697.233], point3D_id=Invalid),\n",
       " Point2D(xy=[3028.69, 699.891], point3D_id=Invalid),\n",
       " Point2D(xy=[3028.69, 699.891], point3D_id=Invalid),\n",
       " Point2D(xy=[3067.9, 699.11], point3D_id=Invalid),\n",
       " Point2D(xy=[1396.07, 700.85], point3D_id=Invalid),\n",
       " Point2D(xy=[1566.49, 700.277], point3D_id=Invalid),\n",
       " Point2D(xy=[2299.29, 700.745], point3D_id=Invalid),\n",
       " Point2D(xy=[2542.51, 700.678], point3D_id=Invalid),\n",
       " Point2D(xy=[1546.07, 701.76], point3D_id=Invalid),\n",
       " Point2D(xy=[1546.07, 701.76], point3D_id=Invalid),\n",
       " Point2D(xy=[1958.29, 701.494], point3D_id=Invalid),\n",
       " Point2D(xy=[1958.29, 701.494], point3D_id=Invalid),\n",
       " Point2D(xy=[1494.63, 702.745], point3D_id=Invalid),\n",
       " Point2D(xy=[1735.53, 703.903], point3D_id=Invalid),\n",
       " Point2D(xy=[1901.67, 703.629], point3D_id=Invalid),\n",
       " Point2D(xy=[1080.45, 704.422], point3D_id=Invalid),\n",
       " Point2D(xy=[2024.53, 704.157], point3D_id=Invalid),\n",
       " Point2D(xy=[905.441, 706.062], point3D_id=Invalid),\n",
       " Point2D(xy=[905.441, 706.062], point3D_id=Invalid),\n",
       " Point2D(xy=[1600.48, 707.438], point3D_id=Invalid),\n",
       " Point2D(xy=[987.863, 708.016], point3D_id=Invalid),\n",
       " Point2D(xy=[987.863, 708.016], point3D_id=Invalid),\n",
       " Point2D(xy=[1488.95, 708.551], point3D_id=Invalid),\n",
       " Point2D(xy=[1488.95, 708.551], point3D_id=Invalid),\n",
       " Point2D(xy=[1097.41, 708.654], point3D_id=63024),\n",
       " Point2D(xy=[1359.91, 709.32], point3D_id=Invalid),\n",
       " Point2D(xy=[1730.56, 710.941], point3D_id=Invalid),\n",
       " Point2D(xy=[2524.62, 710.675], point3D_id=Invalid),\n",
       " Point2D(xy=[3020.39, 710.329], point3D_id=Invalid),\n",
       " Point2D(xy=[1113.02, 711.504], point3D_id=Invalid),\n",
       " Point2D(xy=[1463.52, 712.596], point3D_id=Invalid),\n",
       " Point2D(xy=[2305.19, 712.071], point3D_id=Invalid),\n",
       " Point2D(xy=[2305.19, 712.071], point3D_id=Invalid),\n",
       " Point2D(xy=[2398.54, 712.39], point3D_id=Invalid),\n",
       " Point2D(xy=[2332.81, 713.761], point3D_id=Invalid),\n",
       " Point2D(xy=[2332.81, 713.761], point3D_id=Invalid),\n",
       " Point2D(xy=[2362.42, 712.862], point3D_id=Invalid),\n",
       " Point2D(xy=[1662.41, 715.618], point3D_id=Invalid),\n",
       " Point2D(xy=[2090.38, 715.543], point3D_id=Invalid),\n",
       " Point2D(xy=[2090.38, 715.543], point3D_id=Invalid),\n",
       " Point2D(xy=[2533.8, 716.521], point3D_id=Invalid),\n",
       " Point2D(xy=[1821.99, 717.359], point3D_id=Invalid),\n",
       " Point2D(xy=[1821.99, 717.359], point3D_id=Invalid),\n",
       " Point2D(xy=[1345.32, 718.637], point3D_id=Invalid),\n",
       " Point2D(xy=[1615.71, 718.197], point3D_id=Invalid),\n",
       " Point2D(xy=[1615.71, 718.197], point3D_id=Invalid),\n",
       " Point2D(xy=[1655.32, 718.84], point3D_id=Invalid),\n",
       " Point2D(xy=[1704.16, 718.543], point3D_id=Invalid),\n",
       " Point2D(xy=[2350.25, 718.195], point3D_id=Invalid),\n",
       " Point2D(xy=[2350.25, 718.195], point3D_id=Invalid),\n",
       " Point2D(xy=[2357.64, 718.206], point3D_id=Invalid),\n",
       " Point2D(xy=[3012.21, 718.983], point3D_id=Invalid),\n",
       " Point2D(xy=[1103.35, 719.781], point3D_id=Invalid),\n",
       " Point2D(xy=[1534.69, 719.177], point3D_id=Invalid),\n",
       " Point2D(xy=[1534.69, 719.177], point3D_id=Invalid),\n",
       " Point2D(xy=[2923.22, 720.061], point3D_id=Invalid),\n",
       " Point2D(xy=[2973.05, 719.444], point3D_id=Invalid),\n",
       " Point2D(xy=[1928.94, 720.972], point3D_id=Invalid),\n",
       " Point2D(xy=[1928.94, 720.972], point3D_id=Invalid),\n",
       " Point2D(xy=[2029.82, 720.418], point3D_id=Invalid),\n",
       " Point2D(xy=[2586.74, 720.194], point3D_id=Invalid),\n",
       " Point2D(xy=[1155.15, 721.726], point3D_id=63513),\n",
       " Point2D(xy=[2152.36, 721.037], point3D_id=Invalid),\n",
       " Point2D(xy=[2152.36, 721.037], point3D_id=Invalid),\n",
       " Point2D(xy=[2467.9, 721.601], point3D_id=Invalid),\n",
       " Point2D(xy=[1120.95, 722.534], point3D_id=Invalid),\n",
       " Point2D(xy=[2804.26, 722.398], point3D_id=Invalid),\n",
       " Point2D(xy=[1765.96, 723.8], point3D_id=Invalid),\n",
       " Point2D(xy=[2613.9, 723.229], point3D_id=Invalid),\n",
       " Point2D(xy=[3049.63, 723.363], point3D_id=Invalid),\n",
       " Point2D(xy=[1641.47, 724.288], point3D_id=Invalid),\n",
       " Point2D(xy=[2998.65, 724.061], point3D_id=Invalid),\n",
       " Point2D(xy=[3017.16, 724.223], point3D_id=Invalid),\n",
       " Point2D(xy=[1465.73, 725.609], point3D_id=Invalid),\n",
       " Point2D(xy=[1484.49, 725.726], point3D_id=Invalid),\n",
       " Point2D(xy=[1484.49, 725.726], point3D_id=Invalid),\n",
       " Point2D(xy=[3028.13, 725.36], point3D_id=Invalid),\n",
       " Point2D(xy=[1422.23, 725.806], point3D_id=Invalid),\n",
       " Point2D(xy=[2166.32, 727.616], point3D_id=Invalid),\n",
       " Point2D(xy=[2166.32, 727.616], point3D_id=Invalid),\n",
       " Point2D(xy=[1549.27, 728.719], point3D_id=Invalid),\n",
       " Point2D(xy=[1549.27, 728.719], point3D_id=Invalid),\n",
       " Point2D(xy=[1857.24, 728.857], point3D_id=Invalid),\n",
       " Point2D(xy=[2179.72, 728.571], point3D_id=Invalid),\n",
       " Point2D(xy=[2309.14, 729.322], point3D_id=Invalid),\n",
       " Point2D(xy=[1699.28, 730.029], point3D_id=Invalid),\n",
       " Point2D(xy=[2939.05, 729.678], point3D_id=Invalid),\n",
       " Point2D(xy=[3054.09, 729.347], point3D_id=Invalid),\n",
       " Point2D(xy=[1808.15, 730.134], point3D_id=Invalid),\n",
       " Point2D(xy=[2987.28, 730.122], point3D_id=Invalid),\n",
       " Point2D(xy=[1120.71, 731.411], point3D_id=Invalid),\n",
       " Point2D(xy=[1144.62, 731.458], point3D_id=Invalid),\n",
       " Point2D(xy=[1144.62, 731.458], point3D_id=Invalid),\n",
       " Point2D(xy=[1709.92, 731.903], point3D_id=Invalid),\n",
       " Point2D(xy=[1709.92, 731.903], point3D_id=Invalid),\n",
       " Point2D(xy=[2519.13, 730.96], point3D_id=Invalid),\n",
       " Point2D(xy=[1448.84, 732.022], point3D_id=Invalid),\n",
       " Point2D(xy=[2263.21, 732.705], point3D_id=Invalid),\n",
       " Point2D(xy=[2277.52, 732.91], point3D_id=Invalid),\n",
       " Point2D(xy=[2926.49, 732.141], point3D_id=Invalid),\n",
       " Point2D(xy=[1988.63, 733.267], point3D_id=63514),\n",
       " Point2D(xy=[1693.84, 735.239], point3D_id=Invalid),\n",
       " Point2D(xy=[2230.15, 734.775], point3D_id=Invalid),\n",
       " Point2D(xy=[2230.15, 734.775], point3D_id=Invalid),\n",
       " Point2D(xy=[1931.01, 735.024], point3D_id=Invalid),\n",
       " Point2D(xy=[2714.32, 735.17], point3D_id=Invalid),\n",
       " Point2D(xy=[1886.64, 736.596], point3D_id=Invalid),\n",
       " Point2D(xy=[2348.43, 736.587], point3D_id=Invalid),\n",
       " Point2D(xy=[2348.43, 736.587], point3D_id=Invalid),\n",
       " Point2D(xy=[965.824, 737.175], point3D_id=Invalid),\n",
       " Point2D(xy=[1704.13, 736.988], point3D_id=Invalid),\n",
       " Point2D(xy=[1704.13, 736.988], point3D_id=Invalid),\n",
       " Point2D(xy=[2367.71, 736.898], point3D_id=Invalid),\n",
       " Point2D(xy=[1042.94, 738.567], point3D_id=Invalid),\n",
       " Point2D(xy=[1080, 738.691], point3D_id=Invalid),\n",
       " Point2D(xy=[2540.62, 738.707], point3D_id=Invalid),\n",
       " Point2D(xy=[2952.78, 737.99], point3D_id=Invalid),\n",
       " Point2D(xy=[1470.66, 739.58], point3D_id=Invalid),\n",
       " Point2D(xy=[1714.59, 739.437], point3D_id=Invalid),\n",
       " Point2D(xy=[1714.59, 739.437], point3D_id=Invalid),\n",
       " Point2D(xy=[1752.42, 739.646], point3D_id=Invalid),\n",
       " Point2D(xy=[1752.42, 739.646], point3D_id=Invalid),\n",
       " Point2D(xy=[1880.76, 739.591], point3D_id=Invalid),\n",
       " Point2D(xy=[1851.71, 740.09], point3D_id=Invalid),\n",
       " Point2D(xy=[1851.71, 740.09], point3D_id=Invalid),\n",
       " Point2D(xy=[2270.86, 740.331], point3D_id=Invalid),\n",
       " Point2D(xy=[2270.86, 740.331], point3D_id=Invalid),\n",
       " Point2D(xy=[1072.51, 740.904], point3D_id=Invalid),\n",
       " Point2D(xy=[1072.51, 740.904], point3D_id=Invalid),\n",
       " Point2D(xy=[961.723, 742.024], point3D_id=Invalid),\n",
       " Point2D(xy=[961.723, 742.024], point3D_id=Invalid),\n",
       " Point2D(xy=[2037.39, 742.77], point3D_id=Invalid),\n",
       " Point2D(xy=[2442.56, 742.003], point3D_id=Invalid),\n",
       " Point2D(xy=[2941, 742.769], point3D_id=Invalid),\n",
       " Point2D(xy=[2279.71, 743.393], point3D_id=Invalid),\n",
       " Point2D(xy=[2881.94, 743.786], point3D_id=Invalid),\n",
       " Point2D(xy=[2697.15, 745.011], point3D_id=Invalid),\n",
       " Point2D(xy=[2191.64, 746.055], point3D_id=Invalid),\n",
       " Point2D(xy=[2191.64, 746.055], point3D_id=Invalid),\n",
       " Point2D(xy=[2266.32, 745.129], point3D_id=Invalid),\n",
       " Point2D(xy=[2626.49, 745.853], point3D_id=Invalid),\n",
       " Point2D(xy=[2011.9, 747.562], point3D_id=Invalid),\n",
       " Point2D(xy=[3009.52, 747.411], point3D_id=Invalid),\n",
       " Point2D(xy=[1226.43, 748.262], point3D_id=Invalid),\n",
       " Point2D(xy=[1992.59, 748.931], point3D_id=Invalid),\n",
       " Point2D(xy=[2127.75, 748.166], point3D_id=Invalid),\n",
       " Point2D(xy=[2127.75, 748.166], point3D_id=Invalid),\n",
       " Point2D(xy=[2364.68, 748.794], point3D_id=Invalid),\n",
       " Point2D(xy=[2334, 749.905], point3D_id=Invalid),\n",
       " Point2D(xy=[2938.02, 749.413], point3D_id=Invalid),\n",
       " Point2D(xy=[1765.03, 750.827], point3D_id=64045),\n",
       " Point2D(xy=[1765.03, 750.827], point3D_id=Invalid),\n",
       " Point2D(xy=[2035.81, 751.523], point3D_id=Invalid),\n",
       " Point2D(xy=[2650.36, 751.088], point3D_id=Invalid),\n",
       " Point2D(xy=[873.034, 752.657], point3D_id=Invalid),\n",
       " Point2D(xy=[873.034, 752.657], point3D_id=63025),\n",
       " Point2D(xy=[1319.3, 753.136], point3D_id=25299),\n",
       " Point2D(xy=[1319.3, 753.136], point3D_id=42028),\n",
       " Point2D(xy=[2383.6, 753.811], point3D_id=Invalid),\n",
       " Point2D(xy=[2173.01, 755.386], point3D_id=Invalid),\n",
       " Point2D(xy=[2173.01, 755.386], point3D_id=Invalid),\n",
       " Point2D(xy=[950.686, 756.815], point3D_id=Invalid),\n",
       " Point2D(xy=[1660.44, 756.842], point3D_id=Invalid),\n",
       " Point2D(xy=[2557.82, 756.163], point3D_id=Invalid),\n",
       " Point2D(xy=[3009.85, 756.771], point3D_id=Invalid),\n",
       " Point2D(xy=[1530.8, 757.372], point3D_id=Invalid),\n",
       " Point2D(xy=[2097.1, 757.351], point3D_id=Invalid),\n",
       " Point2D(xy=[2097.1, 757.351], point3D_id=Invalid),\n",
       " Point2D(xy=[2961.17, 757.285], point3D_id=Invalid),\n",
       " Point2D(xy=[2312.82, 758.482], point3D_id=Invalid),\n",
       " Point2D(xy=[2739.23, 758.666], point3D_id=Invalid),\n",
       " Point2D(xy=[1886.11, 759.678], point3D_id=Invalid),\n",
       " Point2D(xy=[1886.11, 759.678], point3D_id=Invalid),\n",
       " Point2D(xy=[2255.48, 761.476], point3D_id=Invalid),\n",
       " Point2D(xy=[2805.52, 761.618], point3D_id=Invalid),\n",
       " Point2D(xy=[2347.52, 761.909], point3D_id=Invalid),\n",
       " Point2D(xy=[2451.24, 762.507], point3D_id=Invalid),\n",
       " Point2D(xy=[2715.4, 762.75], point3D_id=Invalid),\n",
       " Point2D(xy=[1389.78, 763.076], point3D_id=Invalid),\n",
       " Point2D(xy=[944.093, 764.419], point3D_id=Invalid),\n",
       " Point2D(xy=[944.093, 764.419], point3D_id=Invalid),\n",
       " Point2D(xy=[2007.59, 764.724], point3D_id=Invalid),\n",
       " Point2D(xy=[1897.94, 766.123], point3D_id=Invalid),\n",
       " Point2D(xy=[2519.83, 764.954], point3D_id=Invalid),\n",
       " Point2D(xy=[2874.98, 767.279], point3D_id=Invalid),\n",
       " Point2D(xy=[1714.03, 769.244], point3D_id=Invalid),\n",
       " Point2D(xy=[2506.25, 769.522], point3D_id=Invalid),\n",
       " Point2D(xy=[2506.25, 769.522], point3D_id=Invalid),\n",
       " Point2D(xy=[2544.85, 769.221], point3D_id=Invalid),\n",
       " Point2D(xy=[1962.97, 770.749], point3D_id=Invalid),\n",
       " Point2D(xy=[2416.31, 771.087], point3D_id=Invalid),\n",
       " Point2D(xy=[1073.68, 771.805], point3D_id=Invalid),\n",
       " Point2D(xy=[1073.68, 771.805], point3D_id=Invalid),\n",
       " Point2D(xy=[1772.25, 771.664], point3D_id=Invalid),\n",
       " Point2D(xy=[1772.25, 771.664], point3D_id=Invalid),\n",
       " Point2D(xy=[858.093, 773.111], point3D_id=Invalid),\n",
       " Point2D(xy=[858.093, 773.111], point3D_id=Invalid),\n",
       " Point2D(xy=[2391.2, 772.957], point3D_id=Invalid),\n",
       " Point2D(xy=[2944.69, 773.11], point3D_id=Invalid),\n",
       " Point2D(xy=[2944.69, 773.11], point3D_id=Invalid),\n",
       " Point2D(xy=[632.173, 773.229], point3D_id=Invalid),\n",
       " Point2D(xy=[2633.65, 775.527], point3D_id=Invalid),\n",
       " Point2D(xy=[2931.71, 775.048], point3D_id=Invalid),\n",
       " Point2D(xy=[2281.9, 776.956], point3D_id=Invalid),\n",
       " Point2D(xy=[2227.47, 777.198], point3D_id=Invalid),\n",
       " Point2D(xy=[933.569, 778.142], point3D_id=Invalid),\n",
       " Point2D(xy=[933.569, 778.142], point3D_id=Invalid),\n",
       " Point2D(xy=[1696.94, 777.921], point3D_id=Invalid),\n",
       " Point2D(xy=[2405.1, 778.282], point3D_id=Invalid),\n",
       " Point2D(xy=[1339.46, 779.06], point3D_id=63516),\n",
       " Point2D(xy=[1739.98, 780.665], point3D_id=Invalid),\n",
       " Point2D(xy=[2786.09, 781.28], point3D_id=Invalid),\n",
       " Point2D(xy=[1747.06, 784.356], point3D_id=Invalid),\n",
       " Point2D(xy=[2963.59, 785.095], point3D_id=Invalid),\n",
       " Point2D(xy=[1005.12, 785.962], point3D_id=Invalid),\n",
       " Point2D(xy=[1449.39, 785.65], point3D_id=Invalid),\n",
       " Point2D(xy=[830.987, 786.303], point3D_id=Invalid),\n",
       " Point2D(xy=[739.047, 787.695], point3D_id=Invalid),\n",
       " Point2D(xy=[926.188, 787.356], point3D_id=63026),\n",
       " Point2D(xy=[926.188, 787.356], point3D_id=Invalid),\n",
       " Point2D(xy=[1401.92, 787.481], point3D_id=Invalid),\n",
       " ...]"
      ]
     },
     "execution_count": 10,
     "metadata": {},
     "output_type": "execute_result"
    }
   ],
   "execution_count": 10
  },
  {
   "metadata": {
    "ExecuteTime": {
     "end_time": "2024-09-05T13:48:33.076689Z",
     "start_time": "2024-09-05T13:48:32.352259Z"
    }
   },
   "cell_type": "code",
   "source": [
    "for point3D_id, point3D in reconstruction.points3D.items():\n",
    "    print(point3D)"
   ],
   "id": "5043bc37cd1545c2",
   "outputs": [
    {
     "name": "stderr",
     "output_type": "stream",
     "text": [
      "IOPub data rate exceeded.\n",
      "The Jupyter server will temporarily stop sending output\n",
      "to the client in order to avoid crashing it.\n",
      "To change this limit, set the config variable\n",
      "`--ServerApp.iopub_data_rate_limit`.\n",
      "\n",
      "Current values:\n",
      "ServerApp.iopub_data_rate_limit=1000000.0 (bytes/sec)\n",
      "ServerApp.rate_limit_window=3.0 (secs)\n",
      "\n"
     ]
    }
   ],
   "execution_count": 11
  },
  {
   "metadata": {},
   "cell_type": "markdown",
   "source": "### Camera",
   "id": "da5953a483bfc272"
  },
  {
   "metadata": {
    "ExecuteTime": {
     "end_time": "2024-09-05T09:18:54.875526Z",
     "start_time": "2024-09-05T09:18:54.871165Z"
    }
   },
   "cell_type": "code",
   "source": "help(img.cam_from_world)",
   "id": "13cabb322c3aaa77",
   "outputs": [
    {
     "name": "stdout",
     "output_type": "stream",
     "text": [
      "Help on Rigid3d in module pycolmap object:\n",
      "\n",
      "class Rigid3d(pybind11_builtins.pybind11_object)\n",
      " |  Method resolution order:\n",
      " |      Rigid3d\n",
      " |      pybind11_builtins.pybind11_object\n",
      " |      builtins.object\n",
      " |\n",
      " |  Methods defined here:\n",
      " |\n",
      " |  __copy__(...)\n",
      " |      __copy__(self: pycolmap.Rigid3d) -> pycolmap.Rigid3d\n",
      " |\n",
      " |  __deepcopy__(...)\n",
      " |      __deepcopy__(self: pycolmap.Rigid3d, arg0: dict) -> pycolmap.Rigid3d\n",
      " |\n",
      " |  __getstate__(...)\n",
      " |      __getstate__(self: pycolmap.Rigid3d) -> dict\n",
      " |\n",
      " |  __init__(...)\n",
      " |      __init__(*args, **kwargs)\n",
      " |      Overloaded function.\n",
      " |\n",
      " |      1. __init__(self: pycolmap.Rigid3d) -> None\n",
      " |\n",
      " |      2. __init__(self: pycolmap.Rigid3d, arg0: pycolmap.Rotation3d, arg1: numpy.ndarray[numpy.float64[3, 1]]) -> None\n",
      " |\n",
      " |      3. __init__(self: pycolmap.Rigid3d, arg0: numpy.ndarray[numpy.float64[3, 4]]) -> None\n",
      " |\n",
      " |      4. __init__(self: pycolmap.Rigid3d, arg0: dict) -> None\n",
      " |\n",
      " |      5. __init__(self: pycolmap.Rigid3d, **kwargs) -> None\n",
      " |\n",
      " |  __mul__(...)\n",
      " |      __mul__(*args, **kwargs)\n",
      " |      Overloaded function.\n",
      " |\n",
      " |      1. __mul__(self: pycolmap.Rigid3d, arg0: pycolmap.Rigid3d) -> pycolmap.Rigid3d\n",
      " |\n",
      " |      2. __mul__(self: pycolmap.Rigid3d, arg0: numpy.ndarray[numpy.float64[3, 1]]) -> numpy.ndarray[numpy.float64[3, 1]]\n",
      " |\n",
      " |      3. __mul__(self: pycolmap.Rigid3d, arg0: numpy.ndarray[numpy.float64[m, 3]]) -> numpy.ndarray[numpy.float64[m, 3]]\n",
      " |\n",
      " |  __repr__(...)\n",
      " |      __repr__(self: pycolmap.Rigid3d) -> str\n",
      " |\n",
      " |  __setstate__(...)\n",
      " |      __setstate__(self: pycolmap.Rigid3d, arg0: dict) -> None\n",
      " |\n",
      " |  essential_matrix(...)\n",
      " |      essential_matrix(self: pycolmap.Rigid3d) -> numpy.ndarray[numpy.float64[3, 3]]\n",
      " |\n",
      " |  inverse(...)\n",
      " |      inverse(self: pycolmap.Rigid3d) -> pycolmap.Rigid3d\n",
      " |\n",
      " |  matrix(...)\n",
      " |      matrix(self: pycolmap.Rigid3d) -> numpy.ndarray[numpy.float64[3, 4]]\n",
      " |\n",
      " |  mergedict(...)\n",
      " |      mergedict(self: object, arg0: dict) -> None\n",
      " |\n",
      " |  summary(...)\n",
      " |      summary(self: pycolmap.Rigid3d, write_type: bool = False) -> str\n",
      " |\n",
      " |  todict(...)\n",
      " |      todict(self: pycolmap.Rigid3d, recursive: bool = True) -> dict\n",
      " |\n",
      " |  ----------------------------------------------------------------------\n",
      " |  Static methods defined here:\n",
      " |\n",
      " |  interpolate(...) method of builtins.PyCapsule instance\n",
      " |      interpolate(arg0: pycolmap.Rigid3d, arg1: pycolmap.Rigid3d, arg2: float) -> pycolmap.Rigid3d\n",
      " |\n",
      " |  ----------------------------------------------------------------------\n",
      " |  Data descriptors defined here:\n",
      " |\n",
      " |  rotation\n",
      " |      (Rotation3d, default: Rotation3d(quat_xyzw=[0, 0, 0, 1]))\n",
      " |\n",
      " |  translation\n",
      " |      (ndarray, default: [0. 0. 0.])\n",
      " |\n",
      " |  ----------------------------------------------------------------------\n",
      " |  Static methods inherited from pybind11_builtins.pybind11_object:\n",
      " |\n",
      " |  __new__(*args, **kwargs) class method of pybind11_builtins.pybind11_object\n",
      " |      Create and return a new object.  See help(type) for accurate signature.\n",
      "\n"
     ]
    }
   ],
   "execution_count": 19
  },
  {
   "metadata": {},
   "cell_type": "markdown",
   "source": [
    "#### Extrinsic Matrix \n",
    "These are parameters that do not depend on the camera, they include **rotation** and **translation** (which don't depend on camera's build). The rotation can be expressed by quarternion (that uses only 4x1 matrix instead of 3x3 matrix). The translation vector tells the camera's position relative to the origin. \n",
    "\n",
    "\\begin{pmatrix}\n",
    "r_{11} & r_{12} & r_{13} & t_{x} \\\\\n",
    "r_{21} & r_{22} & r_{23} & t_{y} \\\\\n",
    "r_{31} & r_{32} & r_{33} & t_{z} \\\\\n",
    "0 & 0 & 0 & 1\n",
    "\\end{pmatrix}\n",
    "\n",
    "It is used to translate world coordinate system to camera coordinate system. "
   ],
   "id": "d1ca5d4727ac7bdf"
  },
  {
   "metadata": {
    "ExecuteTime": {
     "end_time": "2024-09-05T09:18:58.067611Z",
     "start_time": "2024-09-05T09:18:58.064141Z"
    }
   },
   "cell_type": "code",
   "source": "print(img.cam_from_world)",
   "id": "4bbad1d1475200d9",
   "outputs": [
    {
     "name": "stdout",
     "output_type": "stream",
     "text": [
      "Rigid3d(quat_xyzw=[0.0166735, 0.502906, -0.143915, 0.852113], t=[-0.672824, 0.96439, 3.59773])\n"
     ]
    }
   ],
   "execution_count": 20
  },
  {
   "metadata": {
    "ExecuteTime": {
     "end_time": "2024-09-05T09:19:02.135864Z",
     "start_time": "2024-09-05T09:19:02.132999Z"
    }
   },
   "cell_type": "code",
   "source": "print(reconstruction.images[10].cam_from_world)",
   "id": "86445c7cdcb283f9",
   "outputs": [
    {
     "name": "stdout",
     "output_type": "stream",
     "text": [
      "Rigid3d(quat_xyzw=[0.00924112, 0.702713, -0.195956, 0.683894], t=[-0.534591, 0.951151, 3.49774])\n"
     ]
    }
   ],
   "execution_count": 21
  },
  {
   "metadata": {
    "ExecuteTime": {
     "end_time": "2024-09-05T09:19:03.372485Z",
     "start_time": "2024-09-05T09:19:03.367799Z"
    }
   },
   "cell_type": "code",
   "source": "print(img.cam_from_world.matrix()) # [R | t] matrix",
   "id": "2dcfbec214d656e4",
   "outputs": [
    {
     "name": "stdout",
     "output_type": "stream",
     "text": [
      "[[ 0.45274845  0.26203346  0.85226599 -0.67282364]\n",
      " [-0.22849271  0.95802112 -0.17316644  0.96438993]\n",
      " [-0.86186421 -0.11633573  0.49361531  3.59773028]]\n"
     ]
    }
   ],
   "execution_count": 22
  },
  {
   "metadata": {},
   "cell_type": "markdown",
   "source": "Essential matrix encapsulates the relative rotation and translation between two camera views.",
   "id": "a403ffeefca7b172"
  },
  {
   "metadata": {
    "ExecuteTime": {
     "end_time": "2024-09-05T09:19:05.392116Z",
     "start_time": "2024-09-05T09:19:05.387767Z"
    }
   },
   "cell_type": "code",
   "source": "print(img.cam_from_world.essential_matrix())",
   "id": "3d0c05595e636dbc",
   "outputs": [
    {
     "name": "stdout",
     "output_type": "stream",
     "text": [
      "[[-0.00240898 -0.94025694  0.29036644]\n",
      " [ 0.27714073  0.22838756  0.89783834]\n",
      " [-0.0747395  -0.23706106 -0.18636774]]\n"
     ]
    }
   ],
   "execution_count": 23
  },
  {
   "metadata": {
    "ExecuteTime": {
     "end_time": "2024-09-05T10:00:58.394138Z",
     "start_time": "2024-09-05T10:00:58.387044Z"
    }
   },
   "cell_type": "code",
   "source": "print(img.cam_from_world.matrix())",
   "id": "fba3381706cf8a4a",
   "outputs": [
    {
     "name": "stdout",
     "output_type": "stream",
     "text": [
      "[[ 0.45274845  0.26203346  0.85226599 -0.67282364]\n",
      " [-0.22849271  0.95802112 -0.17316644  0.96438993]\n",
      " [-0.86186421 -0.11633573  0.49361531  3.59773028]]\n"
     ]
    }
   ],
   "execution_count": 59
  },
  {
   "metadata": {
    "ExecuteTime": {
     "end_time": "2024-09-05T09:19:06.895116Z",
     "start_time": "2024-09-05T09:19:06.890399Z"
    }
   },
   "cell_type": "code",
   "source": "img.cam_from_world.rotation.quat # rotation quaternion",
   "id": "6837a8e52d068cec",
   "outputs": [
    {
     "data": {
      "text/plain": [
       "array([ 0.01667347,  0.5029059 , -0.14391468,  0.8521128 ])"
      ]
     },
     "execution_count": 24,
     "metadata": {},
     "output_type": "execute_result"
    }
   ],
   "execution_count": 24
  },
  {
   "metadata": {
    "ExecuteTime": {
     "end_time": "2024-09-05T09:19:07.719829Z",
     "start_time": "2024-09-05T09:19:07.714581Z"
    }
   },
   "cell_type": "code",
   "source": "img.cam_from_world.translation # translation vector",
   "id": "30bc2cfebf0b23fc",
   "outputs": [
    {
     "data": {
      "text/plain": [
       "array([-0.67282364,  0.96438993,  3.59773028])"
      ]
     },
     "execution_count": 25,
     "metadata": {},
     "output_type": "execute_result"
    }
   ],
   "execution_count": 25
  },
  {
   "metadata": {
    "ExecuteTime": {
     "end_time": "2024-09-05T09:19:08.588645Z",
     "start_time": "2024-09-05T09:19:08.583502Z"
    }
   },
   "cell_type": "code",
   "source": "reconstruction.images[10].cam_from_world.translation",
   "id": "23cd88e3cb1ab29e",
   "outputs": [
    {
     "data": {
      "text/plain": [
       "array([-0.53459106,  0.95115122,  3.49774335])"
      ]
     },
     "execution_count": 26,
     "metadata": {},
     "output_type": "execute_result"
    }
   ],
   "execution_count": 26
  },
  {
   "metadata": {
    "ExecuteTime": {
     "end_time": "2024-09-05T09:19:10.190871Z",
     "start_time": "2024-09-05T09:19:10.186862Z"
    }
   },
   "cell_type": "code",
   "source": [
    "for camera_id, camera in reconstruction.cameras.items():\n",
    "    print(camera_id, camera)"
   ],
   "id": "e0ea0d639096c463",
   "outputs": [
    {
     "name": "stdout",
     "output_type": "stream",
     "text": [
      "1 Camera(camera_id=1, model=SIMPLE_PINHOLE, width=3072, height=2304, params=[2596.140252, 1536.000000, 1152.000000] (f, cx, cy))\n"
     ]
    }
   ],
   "execution_count": 27
  },
  {
   "metadata": {},
   "cell_type": "markdown",
   "source": [
    "#### Intrinsic matrix\n",
    "This is needed to perform transformation between a point P in the 3D camera reference system to a point P' in the 2D image plane.\n",
    "\n",
    " \\begin{pmatrix}\n",
    " fk & 0 & c_x & 0 \\\\\n",
    " 0 & fk & c_y & 0 \\\\\n",
    " 0 & 0 & 1 & 0 \n",
    " \\end{pmatrix}\n",
    " \n",
    "- f : focal length\n",
    "- k : ratio $\\frac{pixels}{cm}$ (digital images are expressed in pixels)\n",
    "- $c_x$, $c_y$ : translation vector that describes offset between digital and camera coordinates\n",
    "\n",
    "(this form of matrix is needed to make translations on 3D points)"
   ],
   "id": "430a30a00b4fd0d2"
  },
  {
   "metadata": {
    "ExecuteTime": {
     "end_time": "2024-09-05T13:48:45.092286Z",
     "start_time": "2024-09-05T13:48:45.086625Z"
    }
   },
   "cell_type": "code",
   "source": "reconstruction.cameras",
   "id": "10fad38848172e49",
   "outputs": [
    {
     "data": {
      "text/plain": [
       "{1: Camera(camera_id=1, model=SIMPLE_PINHOLE, width=3072, height=2304, params=[2596.140252, 1536.000000, 1152.000000] (f, cx, cy))}"
      ]
     },
     "execution_count": 12,
     "metadata": {},
     "output_type": "execute_result"
    }
   ],
   "execution_count": 12
  },
  {
   "metadata": {
    "ExecuteTime": {
     "end_time": "2024-09-05T13:48:48.259590Z",
     "start_time": "2024-09-05T13:48:48.252638Z"
    }
   },
   "cell_type": "code",
   "source": [
    "point = reconstruction.points3D[2]\n",
    "help(point.track)"
   ],
   "id": "16db508a6a7b607c",
   "outputs": [
    {
     "name": "stdout",
     "output_type": "stream",
     "text": [
      "Help on Track in module pycolmap object:\n",
      "\n",
      "class Track(pybind11_builtins.pybind11_object)\n",
      " |  Method resolution order:\n",
      " |      Track\n",
      " |      pybind11_builtins.pybind11_object\n",
      " |      builtins.object\n",
      " |\n",
      " |  Methods defined here:\n",
      " |\n",
      " |  __copy__(...)\n",
      " |      __copy__(self: pycolmap.Track) -> pycolmap.Track\n",
      " |\n",
      " |  __deepcopy__(...)\n",
      " |      __deepcopy__(self: pycolmap.Track, arg0: dict) -> pycolmap.Track\n",
      " |\n",
      " |  __getstate__(...)\n",
      " |      __getstate__(self: pycolmap.Track) -> dict\n",
      " |\n",
      " |  __init__(...)\n",
      " |      __init__(*args, **kwargs)\n",
      " |      Overloaded function.\n",
      " |\n",
      " |      1. __init__(self: pycolmap.Track) -> None\n",
      " |\n",
      " |      2. __init__(self: pycolmap.Track, arg0: List[pycolmap.TrackElement]) -> None\n",
      " |\n",
      " |      3. __init__(self: pycolmap.Track, arg0: dict) -> None\n",
      " |\n",
      " |      4. __init__(self: pycolmap.Track, **kwargs) -> None\n",
      " |\n",
      " |  __repr__(...)\n",
      " |      __repr__(self: pycolmap.Track) -> str\n",
      " |\n",
      " |  __setstate__(...)\n",
      " |      __setstate__(self: pycolmap.Track, arg0: dict) -> None\n",
      " |\n",
      " |  add_element(...)\n",
      " |      add_element(*args, **kwargs)\n",
      " |      Overloaded function.\n",
      " |\n",
      " |      1. add_element(self: pycolmap.Track, arg0: int, arg1: int) -> None\n",
      " |\n",
      " |      Add observation (image_id, point2D_idx) to track.\n",
      " |\n",
      " |      2. add_element(self: pycolmap.Track, arg0: int, arg1: int) -> None\n",
      " |\n",
      " |  add_elements(...)\n",
      " |      add_elements(self: pycolmap.Track, arg0: List[pycolmap.TrackElement]) -> None\n",
      " |\n",
      " |      Add TrackElement list.\n",
      " |\n",
      " |  append(...)\n",
      " |      append(self: pycolmap.Track, arg0: pycolmap.TrackElement) -> None\n",
      " |\n",
      " |  delete_element(...)\n",
      " |      delete_element(self: pycolmap.Track, arg0: int, arg1: int) -> None\n",
      " |\n",
      " |      Delete observation (image_id, point2D_idx) from track.\n",
      " |\n",
      " |  length(...)\n",
      " |      length(self: pycolmap.Track) -> int\n",
      " |\n",
      " |      Track Length.\n",
      " |\n",
      " |  mergedict(...)\n",
      " |      mergedict(self: object, arg0: dict) -> None\n",
      " |\n",
      " |  remove(...)\n",
      " |      remove(*args, **kwargs)\n",
      " |      Overloaded function.\n",
      " |\n",
      " |      1. remove(self: pycolmap.Track, arg0: int) -> None\n",
      " |\n",
      " |      Remove TrackElement at index.\n",
      " |\n",
      " |      2. remove(self: pycolmap.Track, arg0: int, arg1: int) -> None\n",
      " |\n",
      " |      Remove TrackElement with (image_id,point2D_idx).\n",
      " |\n",
      " |  summary(...)\n",
      " |      summary(self: pycolmap.Track, write_type: bool = False) -> str\n",
      " |\n",
      " |  todict(...)\n",
      " |      todict(self: pycolmap.Track, recursive: bool = True) -> dict\n",
      " |\n",
      " |  ----------------------------------------------------------------------\n",
      " |  Data descriptors defined here:\n",
      " |\n",
      " |  elements\n",
      " |      (list, default: [])\n",
      " |\n",
      " |  ----------------------------------------------------------------------\n",
      " |  Static methods inherited from pybind11_builtins.pybind11_object:\n",
      " |\n",
      " |  __new__(*args, **kwargs) class method of pybind11_builtins.pybind11_object\n",
      " |      Create and return a new object.  See help(type) for accurate signature.\n",
      "\n"
     ]
    }
   ],
   "execution_count": 13
  },
  {
   "metadata": {
    "ExecuteTime": {
     "end_time": "2024-09-05T13:48:49.283084Z",
     "start_time": "2024-09-05T13:48:49.279380Z"
    }
   },
   "cell_type": "code",
   "source": "print(point.track.todict())",
   "id": "4b0e3299df7ae29f",
   "outputs": [
    {
     "name": "stdout",
     "output_type": "stream",
     "text": [
      "{'elements': [TrackElement(image_id=99, point2D_idx=12), TrackElement(image_id=72, point2D_idx=10), TrackElement(image_id=70, point2D_idx=7), TrackElement(image_id=69, point2D_idx=23), TrackElement(image_id=100, point2D_idx=3970), TrackElement(image_id=98, point2D_idx=10)]}\n"
     ]
    }
   ],
   "execution_count": 14
  },
  {
   "metadata": {
    "ExecuteTime": {
     "end_time": "2024-09-05T13:50:01.928268Z",
     "start_time": "2024-09-05T13:50:01.924637Z"
    }
   },
   "cell_type": "code",
   "source": "camera = reconstruction.cameras[1]",
   "id": "f21392fc146b141c",
   "outputs": [],
   "execution_count": 31
  },
  {
   "metadata": {},
   "cell_type": "markdown",
   "source": "### Translation to image plane",
   "id": "ee6d495c89f8d099"
  },
  {
   "metadata": {
    "ExecuteTime": {
     "end_time": "2024-09-05T13:48:51.357986Z",
     "start_time": "2024-09-05T13:48:51.153101Z"
    }
   },
   "cell_type": "code",
   "source": [
    "points = np.array([point.xyz for point in reconstruction.points3D.values()]) \n",
    "points"
   ],
   "id": "c79b1558d2d14c21",
   "outputs": [
    {
     "data": {
      "text/plain": [
       "array([[-0.30348886, -0.53839241, -0.3900015 ],\n",
       "       [ 1.49455852,  0.17994117,  0.28685437],\n",
       "       [-0.83513364, -1.78011518, -0.02891172],\n",
       "       ...,\n",
       "       [-1.69215032, -0.18830448, -0.78731384],\n",
       "       [-2.90832941, -1.42818322,  0.13762155],\n",
       "       [-2.79752025, -0.65786954,  1.43482166]])"
      ]
     },
     "execution_count": 15,
     "metadata": {},
     "output_type": "execute_result"
    }
   ],
   "execution_count": 15
  },
  {
   "metadata": {
    "ExecuteTime": {
     "end_time": "2024-09-05T13:48:52.158388Z",
     "start_time": "2024-09-05T13:48:52.153752Z"
    }
   },
   "cell_type": "code",
   "source": [
    "img = reconstruction.images[1]\n",
    "print(img.cam_from_world.rotation.quat)\n",
    "print(img.cam_from_world.translation)"
   ],
   "id": "6951cc833a166074",
   "outputs": [
    {
     "name": "stdout",
     "output_type": "stream",
     "text": [
      "[ 0.01667347  0.5029059  -0.14391468  0.8521128 ]\n",
      "[-0.67282364  0.96438993  3.59773028]\n"
     ]
    }
   ],
   "execution_count": 16
  },
  {
   "metadata": {
    "ExecuteTime": {
     "end_time": "2024-09-05T13:48:53.814694Z",
     "start_time": "2024-09-05T13:48:53.811086Z"
    }
   },
   "cell_type": "code",
   "source": "rot = R.from_quat(img.cam_from_world.rotation.quat)",
   "id": "1976ee2a42e03e56",
   "outputs": [],
   "execution_count": 17
  },
  {
   "metadata": {
    "ExecuteTime": {
     "end_time": "2024-09-05T13:48:54.529927Z",
     "start_time": "2024-09-05T13:48:54.523688Z"
    }
   },
   "cell_type": "code",
   "source": "rot.as_matrix()",
   "id": "5f8ae7eb2b15590f",
   "outputs": [
    {
     "data": {
      "text/plain": [
       "array([[ 0.45274845,  0.26203346,  0.85226599],\n",
       "       [-0.22849271,  0.95802112, -0.17316644],\n",
       "       [-0.86186421, -0.11633573,  0.49361531]])"
      ]
     },
     "execution_count": 18,
     "metadata": {},
     "output_type": "execute_result"
    }
   ],
   "execution_count": 18
  },
  {
   "metadata": {
    "ExecuteTime": {
     "end_time": "2024-09-05T13:48:56.013436Z",
     "start_time": "2024-09-05T13:48:56.007839Z"
    }
   },
   "cell_type": "code",
   "source": "img.cam_from_world.matrix() # same as above",
   "id": "3b834efa3f34204",
   "outputs": [
    {
     "data": {
      "text/plain": [
       "array([[ 0.45274845,  0.26203346,  0.85226599, -0.67282364],\n",
       "       [-0.22849271,  0.95802112, -0.17316644,  0.96438993],\n",
       "       [-0.86186421, -0.11633573,  0.49361531,  3.59773028]])"
      ]
     },
     "execution_count": 19,
     "metadata": {},
     "output_type": "execute_result"
    }
   ],
   "execution_count": 19
  },
  {
   "metadata": {
    "ExecuteTime": {
     "end_time": "2024-09-05T13:49:00.256131Z",
     "start_time": "2024-09-05T13:49:00.250837Z"
    }
   },
   "cell_type": "code",
   "source": [
    "extrinsic_matrix = np.concatenate((img.cam_from_world.matrix(), np.array([[0, 0, 0, 1]])))\n",
    "extrinsic_matrix"
   ],
   "id": "4a57045930757740",
   "outputs": [
    {
     "data": {
      "text/plain": [
       "array([[ 0.45274845,  0.26203346,  0.85226599, -0.67282364],\n",
       "       [-0.22849271,  0.95802112, -0.17316644,  0.96438993],\n",
       "       [-0.86186421, -0.11633573,  0.49361531,  3.59773028],\n",
       "       [ 0.        ,  0.        ,  0.        ,  1.        ]])"
      ]
     },
     "execution_count": 20,
     "metadata": {},
     "output_type": "execute_result"
    }
   ],
   "execution_count": 20
  },
  {
   "metadata": {},
   "cell_type": "markdown",
   "source": "Convert points (expressed in world coordinates) to homogenous coordinates",
   "id": "8395deff31d54c62"
  },
  {
   "metadata": {
    "ExecuteTime": {
     "end_time": "2024-09-05T13:49:04.200586Z",
     "start_time": "2024-09-05T13:49:04.194739Z"
    }
   },
   "cell_type": "code",
   "source": [
    "ps = np.concatenate((points, np.ones((len(points), 1), np.float32)), axis=1)\n",
    "ps"
   ],
   "id": "e8972ae301eb7b1d",
   "outputs": [
    {
     "data": {
      "text/plain": [
       "array([[-0.30348886, -0.53839241, -0.3900015 ,  1.        ],\n",
       "       [ 1.49455852,  0.17994117,  0.28685437,  1.        ],\n",
       "       [-0.83513364, -1.78011518, -0.02891172,  1.        ],\n",
       "       ...,\n",
       "       [-1.69215032, -0.18830448, -0.78731384,  1.        ],\n",
       "       [-2.90832941, -1.42818322,  0.13762155,  1.        ],\n",
       "       [-2.79752025, -0.65786954,  1.43482166,  1.        ]])"
      ]
     },
     "execution_count": 21,
     "metadata": {},
     "output_type": "execute_result"
    }
   ],
   "execution_count": 21
  },
  {
   "metadata": {
    "ExecuteTime": {
     "end_time": "2024-09-05T13:49:06.476819Z",
     "start_time": "2024-09-05T13:49:04.977472Z"
    }
   },
   "cell_type": "code",
   "source": "ps @ extrinsic_matrix",
   "id": "b00b49f1628938fc",
   "outputs": [
    {
     "data": {
      "text/plain": [
       "array([[ 0.32174297, -0.54994443, -0.35793245, -0.71814596],\n",
       "       [ 0.38831429,  0.53064036,  1.38419732,  1.19998379],\n",
       "       [ 0.05355586, -1.92085743, -0.41777106, -0.25884408],\n",
       "       ...,\n",
       "       [-0.04453461, -0.53220694, -1.7981843 , -0.87562302],\n",
       "       [-1.10902327, -2.1463196 , -2.16342472,  2.0745925 ],\n",
       "       [-2.35287601, -1.53021783, -1.56206049,  7.40989635]])"
      ]
     },
     "execution_count": 22,
     "metadata": {},
     "output_type": "execute_result"
    }
   ],
   "execution_count": 22
  },
  {
   "metadata": {},
   "cell_type": "markdown",
   "source": "Problem: we should have pinhole camera model because it needs to work with gaussian splatting?",
   "id": "584e4333610efabf"
  },
  {
   "metadata": {
    "ExecuteTime": {
     "end_time": "2024-09-05T13:49:08.850815Z",
     "start_time": "2024-09-05T13:49:08.844837Z"
    }
   },
   "cell_type": "code",
   "source": "print(reconstruction.cameras[1])",
   "id": "b2d93f269551c42c",
   "outputs": [
    {
     "name": "stdout",
     "output_type": "stream",
     "text": [
      "Camera(camera_id=1, model=SIMPLE_PINHOLE, width=3072, height=2304, params=[2596.140252, 1536.000000, 1152.000000] (f, cx, cy))\n"
     ]
    }
   ],
   "execution_count": 23
  },
  {
   "metadata": {
    "ExecuteTime": {
     "end_time": "2024-09-05T15:39:11.111971Z",
     "start_time": "2024-09-05T15:39:11.104821Z"
    }
   },
   "cell_type": "code",
   "source": [
    "f, cx, cy = reconstruction.cameras[1].params\n",
    "intrinsic_matrix = np.array([[f, 0, cx], [0, f, cy], [0, 0, 1]])"
   ],
   "id": "b169dc8482dd5de0",
   "outputs": [],
   "execution_count": 118
  },
  {
   "metadata": {
    "ExecuteTime": {
     "end_time": "2024-09-05T15:39:12.695872Z",
     "start_time": "2024-09-05T15:39:12.683291Z"
    }
   },
   "cell_type": "code",
   "source": "intrinsic_matrix",
   "id": "30f0919ddd724e5b",
   "outputs": [
    {
     "data": {
      "text/plain": [
       "array([[2.59614025e+03, 0.00000000e+00, 1.53600000e+03],\n",
       "       [0.00000000e+00, 2.59614025e+03, 1.15200000e+03],\n",
       "       [0.00000000e+00, 0.00000000e+00, 1.00000000e+00]])"
      ]
     },
     "execution_count": 119,
     "metadata": {},
     "output_type": "execute_result"
    }
   ],
   "execution_count": 119
  },
  {
   "metadata": {
    "ExecuteTime": {
     "end_time": "2024-09-05T15:29:58.391109Z",
     "start_time": "2024-09-05T15:29:58.383541Z"
    }
   },
   "cell_type": "code",
   "source": "projected_to_camera_viewpoint = (ps @ extrinsic_matrix)",
   "id": "6582e101d613760a",
   "outputs": [],
   "execution_count": 104
  },
  {
   "metadata": {
    "ExecuteTime": {
     "end_time": "2024-09-05T15:29:59.509998Z",
     "start_time": "2024-09-05T15:29:59.505271Z"
    }
   },
   "cell_type": "code",
   "source": "projected_to_camera_viewpoint.shape",
   "id": "999717f961f6951a",
   "outputs": [
    {
     "data": {
      "text/plain": [
       "(64668, 4)"
      ]
     },
     "execution_count": 105,
     "metadata": {},
     "output_type": "execute_result"
    }
   ],
   "execution_count": 105
  },
  {
   "metadata": {
    "ExecuteTime": {
     "end_time": "2024-09-05T15:30:00.546095Z",
     "start_time": "2024-09-05T15:30:00.537605Z"
    }
   },
   "cell_type": "code",
   "source": "projected_to_camera_viewpoint.shape",
   "id": "555f930ae0b2ae4d",
   "outputs": [
    {
     "data": {
      "text/plain": [
       "(64668, 4)"
      ]
     },
     "execution_count": 106,
     "metadata": {},
     "output_type": "execute_result"
    }
   ],
   "execution_count": 106
  },
  {
   "metadata": {
    "ExecuteTime": {
     "end_time": "2024-09-05T15:30:10.539639Z",
     "start_time": "2024-09-05T15:30:10.531680Z"
    }
   },
   "cell_type": "code",
   "source": [
    "points_3d = projected_to_camera_viewpoint[:, :3]\n",
    "points_3d[:, 0] /= projected_to_camera_viewpoint[:, 3]\n",
    "points_3d[:, 1] /= projected_to_camera_viewpoint[:, 3]\n",
    "points_3d[:, 2] /= projected_to_camera_viewpoint[:, 3]"
   ],
   "id": "d1cf7c78ce04c544",
   "outputs": [],
   "execution_count": 108
  },
  {
   "metadata": {
    "ExecuteTime": {
     "end_time": "2024-09-05T15:30:18.771493Z",
     "start_time": "2024-09-05T15:30:18.764938Z"
    }
   },
   "cell_type": "code",
   "source": "points_3d[:10].shape",
   "id": "ab59d7fcf50ebbc0",
   "outputs": [
    {
     "data": {
      "text/plain": [
       "(10, 3)"
      ]
     },
     "execution_count": 110,
     "metadata": {},
     "output_type": "execute_result"
    }
   ],
   "execution_count": 110
  },
  {
   "metadata": {
    "ExecuteTime": {
     "end_time": "2024-09-05T15:39:43.208317Z",
     "start_time": "2024-09-05T15:39:43.198516Z"
    }
   },
   "cell_type": "code",
   "source": [
    "points_3d[:, 0] = points_3d[:, 0] * f + cx\n",
    "points_3d[:, 1] = points_3d[:, 1] * f + cy"
   ],
   "id": "61c6da146f72f8ea",
   "outputs": [],
   "execution_count": 120
  },
  {
   "metadata": {
    "ExecuteTime": {
     "end_time": "2024-09-05T15:39:49.728553Z",
     "start_time": "2024-09-05T15:39:49.719182Z"
    }
   },
   "cell_type": "code",
   "source": "points_3d[:, :2]",
   "id": "6bb61dfb997800ad",
   "outputs": [
    {
     "data": {
      "text/plain": [
       "array([[  372.88007536,  3140.08175484],\n",
       "       [ 2376.10998236,  2300.02951401],\n",
       "       [  998.84837039, 20417.71150415],\n",
       "       ...,\n",
       "       [ 1668.04095167,  2729.94372482],\n",
       "       [  148.17085123, -1533.89937369],\n",
       "       [  711.64351522,   615.87102896]])"
      ]
     },
     "execution_count": 121,
     "metadata": {},
     "output_type": "execute_result"
    }
   ],
   "execution_count": 121
  },
  {
   "metadata": {
    "ExecuteTime": {
     "end_time": "2024-09-05T15:30:56.633681Z",
     "start_time": "2024-09-05T15:30:56.627381Z"
    }
   },
   "cell_type": "code",
   "source": "projected_to_image_plane = (points_3d @ intrinsic_matrix)",
   "id": "d723e9df740dd1d",
   "outputs": [],
   "execution_count": 115
  },
  {
   "metadata": {
    "ExecuteTime": {
     "end_time": "2024-09-05T15:30:57.877281Z",
     "start_time": "2024-09-05T15:30:57.870442Z"
    }
   },
   "cell_type": "code",
   "source": "projected_to_image_plane.shape",
   "id": "e6d56c73baf05f5a",
   "outputs": [
    {
     "data": {
      "text/plain": [
       "(64668, 3)"
      ]
     },
     "execution_count": 116,
     "metadata": {},
     "output_type": "execute_result"
    }
   ],
   "execution_count": 116
  },
  {
   "metadata": {
    "ExecuteTime": {
     "end_time": "2024-09-05T15:31:14.366741Z",
     "start_time": "2024-09-05T15:31:14.358789Z"
    }
   },
   "cell_type": "code",
   "source": "projected_to_image_plane",
   "id": "2a3c0aa69fefb076",
   "outputs": [
    {
     "data": {
      "text/plain": [
       "array([[-1163.11992464,  1988.08175484,   194.52413023],\n",
       "       [  840.10998236,  1148.02951401,  1007.62415049],\n",
       "       [ -537.15162961, 19265.71150415,  8232.69269625],\n",
       "       ...,\n",
       "       [  132.04095167,  1577.94372482,   780.36520548],\n",
       "       [-1387.82914877, -2685.89937369, -2013.97784754],\n",
       "       [ -824.35648478,  -536.12897104,  -725.83883692]])"
      ]
     },
     "execution_count": 117,
     "metadata": {},
     "output_type": "execute_result"
    }
   ],
   "execution_count": 117
  },
  {
   "metadata": {},
   "cell_type": "markdown",
   "source": "#### Using `PYCOLMAP` functionalities",
   "id": "12def81272e9b832"
  },
  {
   "metadata": {
    "ExecuteTime": {
     "end_time": "2024-09-05T15:02:44.340177Z",
     "start_time": "2024-09-05T15:02:44.324778Z"
    }
   },
   "cell_type": "code",
   "source": "img = reconstruction.images[2]",
   "id": "1bde3d969ef68bc2",
   "outputs": [],
   "execution_count": 66
  },
  {
   "metadata": {
    "ExecuteTime": {
     "end_time": "2024-09-05T15:03:14.823771Z",
     "start_time": "2024-09-05T15:03:14.814901Z"
    }
   },
   "cell_type": "code",
   "source": [
    "camera = reconstruction.cameras[img.camera_id]\n",
    "camera"
   ],
   "id": "d1d46194faca7a4b",
   "outputs": [
    {
     "data": {
      "text/plain": [
       "Camera(camera_id=1, model=SIMPLE_PINHOLE, width=3072, height=2304, params=[2596.140252, 1536.000000, 1152.000000] (f, cx, cy))"
      ]
     },
     "execution_count": 69,
     "metadata": {},
     "output_type": "execute_result"
    }
   ],
   "execution_count": 69
  },
  {
   "metadata": {
    "ExecuteTime": {
     "end_time": "2024-09-05T15:04:32.511057Z",
     "start_time": "2024-09-05T15:04:32.503868Z"
    }
   },
   "cell_type": "code",
   "source": "point_3D_camera_h = (ps @ extrinsic_matrix).T",
   "id": "2e1e4b2fe4ee6626",
   "outputs": [],
   "execution_count": 73
  },
  {
   "metadata": {},
   "cell_type": "markdown",
   "source": "Back to 3D coordinates",
   "id": "871de7bd66ace139"
  },
  {
   "metadata": {
    "ExecuteTime": {
     "end_time": "2024-09-05T15:05:08.901169Z",
     "start_time": "2024-09-05T15:05:08.896054Z"
    }
   },
   "cell_type": "code",
   "source": [
    "point_3D_camera_h[:, 0] /= point_3D_camera_h[:, 3]\n",
    "point_3D_camera_h[:, 1] /= point_3D_camera_h[:, 3]\n",
    "point_3D_camera_h[:, 2] /= point_3D_camera_h[:, 3]"
   ],
   "id": "e4f2ed58bc0d7b23",
   "outputs": [],
   "execution_count": 74
  },
  {
   "metadata": {
    "ExecuteTime": {
     "end_time": "2024-09-05T15:17:11.895821Z",
     "start_time": "2024-09-05T15:17:11.889076Z"
    }
   },
   "cell_type": "code",
   "source": [
    "point_3D_camera = point_3D_camera_h.T[:, :3]\n",
    "point_3D_camera.shape"
   ],
   "id": "aa12ffea909ef8bd",
   "outputs": [
    {
     "data": {
      "text/plain": [
       "(64668, 3)"
      ]
     },
     "execution_count": 82,
     "metadata": {},
     "output_type": "execute_result"
    }
   ],
   "execution_count": 82
  },
  {
   "metadata": {
    "ExecuteTime": {
     "end_time": "2024-09-05T15:16:57.623945Z",
     "start_time": "2024-09-05T15:16:57.615722Z"
    }
   },
   "cell_type": "code",
   "source": "img.cam_from_world",
   "id": "cc39d2657544a430",
   "outputs": [
    {
     "data": {
      "text/plain": [
       "Rigid3d(quat_xyzw=[0.0276686, 0.506153, -0.15509, 0.847934], t=[-0.750657, 0.94269, 3.5333])"
      ]
     },
     "execution_count": 81,
     "metadata": {},
     "output_type": "execute_result"
    }
   ],
   "execution_count": 81
  },
  {
   "metadata": {
    "ExecuteTime": {
     "end_time": "2024-09-05T15:17:18.525266Z",
     "start_time": "2024-09-05T15:17:18.519669Z"
    }
   },
   "cell_type": "code",
   "source": "coords = camera.img_from_cam(point_3D_camera)",
   "id": "352da53d74cef4a1",
   "outputs": [],
   "execution_count": 84
  },
  {
   "metadata": {
    "ExecuteTime": {
     "end_time": "2024-09-05T15:17:29.957046Z",
     "start_time": "2024-09-05T15:17:29.950790Z"
    }
   },
   "cell_type": "code",
   "source": "coords[:5]",
   "id": "d87265e745d0cf0b",
   "outputs": [
    {
     "data": {
      "text/plain": [
       "array([[229849.6289541 ,   2500.8069962 ],\n",
       "       [-69717.99423278,   1488.5381872 ],\n",
       "       [ 34096.60553989,   5188.35036132],\n",
       "       [  1509.46418351,   8829.57780861],\n",
       "       [  6565.59061033,   1615.97879566]])"
      ]
     },
     "execution_count": 86,
     "metadata": {},
     "output_type": "execute_result"
    }
   ],
   "execution_count": 86
  },
  {
   "metadata": {},
   "cell_type": "code",
   "outputs": [],
   "execution_count": null,
   "source": "",
   "id": "a9cf32f7bd6f575"
  },
  {
   "metadata": {},
   "cell_type": "markdown",
   "source": "### Packing into code",
   "id": "d7596a0bcfe03920"
  },
  {
   "metadata": {
    "ExecuteTime": {
     "end_time": "2024-09-05T09:58:26.435775Z",
     "start_time": "2024-09-05T09:58:26.425982Z"
    }
   },
   "cell_type": "code",
   "source": "img",
   "id": "eb8140ce194677ca",
   "outputs": [
    {
     "data": {
      "text/plain": [
       "Image(image_id=1, camera_id=1, name=\"P1180141.JPG\", triangulated=2395/12923)"
      ]
     },
     "execution_count": 55,
     "metadata": {},
     "output_type": "execute_result"
    }
   ],
   "execution_count": 55
  },
  {
   "metadata": {
    "ExecuteTime": {
     "end_time": "2024-09-05T09:59:33.768857Z",
     "start_time": "2024-09-05T09:59:33.761946Z"
    }
   },
   "cell_type": "code",
   "source": [
    "def get_camera_from_image(image: pycolmap.Image):\n",
    "    return image.cam_from_world"
   ],
   "id": "1c7c3ff0ceb17370",
   "outputs": [],
   "execution_count": 56
  },
  {
   "metadata": {
    "ExecuteTime": {
     "end_time": "2024-09-05T10:01:29.336659Z",
     "start_time": "2024-09-05T10:01:29.330096Z"
    }
   },
   "cell_type": "code",
   "source": [
    "def get_extrinsic_params(camera: pycolmap.Rigid3d):\n",
    "    return np.concatenate((camera.matrix(), np.array([[0, 0, 0, 1]])))"
   ],
   "id": "85e0497ea5377bb8",
   "outputs": [],
   "execution_count": 60
  },
  {
   "metadata": {
    "ExecuteTime": {
     "end_time": "2024-09-05T10:01:38.525164Z",
     "start_time": "2024-09-05T10:01:38.515929Z"
    }
   },
   "cell_type": "code",
   "source": "get_extrinsic_params(get_camera_from_image(img))",
   "id": "9aeacebd97cb891d",
   "outputs": [
    {
     "data": {
      "text/plain": [
       "array([[ 0.45274845,  0.26203346,  0.85226599, -0.67282364],\n",
       "       [-0.22849271,  0.95802112, -0.17316644,  0.96438993],\n",
       "       [-0.86186421, -0.11633573,  0.49361531,  3.59773028],\n",
       "       [ 0.        ,  0.        ,  0.        ,  1.        ]])"
      ]
     },
     "execution_count": 61,
     "metadata": {},
     "output_type": "execute_result"
    }
   ],
   "execution_count": 61
  },
  {
   "metadata": {
    "ExecuteTime": {
     "end_time": "2024-09-05T10:05:19.362864Z",
     "start_time": "2024-09-05T10:05:19.355121Z"
    }
   },
   "cell_type": "code",
   "source": [
    "def get_intrinsic_params(reconstruction: pycolmap.Reconstruction):\n",
    "    '''\n",
    "    Assumes that there is only one camera, and it is a PINHOLE camera\n",
    "    :param reconstruction: \n",
    "    :return: 3x4 intrinsic matrix \n",
    "    '''\n",
    "    f, cx, cy = reconstruction.cameras[1].params\n",
    "    intrinsic_matrix = np.array([[f, 0, cx, 0], [0, f, cy, 0], [0, 0, 1, 0]])\n",
    "    return intrinsic_matrix"
   ],
   "id": "88e749dfa48b7a92",
   "outputs": [],
   "execution_count": 64
  },
  {
   "metadata": {
    "ExecuteTime": {
     "end_time": "2024-09-05T10:05:21.937454Z",
     "start_time": "2024-09-05T10:05:21.927817Z"
    }
   },
   "cell_type": "code",
   "source": "get_intrinsic_params(reconstruction)",
   "id": "e9745b26c241ba92",
   "outputs": [
    {
     "data": {
      "text/plain": [
       "array([[2.59614025e+03, 0.00000000e+00, 1.53600000e+03, 0.00000000e+00],\n",
       "       [0.00000000e+00, 2.59614025e+03, 1.15200000e+03, 0.00000000e+00],\n",
       "       [0.00000000e+00, 0.00000000e+00, 1.00000000e+00, 0.00000000e+00]])"
      ]
     },
     "execution_count": 65,
     "metadata": {},
     "output_type": "execute_result"
    }
   ],
   "execution_count": 65
  },
  {
   "metadata": {
    "ExecuteTime": {
     "end_time": "2024-09-05T10:09:20.612423Z",
     "start_time": "2024-09-05T10:09:20.606210Z"
    }
   },
   "cell_type": "code",
   "source": "reconstruction.points3D.values()",
   "id": "f3f5eb68b96b5548",
   "outputs": [
    {
     "data": {
      "text/plain": [
       "<pycolmap.ValuesView[colmap::Point3D] at 0x200aa93f1f0>"
      ]
     },
     "execution_count": 68,
     "metadata": {},
     "output_type": "execute_result"
    }
   ],
   "execution_count": 68
  },
  {
   "metadata": {},
   "cell_type": "code",
   "outputs": [],
   "execution_count": null,
   "source": [
    "def get_points_xyz(reconstruction: pycolmap.Reconstruction):\n",
    "    return np.array([point.xyz for point in reconstruction.points3D.values()]) "
   ],
   "id": "57d6e53eb6eb063e"
  },
  {
   "metadata": {},
   "cell_type": "code",
   "outputs": [],
   "execution_count": null,
   "source": [
    "def points_projection(reconstruction: pycolmap.MapPoint3DIdToPoint3D):\n",
    "    "
   ],
   "id": "162a2aec8def6937"
  }
 ],
 "metadata": {
  "kernelspec": {
   "display_name": "Python 3",
   "language": "python",
   "name": "python3"
  },
  "language_info": {
   "codemirror_mode": {
    "name": "ipython",
    "version": 2
   },
   "file_extension": ".py",
   "mimetype": "text/x-python",
   "name": "python",
   "nbconvert_exporter": "python",
   "pygments_lexer": "ipython2",
   "version": "2.7.6"
  }
 },
 "nbformat": 4,
 "nbformat_minor": 5
}
