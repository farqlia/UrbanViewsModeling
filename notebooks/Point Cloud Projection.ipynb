{
 "cells": [
  {
   "metadata": {},
   "cell_type": "markdown",
   "source": "### 1. Reconstruction Object",
   "id": "afdf80dbce54ac04"
  },
  {
   "metadata": {},
   "cell_type": "markdown",
   "source": "### 2. Extrinsic & Intrinsic Matrix",
   "id": "e4a9a916d2c049b"
  },
  {
   "metadata": {},
   "cell_type": "markdown",
   "source": "### 3. Projection 1",
   "id": "28184b154bb1b777"
  },
  {
   "metadata": {},
   "cell_type": "markdown",
   "source": "### 4. Perspective projection (OPENGL)",
   "id": "b03bbba95a5facef"
  }
 ],
 "metadata": {
  "kernelspec": {
   "display_name": "Python 3",
   "language": "python",
   "name": "python3"
  },
  "language_info": {
   "codemirror_mode": {
    "name": "ipython",
    "version": 2
   },
   "file_extension": ".py",
   "mimetype": "text/x-python",
   "name": "python",
   "nbconvert_exporter": "python",
   "pygments_lexer": "ipython2",
   "version": "2.7.6"
  }
 },
 "nbformat": 4,
 "nbformat_minor": 5
}
