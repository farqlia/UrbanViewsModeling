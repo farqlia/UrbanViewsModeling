{
 "cells": [
  {
   "cell_type": "code",
   "id": "initial_id",
   "metadata": {
    "collapsed": true,
    "ExecuteTime": {
     "end_time": "2024-09-15T14:38:09.005823Z",
     "start_time": "2024-09-15T14:38:04.360038Z"
    }
   },
   "source": [
    "import pycolmap\n",
    "import torch \n",
    "from pathlib import Path\n",
    "import os\n",
    "import matplotlib.pyplot as plt\n",
    "import matplotlib.image as mpimg\n",
    "from src.geometry.point_transformation import *\n",
    "import open3d as o3d"
   ],
   "outputs": [
    {
     "name": "stdout",
     "output_type": "stream",
     "text": [
      "Jupyter environment detected. Enabling Open3D WebVisualizer.\n",
      "[Open3D INFO] WebRTC GUI backend enabled.\n",
      "[Open3D INFO] WebRTCWindowSystem: HTTP handshake server disabled.\n"
     ]
    }
   ],
   "execution_count": 3
  },
  {
   "metadata": {
    "ExecuteTime": {
     "end_time": "2024-09-15T14:38:11.520876Z",
     "start_time": "2024-09-15T14:38:11.472080Z"
    }
   },
   "cell_type": "code",
   "source": [
    "device = torch.device('cuda' if torch.cuda.is_available() else 'cpu')\n",
    "requires_grad = True"
   ],
   "id": "ba0b4581b8693cce",
   "outputs": [],
   "execution_count": 4
  },
  {
   "metadata": {
    "jupyter": {
     "is_executing": true
    },
    "ExecuteTime": {
     "end_time": "2024-09-15T14:40:12.812314800Z",
     "start_time": "2024-09-15T14:38:12.333971Z"
    }
   },
   "cell_type": "code",
   "source": [
    "scene_folder = Path('../data/south-building')\n",
    "images_folder = scene_folder / 'images'\n",
    "database_path = scene_folder / 'database.db'\n",
    "output_path = scene_folder / 'undistorted_images'\n",
    "\n",
    "reconstruction = pycolmap.Reconstruction(output_path / 'sparse')\n",
    "\n",
    "img_id = 1\n",
    "img = reconstruction.images[img_id]\n",
    "cam_id = 1\n",
    "\n",
    "extrinsic_matrix = get_extrinsic_params(img.cam_from_world)\n",
    "f, cx, cy = reconstruction.cameras[cam_id].params\n",
    "width, height = reconstruction.cameras[cam_id].width, reconstruction.cameras[cam_id].height\n",
    "znear, zfar = 1, 5\n",
    "intrinsic_matrix = get_intrinsic_opengl_params(f, f, height, width, zfar=zfar, znear=znear)\n",
    "\n",
    "colors = np.array([p.color for p in reconstruction.points3D.values()]) / 255.0\n",
    "homogeneous_points = convert_to_homogenous(get_points_xyz(reconstruction))\n",
    "camera_coordinates = homogeneous_points @ extrinsic_matrix.T\n",
    "clip_coordinates = camera_coordinates @ intrinsic_matrix.T\n",
    "point_ids = cull_coordinates_ids(clip_coordinates, camera_coordinates, zfar=zfar, znear=znear)\n",
    "\n",
    "ndc_coordinates = to_ndc_coordinates(clip_coordinates[point_ids])\n",
    "c = colors[point_ids]\n",
    "\n",
    "screen_coordinates = to_screen_coordinates(ndc_coordinates, width, height, zfar, znear)\n",
    "image = mpimg.imread(images_folder / f'{img.name}')\n",
    "plt.figure(figsize=(14, 6))\n",
    "plt.subplot(1, 2, 1)\n",
    "plt.scatter(screen_coordinates[:, 0], -screen_coordinates[:, 1], s=2, c=c)\n",
    "plt.subplot(1, 2, 2)\n",
    "plt.imshow(image)"
   ],
   "id": "ef784632b51b22c2",
   "outputs": [],
   "execution_count": null
  },
  {
   "metadata": {
    "ExecuteTime": {
     "end_time": "2024-09-15T14:37:59.723420Z",
     "start_time": "2024-09-15T14:37:59.171782Z"
    }
   },
   "cell_type": "code",
   "source": [
    "print(f\"# filtered points {sum(point_ids)}\")\n",
    "print(f\"# total points {reconstruction.num_points3D()}\")"
   ],
   "id": "93355e864fcba2d6",
   "outputs": [
    {
     "ename": "NameError",
     "evalue": "name 'point_ids' is not defined",
     "output_type": "error",
     "traceback": [
      "\u001B[1;31m---------------------------------------------------------------------------\u001B[0m",
      "\u001B[1;31mNameError\u001B[0m                                 Traceback (most recent call last)",
      "Cell \u001B[1;32mIn[1], line 1\u001B[0m\n\u001B[1;32m----> 1\u001B[0m \u001B[38;5;28mprint\u001B[39m(\u001B[38;5;124mf\u001B[39m\u001B[38;5;124m\"\u001B[39m\u001B[38;5;124m# filtered points \u001B[39m\u001B[38;5;132;01m{\u001B[39;00m\u001B[38;5;28msum\u001B[39m(\u001B[43mpoint_ids\u001B[49m)\u001B[38;5;132;01m}\u001B[39;00m\u001B[38;5;124m\"\u001B[39m)\n\u001B[0;32m      2\u001B[0m \u001B[38;5;28mprint\u001B[39m(\u001B[38;5;124mf\u001B[39m\u001B[38;5;124m\"\u001B[39m\u001B[38;5;124m# total points \u001B[39m\u001B[38;5;132;01m{\u001B[39;00mreconstruction\u001B[38;5;241m.\u001B[39mnum_points3D()\u001B[38;5;132;01m}\u001B[39;00m\u001B[38;5;124m\"\u001B[39m)\n",
      "\u001B[1;31mNameError\u001B[0m: name 'point_ids' is not defined"
     ]
    }
   ],
   "execution_count": 1
  },
  {
   "metadata": {
    "ExecuteTime": {
     "end_time": "2024-09-15T13:52:57.318580Z",
     "start_time": "2024-09-15T13:52:57.303864Z"
    }
   },
   "cell_type": "code",
   "source": "pcd = o3d.io.read_point_cloud(str(scene_folder / 'sparse.ply'))",
   "id": "63b69107614b795a",
   "outputs": [],
   "execution_count": 21
  },
  {
   "metadata": {},
   "cell_type": "markdown",
   "source": "Initialize covariance matrices",
   "id": "99b4bec7d773f81a"
  },
  {
   "metadata": {
    "ExecuteTime": {
     "end_time": "2024-09-15T13:54:36.349353Z",
     "start_time": "2024-09-15T13:54:36.308366Z"
    }
   },
   "cell_type": "code",
   "source": [
    "pcd.estimate_covariances(search_param=o3d.geometry.KDTreeSearchParamKNN(knn=3))\n",
    "print(np.asarray(pcd.covariances).shape)"
   ],
   "id": "4a951b3294112340",
   "outputs": [
    {
     "name": "stdout",
     "output_type": "stream",
     "text": [
      "(57713, 3, 3)\n"
     ]
    }
   ],
   "execution_count": 28
  },
  {
   "metadata": {
    "ExecuteTime": {
     "end_time": "2024-09-15T14:36:24.661033Z",
     "start_time": "2024-09-15T14:36:24.085573Z"
    }
   },
   "cell_type": "code",
   "source": [
    "cov_3d = torch.tensor(np.asarray(pcd.covariances), requires_grad=requires_grad, device=device)\n",
    "cov_3d"
   ],
   "id": "1b738c61ac60b350",
   "outputs": [
    {
     "data": {
      "text/plain": [
       "tensor([[[ 4.4004e-06,  5.1835e-06, -2.3480e-06],\n",
       "         [ 5.1835e-06,  2.3757e-05, -9.6698e-07],\n",
       "         [-2.3480e-06, -9.6698e-07,  1.4362e-06]],\n",
       "\n",
       "        [[ 4.7358e-06, -4.8224e-06, -2.5215e-06],\n",
       "         [-4.8224e-06,  1.5954e-04,  3.8990e-05],\n",
       "         [-2.5215e-06,  3.8990e-05,  9.9217e-06]],\n",
       "\n",
       "        [[ 1.4094e-05, -1.5892e-05, -3.1668e-06],\n",
       "         [-1.5892e-05,  1.7975e-05,  3.4742e-06],\n",
       "         [-3.1668e-06,  3.4742e-06,  8.8423e-07]],\n",
       "\n",
       "        ...,\n",
       "\n",
       "        [[ 8.3156e-07,  4.9832e-06,  2.4029e-06],\n",
       "         [ 4.9832e-06,  3.0314e-05,  1.6523e-05],\n",
       "         [ 2.4029e-06,  1.6523e-05,  1.6917e-05]],\n",
       "\n",
       "        [[ 8.1634e-06,  3.2351e-06,  6.2868e-06],\n",
       "         [ 3.2351e-06,  2.8877e-06,  3.4254e-06],\n",
       "         [ 6.2868e-06,  3.4254e-06,  5.3849e-06]],\n",
       "\n",
       "        [[ 7.9381e-07, -2.9239e-06,  3.7494e-06],\n",
       "         [-2.9239e-06,  1.0953e-05, -1.5756e-05],\n",
       "         [ 3.7494e-06, -1.5756e-05,  3.8413e-05]]], device='cuda:0',\n",
       "       dtype=torch.float64, requires_grad=True)"
      ]
     },
     "execution_count": 34,
     "metadata": {},
     "output_type": "execute_result"
    }
   ],
   "execution_count": 34
  },
  {
   "metadata": {
    "ExecuteTime": {
     "end_time": "2024-09-15T13:54:22.123898Z",
     "start_time": "2024-09-15T13:53:48.390294Z"
    }
   },
   "cell_type": "code",
   "source": "o3d.visualization.draw_geometries([pcd])",
   "id": "b618057e39489b22",
   "outputs": [],
   "execution_count": 25
  }
 ],
 "metadata": {
  "kernelspec": {
   "display_name": "Python 3",
   "language": "python",
   "name": "python3"
  },
  "language_info": {
   "codemirror_mode": {
    "name": "ipython",
    "version": 2
   },
   "file_extension": ".py",
   "mimetype": "text/x-python",
   "name": "python",
   "nbconvert_exporter": "python",
   "pygments_lexer": "ipython2",
   "version": "2.7.6"
  }
 },
 "nbformat": 4,
 "nbformat_minor": 5
}
