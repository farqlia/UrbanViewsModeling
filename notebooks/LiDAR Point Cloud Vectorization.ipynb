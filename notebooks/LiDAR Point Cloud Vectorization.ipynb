{
 "cells": [
  {
   "cell_type": "code",
   "id": "initial_id",
   "metadata": {
    "collapsed": true,
    "ExecuteTime": {
     "end_time": "2024-09-01T11:20:52.879681Z",
     "start_time": "2024-09-01T11:20:46.254820Z"
    }
   },
   "source": [
    "import numpy as np\n",
    "import matplotlib.pyplot as plt\n",
    "import open3d as o3d \n",
    "import pandas as pd \n",
    "\n",
    "import rasterio \n",
    "import alphashape as ash \n",
    "import geopandas as gpd \n",
    "import shapely as sh \n",
    "\n",
    "import laspy \n",
    "\n",
    "from rasterio.transform import from_origin \n",
    "from rasterio.enums import Resampling\n",
    "from rasterio.features import shapes \n",
    "from shapely.geometry import Polygon"
   ],
   "outputs": [
    {
     "name": "stdout",
     "output_type": "stream",
     "text": [
      "Jupyter environment detected. Enabling Open3D WebVisualizer.\n",
      "[Open3D INFO] WebRTC GUI backend enabled.\n",
      "[Open3D INFO] WebRTCWindowSystem: HTTP handshake server disabled.\n"
     ]
    }
   ],
   "execution_count": 2
  },
  {
   "metadata": {
    "ExecuteTime": {
     "end_time": "2024-09-01T11:20:56.240435Z",
     "start_time": "2024-09-01T11:20:54.513288Z"
    }
   },
   "cell_type": "code",
   "source": "las = laspy.read('../data/lidar_data/vancouver.las')",
   "id": "a9be3bed7d7a04ba",
   "outputs": [],
   "execution_count": 3
  },
  {
   "metadata": {
    "ExecuteTime": {
     "end_time": "2024-09-01T11:20:58.841171Z",
     "start_time": "2024-09-01T11:20:57.259822Z"
    }
   },
   "cell_type": "code",
   "source": [
    "print(np.unique(las.classification))\n",
    "print([dimension.name for dimension in las.point_format.dimensions])"
   ],
   "id": "fc21b01784b8aa6d",
   "outputs": [
    {
     "name": "stdout",
     "output_type": "stream",
     "text": [
      "[1 2 3 5 6 7]\n",
      "['X', 'Y', 'Z', 'intensity', 'return_number', 'number_of_returns', 'scan_direction_flag', 'edge_of_flight_line', 'classification', 'synthetic', 'key_point', 'withheld', 'scan_angle_rank', 'user_data', 'point_source_id', 'gps_time']\n"
     ]
    }
   ],
   "execution_count": 4
  },
  {
   "metadata": {
    "ExecuteTime": {
     "end_time": "2024-09-01T11:20:59.571949Z",
     "start_time": "2024-09-01T11:20:59.547263Z"
    }
   },
   "cell_type": "code",
   "source": "las.vlrs[0]",
   "id": "87df7878090f8978",
   "outputs": [
    {
     "data": {
      "text/plain": [
       "<GeoKeyDirectoryVlr(4 geo_keys)>"
      ]
     },
     "execution_count": 5,
     "metadata": {},
     "output_type": "execute_result"
    }
   ],
   "execution_count": 5
  },
  {
   "metadata": {
    "jupyter": {
     "is_executing": true
    },
    "ExecuteTime": {
     "end_time": "2024-09-01T11:59:58.321062400Z",
     "start_time": "2024-09-01T11:21:01.129948Z"
    }
   },
   "cell_type": "code",
   "source": [
    "pts_mask = las.classification == 6 # only buildings\n",
    "\n",
    "xyz_t = np.vstack((las.x[pts_mask], las.y[pts_mask], las.z[pts_mask]))\n",
    "pcd_o3d = o3d.geometry.PointCloud()\n",
    "pcd_o3d.points = o3d.utility.Vector3dVector(xyz_t.transpose())"
   ],
   "id": "227f077b8a155690",
   "outputs": [],
   "execution_count": null
  },
  {
   "metadata": {},
   "cell_type": "code",
   "outputs": [],
   "execution_count": null,
   "source": "",
   "id": "20ff26a8ed2e4731"
  }
 ],
 "metadata": {
  "kernelspec": {
   "display_name": "Python 3",
   "language": "python",
   "name": "python3"
  },
  "language_info": {
   "codemirror_mode": {
    "name": "ipython",
    "version": 2
   },
   "file_extension": ".py",
   "mimetype": "text/x-python",
   "name": "python",
   "nbconvert_exporter": "python",
   "pygments_lexer": "ipython2",
   "version": "2.7.6"
  }
 },
 "nbformat": 4,
 "nbformat_minor": 5
}
