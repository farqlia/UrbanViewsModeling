{
 "cells": [
  {
   "cell_type": "code",
   "id": "initial_id",
   "metadata": {
    "ExecuteTime": {
     "end_time": "2024-09-02T13:00:52.276325Z",
     "start_time": "2024-09-02T13:00:49.068154Z"
    }
   },
   "source": [
    "import numpy as np\n",
    "import matplotlib.pyplot as plt\n",
    "import open3d as o3d \n",
    "import pandas as pd \n",
    "\n",
    "import rasterio \n",
    "import alphashape as ash \n",
    "import geopandas as gpd \n",
    "import shapely as sh \n",
    "\n",
    "import laspy \n",
    "\n",
    "from rasterio.transform import from_origin \n",
    "from rasterio.enums import Resampling\n",
    "from rasterio.features import shapes \n",
    "from shapely.geometry import Polygon"
   ],
   "outputs": [
    {
     "ename": "ImportError",
     "evalue": "DLL load failed while importing open3d: The specified module could not be found.",
     "output_type": "error",
     "traceback": [
      "\u001B[1;31m---------------------------------------------------------------------------\u001B[0m",
      "\u001B[1;31mImportError\u001B[0m                               Traceback (most recent call last)",
      "Cell \u001B[1;32mIn[1], line 3\u001B[0m\n\u001B[0;32m      1\u001B[0m \u001B[38;5;28;01mimport\u001B[39;00m \u001B[38;5;21;01mnumpy\u001B[39;00m \u001B[38;5;28;01mas\u001B[39;00m \u001B[38;5;21;01mnp\u001B[39;00m\n\u001B[0;32m      2\u001B[0m \u001B[38;5;28;01mimport\u001B[39;00m \u001B[38;5;21;01mmatplotlib\u001B[39;00m\u001B[38;5;21;01m.\u001B[39;00m\u001B[38;5;21;01mpyplot\u001B[39;00m \u001B[38;5;28;01mas\u001B[39;00m \u001B[38;5;21;01mplt\u001B[39;00m\n\u001B[1;32m----> 3\u001B[0m \u001B[38;5;28;01mimport\u001B[39;00m \u001B[38;5;21;01mopen3d\u001B[39;00m \u001B[38;5;28;01mas\u001B[39;00m \u001B[38;5;21;01mo3d\u001B[39;00m \n\u001B[0;32m      4\u001B[0m \u001B[38;5;28;01mimport\u001B[39;00m \u001B[38;5;21;01mpandas\u001B[39;00m \u001B[38;5;28;01mas\u001B[39;00m \u001B[38;5;21;01mpd\u001B[39;00m \n\u001B[0;32m      6\u001B[0m \u001B[38;5;28;01mimport\u001B[39;00m \u001B[38;5;21;01mrasterio\u001B[39;00m \n",
      "File \u001B[1;32m~\\anaconda3\\envs\\scene-recon\\Lib\\site-packages\\open3d\\__init__.py:13\u001B[0m\n\u001B[0;32m     11\u001B[0m     \u001B[38;5;28;01mfrom\u001B[39;00m \u001B[38;5;21;01mopen3d\u001B[39;00m\u001B[38;5;21;01m.\u001B[39;00m\u001B[38;5;21;01mmacos\u001B[39;00m \u001B[38;5;28;01mimport\u001B[39;00m \u001B[38;5;241m*\u001B[39m\n\u001B[0;32m     12\u001B[0m \u001B[38;5;28;01melif\u001B[39;00m sys\u001B[38;5;241m.\u001B[39mplatform \u001B[38;5;241m==\u001B[39m \u001B[38;5;124m\"\u001B[39m\u001B[38;5;124mwin32\u001B[39m\u001B[38;5;124m\"\u001B[39m:\n\u001B[1;32m---> 13\u001B[0m     \u001B[38;5;28;01mfrom\u001B[39;00m \u001B[38;5;21;01mopen3d\u001B[39;00m\u001B[38;5;21;01m.\u001B[39;00m\u001B[38;5;21;01mwin32\u001B[39;00m \u001B[38;5;28;01mimport\u001B[39;00m \u001B[38;5;241m*\u001B[39m\n",
      "File \u001B[1;32m~\\anaconda3\\envs\\scene-recon\\Lib\\site-packages\\open3d\\win32\\__init__.py:11\u001B[0m\n\u001B[0;32m      9\u001B[0m     \u001B[38;5;28mglobals\u001B[39m()\u001B[38;5;241m.\u001B[39mupdate(importlib\u001B[38;5;241m.\u001B[39mimport_module(\u001B[38;5;124m'\u001B[39m\u001B[38;5;124mopen3d.win32.32b.open3d\u001B[39m\u001B[38;5;124m'\u001B[39m)\u001B[38;5;241m.\u001B[39m\u001B[38;5;18m__dict__\u001B[39m)\n\u001B[0;32m     10\u001B[0m \u001B[38;5;28;01melif\u001B[39;00m platform\u001B[38;5;241m.\u001B[39marchitecture()[\u001B[38;5;241m0\u001B[39m] \u001B[38;5;241m==\u001B[39m \u001B[38;5;124m'\u001B[39m\u001B[38;5;124m64bit\u001B[39m\u001B[38;5;124m'\u001B[39m:\n\u001B[1;32m---> 11\u001B[0m     \u001B[38;5;28mglobals\u001B[39m()\u001B[38;5;241m.\u001B[39mupdate(importlib\u001B[38;5;241m.\u001B[39mimport_module(\u001B[38;5;124m'\u001B[39m\u001B[38;5;124mopen3d.win32.64b.open3d\u001B[39m\u001B[38;5;124m'\u001B[39m)\u001B[38;5;241m.\u001B[39m\u001B[38;5;18m__dict__\u001B[39m)\n",
      "File \u001B[1;32m~\\anaconda3\\envs\\scene-recon\\Lib\\importlib\\__init__.py:90\u001B[0m, in \u001B[0;36mimport_module\u001B[1;34m(name, package)\u001B[0m\n\u001B[0;32m     88\u001B[0m             \u001B[38;5;28;01mbreak\u001B[39;00m\n\u001B[0;32m     89\u001B[0m         level \u001B[38;5;241m+\u001B[39m\u001B[38;5;241m=\u001B[39m \u001B[38;5;241m1\u001B[39m\n\u001B[1;32m---> 90\u001B[0m \u001B[38;5;28;01mreturn\u001B[39;00m _bootstrap\u001B[38;5;241m.\u001B[39m_gcd_import(name[level:], package, level)\n",
      "File \u001B[1;32m~\\anaconda3\\envs\\scene-recon\\Lib\\site-packages\\open3d\\win32\\64b\\__init__.py:7\u001B[0m\n\u001B[0;32m      1\u001B[0m \u001B[38;5;66;03m# Open3D: www.open3d.org\u001B[39;00m\n\u001B[0;32m      2\u001B[0m \u001B[38;5;66;03m# The MIT License (MIT)\u001B[39;00m\n\u001B[0;32m      3\u001B[0m \u001B[38;5;66;03m# See license file or visit www.open3d.org for details\u001B[39;00m\n\u001B[0;32m      5\u001B[0m \u001B[38;5;28;01mimport\u001B[39;00m \u001B[38;5;21;01mimportlib\u001B[39;00m\n\u001B[1;32m----> 7\u001B[0m \u001B[38;5;28mglobals\u001B[39m()\u001B[38;5;241m.\u001B[39mupdate(importlib\u001B[38;5;241m.\u001B[39mimport_module(\u001B[38;5;124m'\u001B[39m\u001B[38;5;124mopen3d.win32.64b.open3d\u001B[39m\u001B[38;5;124m'\u001B[39m)\u001B[38;5;241m.\u001B[39m\u001B[38;5;18m__dict__\u001B[39m)\n",
      "File \u001B[1;32m~\\anaconda3\\envs\\scene-recon\\Lib\\importlib\\__init__.py:90\u001B[0m, in \u001B[0;36mimport_module\u001B[1;34m(name, package)\u001B[0m\n\u001B[0;32m     88\u001B[0m             \u001B[38;5;28;01mbreak\u001B[39;00m\n\u001B[0;32m     89\u001B[0m         level \u001B[38;5;241m+\u001B[39m\u001B[38;5;241m=\u001B[39m \u001B[38;5;241m1\u001B[39m\n\u001B[1;32m---> 90\u001B[0m \u001B[38;5;28;01mreturn\u001B[39;00m _bootstrap\u001B[38;5;241m.\u001B[39m_gcd_import(name[level:], package, level)\n",
      "\u001B[1;31mImportError\u001B[0m: DLL load failed while importing open3d: The specified module could not be found."
     ]
    }
   ],
   "execution_count": 1
  },
  {
   "cell_type": "code",
   "execution_count": 3,
   "id": "a9be3bed7d7a04ba",
   "metadata": {
    "ExecuteTime": {
     "end_time": "2024-09-01T18:00:44.849736Z",
     "start_time": "2024-09-01T18:00:43.658825Z"
    }
   },
   "outputs": [],
   "source": [
    "las = laspy.read('../data/lidar_data/4890E_54590N.las')"
   ]
  },
  {
   "cell_type": "code",
   "execution_count": 4,
   "id": "fc21b01784b8aa6d",
   "metadata": {
    "ExecuteTime": {
     "end_time": "2024-09-01T18:00:46.544452Z",
     "start_time": "2024-09-01T18:00:45.467062Z"
    }
   },
   "outputs": [
    {
     "name": "stdout",
     "output_type": "stream",
     "text": [
      "[1 2 3 5 6 7 9]\n",
      "['X', 'Y', 'Z', 'intensity', 'return_number', 'number_of_returns', 'scan_direction_flag', 'edge_of_flight_line', 'classification', 'synthetic', 'key_point', 'withheld', 'scan_angle_rank', 'user_data', 'point_source_id', 'gps_time']\n"
     ]
    }
   ],
   "source": [
    "print(np.unique(las.classification))\n",
    "print([dimension.name for dimension in las.point_format.dimensions])"
   ]
  },
  {
   "cell_type": "code",
   "execution_count": 5,
   "id": "87df7878090f8978",
   "metadata": {
    "ExecuteTime": {
     "end_time": "2024-09-01T18:00:47.755557Z",
     "start_time": "2024-09-01T18:00:47.741642Z"
    }
   },
   "outputs": [
    {
     "data": {
      "text/plain": [
       "<GeoKeyDirectoryVlr(4 geo_keys)>"
      ]
     },
     "execution_count": 5,
     "metadata": {},
     "output_type": "execute_result"
    }
   ],
   "source": [
    "las.vlrs[0]"
   ]
  },
  {
   "cell_type": "code",
   "execution_count": 6,
   "id": "227f077b8a155690",
   "metadata": {
    "ExecuteTime": {
     "end_time": "2024-09-01T18:00:50.205600Z",
     "start_time": "2024-09-01T18:00:49.491022Z"
    }
   },
   "outputs": [],
   "source": [
    "pts_mask = las.classification == 2 # only buildings\n",
    "\n",
    "xyz_t = np.vstack((las.x[pts_mask], las.y[pts_mask], las.z[pts_mask]))"
   ]
  },
  {
   "cell_type": "code",
   "execution_count": 1,
   "id": "f0f7b1b8-54f7-4ff0-9be0-dc1416b8117e",
   "metadata": {},
   "outputs": [
    {
     "ename": "NameError",
     "evalue": "name 'xyz_t' is not defined",
     "output_type": "error",
     "traceback": [
      "\u001B[1;31m---------------------------------------------------------------------------\u001B[0m",
      "\u001B[1;31mNameError\u001B[0m                                 Traceback (most recent call last)",
      "Cell \u001B[1;32mIn[1], line 1\u001B[0m\n\u001B[1;32m----> 1\u001B[0m xyz_t\u001B[38;5;241m.\u001B[39mshape\n",
      "\u001B[1;31mNameError\u001B[0m: name 'xyz_t' is not defined"
     ]
    }
   ],
   "source": [
    "xyz_t.shape"
   ]
  },
  {
   "cell_type": "code",
   "execution_count": null,
   "id": "20ff26a8ed2e4731",
   "metadata": {},
   "outputs": [],
   "source": [
    "pcd_o3d = o3d.geometry.PointCloud()\n",
    "pcd_o3d.points = o3d.utility.Vector3dVector(xyz_t.transpose())"
   ]
  },
  {
   "cell_type": "code",
   "execution_count": 22,
   "id": "d789b515-0221-48e1-9f41-a73cb2fe7636",
   "metadata": {},
   "outputs": [
    {
     "data": {
      "text/plain": [
       "<LasData(1.2, point fmt: <PointFormat(1, 0 bytes of extra dims)>, 38249361 points, 1 vlrs)>"
      ]
     },
     "execution_count": 22,
     "metadata": {},
     "output_type": "execute_result"
    }
   ],
   "source": [
    "laspy.convert(las)"
   ]
  }
 ],
 "metadata": {
  "kernelspec": {
   "display_name": "Python 3 (ipykernel)",
   "language": "python",
   "name": "python3"
  },
  "language_info": {
   "codemirror_mode": {
    "name": "ipython",
    "version": 3
   },
   "file_extension": ".py",
   "mimetype": "text/x-python",
   "name": "python",
   "nbconvert_exporter": "python",
   "pygments_lexer": "ipython3",
   "version": "3.11.9"
  }
 },
 "nbformat": 4,
 "nbformat_minor": 5
}
