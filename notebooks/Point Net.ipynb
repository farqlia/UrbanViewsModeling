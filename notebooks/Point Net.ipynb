{
 "cells": [
  {
   "metadata": {},
   "cell_type": "markdown",
   "source": [
    "### Point Net\n",
    "\n",
    "- Invariant to permutation of input points.\n",
    "- Rotation and translation invariance\n",
    "\n",
    "\n",
    "based on https://colab.research.google.com/drive/1D45E5bUK3gQ40YpZo65ozs7hg5l-eo_U?usp=sharing#scrollTo=re0ME9bVtnfe"
   ],
   "id": "ecaab616b71d9546"
  },
  {
   "metadata": {
    "ExecuteTime": {
     "end_time": "2024-10-06T12:47:31.112906Z",
     "start_time": "2024-10-06T12:47:19.492239Z"
    }
   },
   "cell_type": "code",
   "source": [
    "%matplotlib inline\n",
    "from torch_geometric.datasets import GeometricShapes\n",
    "import matplotlib.pyplot as plt\n",
    "from mpl_toolkits.mplot3d import Axes3D\n",
    "import torch "
   ],
   "id": "30e34ecbf1e6b0a5",
   "outputs": [],
   "execution_count": 1
  },
  {
   "metadata": {
    "ExecuteTime": {
     "end_time": "2024-10-06T12:47:31.128433Z",
     "start_time": "2024-10-06T12:47:31.119926Z"
    }
   },
   "cell_type": "code",
   "source": "torch.cuda.is_available()",
   "id": "d07183225ac1752a",
   "outputs": [
    {
     "data": {
      "text/plain": [
       "True"
      ]
     },
     "execution_count": 2,
     "metadata": {},
     "output_type": "execute_result"
    }
   ],
   "execution_count": 2
  },
  {
   "metadata": {
    "ExecuteTime": {
     "end_time": "2024-10-06T12:47:31.377559Z",
     "start_time": "2024-10-06T12:47:31.364535Z"
    }
   },
   "cell_type": "code",
   "source": [
    "def visualize_points(pos, edge_index=None, index=None):\n",
    "    fig = plt.figure(figsize=(4, 4))\n",
    "    if edge_index is not None:\n",
    "        for (src, dst) in edge_index.t().tolist():\n",
    "             src = pos[src].tolist()\n",
    "             dst = pos[dst].tolist()\n",
    "             plt.plot([src[0], dst[0]], [src[1], dst[1]], linewidth=1, color='black')\n",
    "    if index is None:\n",
    "        plt.scatter(pos[:, 0], pos[:, 1], s=50, zorder=1000)\n",
    "    else:\n",
    "       mask = torch.zeros(pos.size(0), dtype=torch.bool)\n",
    "       mask[index] = True\n",
    "       plt.scatter(pos[~mask, 0], pos[~mask, 1], s=50, color='lightgray', zorder=1000)\n",
    "       plt.scatter(pos[mask, 0], pos[mask, 1], s=50, zorder=1000)\n",
    "    plt.axis('off')\n",
    "    plt.show()"
   ],
   "id": "364bd9c1a80cf8e9",
   "outputs": [],
   "execution_count": 3
  },
  {
   "cell_type": "code",
   "id": "initial_id",
   "metadata": {
    "collapsed": true,
    "ExecuteTime": {
     "end_time": "2024-10-06T12:47:33.512492Z",
     "start_time": "2024-10-06T12:47:33.483755Z"
    }
   },
   "source": [
    "dataset = GeometricShapes(root='../data/GeometricShapes')\n",
    "print(dataset)"
   ],
   "outputs": [
    {
     "name": "stdout",
     "output_type": "stream",
     "text": [
      "GeometricShapes(40)\n"
     ]
    }
   ],
   "execution_count": 4
  },
  {
   "metadata": {
    "ExecuteTime": {
     "end_time": "2024-10-06T12:47:34.431630Z",
     "start_time": "2024-10-06T12:47:34.417540Z"
    }
   },
   "cell_type": "code",
   "source": [
    "data = dataset[0]\n",
    "print(data)"
   ],
   "id": "9fa5b79267fbac71",
   "outputs": [
    {
     "name": "stdout",
     "output_type": "stream",
     "text": [
      "Data(pos=[32, 3], face=[3, 30], y=[1])\n"
     ]
    }
   ],
   "execution_count": 5
  },
  {
   "metadata": {
    "ExecuteTime": {
     "end_time": "2024-10-06T12:47:35.957798Z",
     "start_time": "2024-10-06T12:47:35.921555Z"
    }
   },
   "cell_type": "code",
   "source": [
    "import torch_geometric.transforms as T\n",
    "\n",
    "dataset.transform = T.SamplePoints(num=256)\n",
    "\n",
    "data = dataset[0]\n",
    "print(data)"
   ],
   "id": "cb6c153f012c169b",
   "outputs": [
    {
     "name": "stdout",
     "output_type": "stream",
     "text": [
      "Data(pos=[256, 3], y=[1])\n"
     ]
    }
   ],
   "execution_count": 6
  },
  {
   "metadata": {
    "ExecuteTime": {
     "end_time": "2024-10-06T12:47:36.719802Z",
     "start_time": "2024-10-06T12:47:36.695756Z"
    }
   },
   "cell_type": "code",
   "source": [
    "from torch_geometric.transforms import SamplePoints, KNNGraph\n",
    "\n",
    "dataset.transform = T.Compose([SamplePoints(num=256), KNNGraph(k=6)])\n",
    "\n",
    "data = dataset[0]\n",
    "print(data)"
   ],
   "id": "a52b632805964c25",
   "outputs": [
    {
     "name": "stdout",
     "output_type": "stream",
     "text": [
      "Data(pos=[256, 3], y=[1], edge_index=[2, 1536])\n"
     ]
    }
   ],
   "execution_count": 7
  },
  {
   "metadata": {
    "ExecuteTime": {
     "end_time": "2024-10-06T12:47:38.687522Z",
     "start_time": "2024-10-06T12:47:38.662530Z"
    }
   },
   "cell_type": "code",
   "source": [
    "print(data.keys())\n",
    "data['pos']"
   ],
   "id": "b0ab8fd5813f393d",
   "outputs": [
    {
     "name": "stdout",
     "output_type": "stream",
     "text": [
      "['edge_index', 'y', 'pos']\n"
     ]
    },
    {
     "data": {
      "text/plain": [
       "tensor([[ 1.4560e-01, -3.3802e-02,  2.3842e-07],\n",
       "        [ 3.5392e-01,  3.1821e-01,  2.3842e-07],\n",
       "        [ 6.6707e-01,  1.7222e-01,  2.3842e-07],\n",
       "        [-4.7899e-01,  4.2965e-01,  2.3842e-07],\n",
       "        [ 6.8093e-01,  1.1331e-01,  2.3842e-07],\n",
       "        [ 2.9766e-01,  8.3130e-01,  2.3842e-07],\n",
       "        [-2.3390e-02,  6.3056e-01,  2.3842e-07],\n",
       "        [ 2.7058e-01,  8.5537e-01,  2.3842e-07],\n",
       "        [ 2.5324e-01, -5.6167e-01,  2.3842e-07],\n",
       "        [-5.6210e-01,  4.1594e-01,  2.3842e-07],\n",
       "        [ 5.7453e-01, -5.0634e-01,  2.3842e-07],\n",
       "        [ 4.1280e-01, -2.3048e-01,  2.3842e-07],\n",
       "        [ 2.8201e-01, -6.2852e-02,  2.3842e-07],\n",
       "        [-4.7715e-01, -3.5117e-01,  2.3842e-07],\n",
       "        [-7.3560e-01,  5.2308e-01,  2.3842e-07],\n",
       "        [-2.6253e-01, -1.1525e-01,  2.3842e-07],\n",
       "        [-5.2334e-01, -8.3904e-02,  2.3842e-07],\n",
       "        [-2.6549e-01, -9.2913e-02,  2.3842e-07],\n",
       "        [ 7.3635e-01, -1.5249e-03,  2.3842e-07],\n",
       "        [ 6.3054e-01, -1.7561e-01,  2.3842e-07],\n",
       "        [ 9.2892e-02, -6.4611e-01,  2.3842e-07],\n",
       "        [-8.0833e-01, -4.6217e-01,  2.3842e-07],\n",
       "        [ 8.4609e-01, -3.5710e-01,  2.3842e-07],\n",
       "        [-4.1672e-01, -5.7257e-01,  2.3842e-07],\n",
       "        [-2.9420e-02,  9.1275e-01,  2.3842e-07],\n",
       "        [-5.8801e-01,  7.0552e-01,  2.3842e-07],\n",
       "        [-6.0342e-01, -1.4587e-01,  2.3842e-07],\n",
       "        [-2.5051e-01,  8.8361e-01,  2.3842e-07],\n",
       "        [-4.6810e-01,  4.1820e-01,  2.3842e-07],\n",
       "        [ 6.5338e-01, -3.9536e-01,  2.3842e-07],\n",
       "        [ 2.0210e-01, -6.2682e-01,  2.3842e-07],\n",
       "        [-5.5129e-01,  5.9507e-01,  2.3842e-07],\n",
       "        [ 7.2348e-02, -8.9472e-01,  2.3842e-07],\n",
       "        [-4.9703e-01, -1.7932e-01,  2.3842e-07],\n",
       "        [ 4.1319e-01,  6.0484e-02,  2.3842e-07],\n",
       "        [ 2.1189e-01,  2.9112e-01,  2.3842e-07],\n",
       "        [ 4.7540e-01,  2.4183e-01,  2.3842e-07],\n",
       "        [-6.9793e-02,  8.7557e-01,  2.3842e-07],\n",
       "        [-3.4449e-01,  4.8310e-01,  2.3842e-07],\n",
       "        [ 6.5743e-01, -6.6703e-01,  2.3842e-07],\n",
       "        [-8.9069e-01,  1.7964e-01,  2.3842e-07],\n",
       "        [-8.2499e-01, -2.1560e-01,  2.3842e-07],\n",
       "        [ 3.0240e-02,  4.5000e-01,  2.3842e-07],\n",
       "        [-7.9143e-01, -1.4772e-01,  2.3842e-07],\n",
       "        [ 7.5977e-01,  4.2461e-01,  2.3842e-07],\n",
       "        [ 2.7756e-01, -9.3791e-01,  2.3842e-07],\n",
       "        [ 2.7777e-01, -7.3300e-01,  2.3842e-07],\n",
       "        [-8.6771e-01, -4.4672e-01,  2.3842e-07],\n",
       "        [-3.6894e-02,  6.5405e-01,  2.3842e-07],\n",
       "        [ 1.2113e-01,  5.7425e-01,  2.3842e-07],\n",
       "        [-5.1890e-01, -7.4609e-01,  2.3842e-07],\n",
       "        [-5.4870e-01, -7.8507e-01,  2.3842e-07],\n",
       "        [-8.5586e-01, -9.1482e-02,  2.3842e-07],\n",
       "        [-5.0425e-01, -7.0860e-01,  2.3842e-07],\n",
       "        [-6.5804e-01, -7.3611e-01,  2.3842e-07],\n",
       "        [ 3.5082e-01,  1.4317e-01,  2.3842e-07],\n",
       "        [-1.2539e-01, -4.5149e-01,  2.3842e-07],\n",
       "        [ 2.9000e-03, -8.2232e-01,  2.3842e-07],\n",
       "        [ 5.2054e-01,  5.1603e-01,  2.3842e-07],\n",
       "        [ 1.0444e-01,  5.6598e-01,  2.3842e-07],\n",
       "        [ 2.1056e-01, -2.3193e-01,  2.3842e-07],\n",
       "        [ 2.2080e-01, -1.3900e-01,  2.3842e-07],\n",
       "        [-8.0402e-01, -2.1416e-01,  2.3842e-07],\n",
       "        [ 6.4352e-01,  5.0761e-02,  2.3842e-07],\n",
       "        [ 3.7767e-01, -2.3844e-01,  2.3842e-07],\n",
       "        [-3.5025e-01, -1.5225e-01,  2.3842e-07],\n",
       "        [-2.8304e-01, -1.9033e-01,  2.3842e-07],\n",
       "        [-7.0560e-01,  1.3320e-01,  2.3842e-07],\n",
       "        [-2.8933e-01, -1.3767e-01,  2.3842e-07],\n",
       "        [ 6.4755e-01,  2.7878e-01,  2.3842e-07],\n",
       "        [-3.3941e-01, -6.9385e-01,  2.3842e-07],\n",
       "        [-2.3125e-01, -7.9612e-01,  2.3842e-07],\n",
       "        [ 6.1291e-01,  4.1708e-01,  2.3842e-07],\n",
       "        [ 1.3679e-01,  6.7304e-01,  2.3842e-07],\n",
       "        [ 6.6489e-01, -1.4537e-01,  2.3842e-07],\n",
       "        [-1.8637e-01, -6.3179e-01,  2.3842e-07],\n",
       "        [ 5.6022e-01,  1.9179e-01,  2.3842e-07],\n",
       "        [-9.9474e-01,  3.2621e-02,  2.3842e-07],\n",
       "        [ 3.5669e-01,  7.6027e-01,  2.3842e-07],\n",
       "        [-2.3046e-01, -2.9714e-01,  2.3842e-07],\n",
       "        [ 5.5665e-01,  2.8276e-01,  2.3842e-07],\n",
       "        [ 1.6947e-01, -5.2472e-01,  2.3842e-07],\n",
       "        [ 1.7279e-01, -3.0728e-02,  2.3842e-07],\n",
       "        [-4.5224e-01,  6.2308e-01,  2.3842e-07],\n",
       "        [-3.5390e-01, -4.2098e-01,  2.3842e-07],\n",
       "        [ 1.6823e-01,  1.6666e-02,  2.3842e-07],\n",
       "        [ 4.0925e-01,  7.6342e-01,  2.3842e-07],\n",
       "        [ 7.1285e-01,  6.3794e-01,  2.3842e-07],\n",
       "        [-4.4572e-01,  7.4425e-01,  2.3842e-07],\n",
       "        [-1.9027e-01, -3.5520e-01,  2.3842e-07],\n",
       "        [-3.3352e-01, -1.9397e-01,  2.3842e-07],\n",
       "        [ 1.4546e-01, -7.9831e-02,  2.3842e-07],\n",
       "        [-2.3742e-01,  2.6009e-01,  2.3842e-07],\n",
       "        [-1.8238e-02,  1.0478e-01,  2.3842e-07],\n",
       "        [ 6.1010e-01,  2.9687e-02,  2.3842e-07],\n",
       "        [ 3.0968e-01, -3.4131e-01,  2.3842e-07],\n",
       "        [ 7.7246e-02, -7.9141e-01,  2.3842e-07],\n",
       "        [-6.6124e-02, -2.5431e-01,  2.3842e-07],\n",
       "        [ 2.5286e-01,  9.0242e-01,  2.3842e-07],\n",
       "        [-7.9852e-02,  4.2520e-01,  2.3842e-07],\n",
       "        [-7.0543e-01,  1.9548e-01,  2.3842e-07],\n",
       "        [-4.1767e-01,  1.2227e-01,  2.3842e-07],\n",
       "        [-3.1759e-01,  4.6904e-01,  2.3842e-07],\n",
       "        [ 4.0238e-01,  8.5678e-01,  2.3842e-07],\n",
       "        [-1.3128e-01,  4.2631e-01,  2.3842e-07],\n",
       "        [ 1.0546e-01,  7.5576e-01,  2.3842e-07],\n",
       "        [-1.5740e-02, -2.7043e-01,  2.3842e-07],\n",
       "        [ 5.6870e-02, -4.3552e-01,  2.3842e-07],\n",
       "        [ 2.9784e-01,  3.9483e-01,  2.3842e-07],\n",
       "        [ 8.2122e-01,  1.6280e-01,  2.3842e-07],\n",
       "        [ 2.3724e-01,  6.9612e-01,  2.3842e-07],\n",
       "        [-1.6771e-01,  7.1816e-01,  2.3842e-07],\n",
       "        [-9.8106e-01,  3.5510e-02,  2.3842e-07],\n",
       "        [ 8.9413e-02, -8.8396e-02,  2.3842e-07],\n",
       "        [ 1.3567e-01, -7.7345e-01,  2.3842e-07],\n",
       "        [-3.4786e-02, -6.1496e-01,  2.3842e-07],\n",
       "        [-5.8647e-01, -6.1016e-01,  2.3842e-07],\n",
       "        [ 2.5131e-01, -2.2456e-01,  2.3842e-07],\n",
       "        [ 5.6545e-01, -2.0949e-01,  2.3842e-07],\n",
       "        [-7.0217e-01, -6.2268e-01,  2.3842e-07],\n",
       "        [ 4.6785e-01,  5.2684e-01,  2.3842e-07],\n",
       "        [-4.0703e-01,  5.8528e-01,  2.3842e-07],\n",
       "        [ 5.4373e-01,  2.8759e-02,  2.3842e-07],\n",
       "        [ 4.0831e-01, -7.0714e-01,  2.3842e-07],\n",
       "        [-3.3119e-01, -3.0561e-01,  2.3842e-07],\n",
       "        [ 4.7029e-01,  5.1020e-01,  2.3842e-07],\n",
       "        [ 6.5504e-01,  2.6314e-01,  2.3842e-07],\n",
       "        [ 8.3042e-02, -2.8925e-01,  2.3842e-07],\n",
       "        [ 2.4844e-02, -1.0769e-01,  2.3842e-07],\n",
       "        [ 3.1252e-01,  1.5134e-01,  2.3842e-07],\n",
       "        [ 7.2751e-01,  1.7417e-01,  2.3842e-07],\n",
       "        [ 8.9087e-01, -2.2305e-01,  2.3842e-07],\n",
       "        [ 2.5081e-01, -8.5035e-01,  2.3842e-07],\n",
       "        [ 6.9829e-01,  3.9507e-02,  2.3842e-07],\n",
       "        [-3.1206e-02,  3.6588e-01,  2.3842e-07],\n",
       "        [ 7.0827e-01,  3.2992e-01,  2.3842e-07],\n",
       "        [ 1.5760e-01, -8.9440e-01,  2.3842e-07],\n",
       "        [-8.8035e-01, -3.1780e-01,  2.3842e-07],\n",
       "        [-1.9097e-01,  4.4037e-01,  2.3842e-07],\n",
       "        [ 4.3110e-01,  7.0217e-01,  2.3842e-07],\n",
       "        [-7.7243e-01, -4.8009e-01,  2.3842e-07],\n",
       "        [ 6.5656e-01,  1.4197e-01,  2.3842e-07],\n",
       "        [ 8.3315e-01, -1.5608e-01,  2.3842e-07],\n",
       "        [ 7.9421e-01, -1.4663e-01,  2.3842e-07],\n",
       "        [ 9.0193e-02,  3.9331e-01,  2.3842e-07],\n",
       "        [-5.6240e-01,  6.2665e-01,  2.3842e-07],\n",
       "        [-4.5073e-01, -4.7260e-01,  2.3842e-07],\n",
       "        [-3.5730e-01,  7.7884e-01,  2.3842e-07],\n",
       "        [ 4.1237e-01,  3.8224e-01,  2.3842e-07],\n",
       "        [ 9.7012e-02, -7.2533e-01,  2.3842e-07],\n",
       "        [-5.6590e-01, -6.5899e-01,  2.3842e-07],\n",
       "        [-3.5752e-01, -5.3895e-01,  2.3842e-07],\n",
       "        [ 3.7239e-01,  5.8395e-01,  2.3842e-07],\n",
       "        [-8.9607e-01, -1.8411e-01,  2.3842e-07],\n",
       "        [ 5.9650e-01, -1.2360e-01,  2.3842e-07],\n",
       "        [ 6.9039e-01, -4.7208e-01,  2.3842e-07],\n",
       "        [-5.0826e-01,  3.8865e-01,  2.3842e-07],\n",
       "        [-1.8524e-01, -9.3114e-01,  2.3842e-07],\n",
       "        [-4.1166e-01,  6.8712e-01,  2.3842e-07],\n",
       "        [ 3.9344e-01, -1.5316e-01,  2.3842e-07],\n",
       "        [-9.5165e-01,  2.6528e-01,  2.3842e-07],\n",
       "        [ 3.3842e-01, -4.0384e-01,  2.3842e-07],\n",
       "        [ 5.9308e-01, -2.5116e-01,  2.3842e-07],\n",
       "        [-7.9755e-01,  6.0977e-02,  2.3842e-07],\n",
       "        [-7.3702e-01,  5.8439e-01,  2.3842e-07],\n",
       "        [-4.4143e-01,  8.0726e-01,  2.3842e-07],\n",
       "        [-2.0768e-01,  7.6344e-01,  2.3842e-07],\n",
       "        [ 3.9187e-01, -5.9089e-01,  2.3842e-07],\n",
       "        [-5.4627e-01, -6.4505e-01,  2.3842e-07],\n",
       "        [ 6.4333e-01, -3.5520e-01,  2.3842e-07],\n",
       "        [-5.7427e-01, -6.4382e-01,  2.3842e-07],\n",
       "        [-5.2077e-01,  2.9662e-01,  2.3842e-07],\n",
       "        [-7.3158e-01, -3.5705e-01,  2.3842e-07],\n",
       "        [-7.6675e-01, -1.2706e-01,  2.3842e-07],\n",
       "        [ 2.7906e-01,  6.7361e-01,  2.3842e-07],\n",
       "        [-6.2355e-01,  6.3756e-01,  2.3842e-07],\n",
       "        [ 4.9800e-01,  2.3026e-01,  2.3842e-07],\n",
       "        [-2.6225e-01,  4.4871e-01,  2.3842e-07],\n",
       "        [ 2.4377e-01, -3.7894e-01,  2.3842e-07],\n",
       "        [-2.8265e-01,  3.2293e-01,  2.3842e-07],\n",
       "        [-8.0043e-01,  2.5782e-01,  2.3842e-07],\n",
       "        [ 3.3399e-01,  5.9080e-01,  2.3842e-07],\n",
       "        [-3.9787e-01,  3.3491e-01,  2.3842e-07],\n",
       "        [ 4.9304e-01,  6.2264e-01,  2.3842e-07],\n",
       "        [-5.1996e-01,  7.7908e-01,  2.3842e-07],\n",
       "        [ 1.1840e-01, -1.0949e-03,  2.3842e-07],\n",
       "        [-4.1377e-02, -9.5800e-01,  2.3842e-07],\n",
       "        [ 1.5892e-01, -6.5572e-01,  2.3842e-07],\n",
       "        [ 4.9647e-01, -4.9760e-01,  2.3842e-07],\n",
       "        [-7.5439e-01, -1.6873e-01,  2.3842e-07],\n",
       "        [-1.8926e-02, -2.8959e-01,  2.3842e-07],\n",
       "        [-1.5224e-01, -2.5807e-02,  2.3842e-07],\n",
       "        [-2.3126e-01,  4.9144e-01,  2.3842e-07],\n",
       "        [-5.3246e-01,  8.3303e-01,  2.3842e-07],\n",
       "        [ 5.0303e-01,  9.3824e-03,  2.3842e-07],\n",
       "        [-2.0327e-01, -9.6251e-01,  2.3842e-07],\n",
       "        [ 2.5728e-01, -5.1957e-01,  2.3842e-07],\n",
       "        [-8.5653e-01,  8.3202e-04,  2.3842e-07],\n",
       "        [ 5.1690e-01,  1.1802e-01,  2.3842e-07],\n",
       "        [-1.4668e-01, -4.4531e-01,  2.3842e-07],\n",
       "        [-3.1851e-01, -6.5664e-01,  2.3842e-07],\n",
       "        [-2.1583e-01,  7.0981e-01,  2.3842e-07],\n",
       "        [-1.6128e-01, -2.4771e-01,  2.3842e-07],\n",
       "        [-3.2388e-01, -8.9402e-01,  2.3842e-07],\n",
       "        [-4.1600e-01, -6.1891e-01,  2.3842e-07],\n",
       "        [ 1.3826e-02,  2.1547e-01,  2.3842e-07],\n",
       "        [-1.9612e-01, -8.3056e-01,  2.3842e-07],\n",
       "        [-7.8463e-01,  2.8815e-01,  2.3842e-07],\n",
       "        [-6.3640e-01, -5.2646e-01,  2.3842e-07],\n",
       "        [ 7.6949e-01,  5.3531e-01,  2.3842e-07],\n",
       "        [ 1.8602e-01, -5.9712e-02,  2.3842e-07],\n",
       "        [-7.7920e-02, -3.6923e-01,  2.3842e-07],\n",
       "        [ 6.2611e-01, -7.0465e-01,  2.3842e-07],\n",
       "        [ 1.2213e-01, -3.6182e-01,  2.3842e-07],\n",
       "        [-1.4669e-01, -2.0437e-02,  2.3842e-07],\n",
       "        [-7.1828e-01, -6.8077e-01,  2.3842e-07],\n",
       "        [-1.5687e-01, -8.6823e-01,  2.3842e-07],\n",
       "        [-4.9382e-01, -4.9395e-01,  2.3842e-07],\n",
       "        [-5.2514e-01, -8.3783e-01,  2.3842e-07],\n",
       "        [ 7.9216e-02, -8.0998e-01,  2.3842e-07],\n",
       "        [-5.3392e-01, -6.0735e-02,  2.3842e-07],\n",
       "        [ 3.7772e-01,  6.6526e-01,  2.3842e-07],\n",
       "        [ 1.8628e-01,  9.6025e-01,  2.3842e-07],\n",
       "        [ 2.6278e-01,  8.1161e-03,  2.3842e-07],\n",
       "        [ 6.5523e-01,  2.2105e-01,  2.3842e-07],\n",
       "        [ 4.5518e-01,  5.6281e-01,  2.3842e-07],\n",
       "        [-6.1316e-01,  2.0260e-01,  2.3842e-07],\n",
       "        [-4.9147e-01,  5.4065e-01,  2.3842e-07],\n",
       "        [ 4.0541e-01, -2.5974e-01,  2.3842e-07],\n",
       "        [-1.2844e-01, -6.9916e-01,  2.3842e-07],\n",
       "        [-5.3068e-01, -5.6748e-01,  2.3842e-07],\n",
       "        [ 7.3609e-01, -2.6600e-01,  2.3842e-07],\n",
       "        [-3.6533e-01, -6.2588e-01,  2.3842e-07],\n",
       "        [-3.6047e-01,  5.8340e-01,  2.3842e-07],\n",
       "        [-6.2635e-01,  9.3164e-02,  2.3842e-07],\n",
       "        [-4.0455e-01,  2.4029e-01,  2.3842e-07],\n",
       "        [ 1.4166e-01,  4.0977e-01,  2.3842e-07],\n",
       "        [-2.6008e-01,  7.0641e-01,  2.3842e-07],\n",
       "        [-7.5979e-01,  9.3338e-02,  2.3842e-07],\n",
       "        [ 5.4601e-01,  4.1254e-01,  2.3842e-07],\n",
       "        [ 5.4966e-01,  9.4563e-02,  2.3842e-07],\n",
       "        [ 5.0412e-01,  7.5728e-01,  2.3842e-07],\n",
       "        [ 6.0688e-01, -1.7294e-01,  2.3842e-07],\n",
       "        [-7.1022e-01, -6.3188e-01,  2.3842e-07],\n",
       "        [-1.1265e-01, -3.4073e-01,  2.3842e-07],\n",
       "        [ 5.8774e-02, -4.1958e-01,  2.3842e-07],\n",
       "        [ 2.2638e-01,  5.8843e-01,  2.3842e-07],\n",
       "        [-3.5241e-01,  5.2262e-01,  2.3842e-07],\n",
       "        [ 7.9642e-01,  3.3605e-02,  2.3842e-07],\n",
       "        [-7.5431e-01, -4.2325e-01,  2.3842e-07],\n",
       "        [ 2.4040e-01,  2.6493e-02,  2.3842e-07],\n",
       "        [ 7.8850e-02,  1.1457e-01,  2.3842e-07],\n",
       "        [ 2.2176e-01,  7.6623e-01,  2.3842e-07],\n",
       "        [ 7.5739e-01,  5.3140e-01,  2.3842e-07],\n",
       "        [ 3.1741e-01,  3.0669e-01,  2.3842e-07],\n",
       "        [-9.0280e-01,  2.8585e-01,  2.3842e-07]])"
      ]
     },
     "execution_count": 8,
     "metadata": {},
     "output_type": "execute_result"
    }
   ],
   "execution_count": 8
  },
  {
   "metadata": {
    "ExecuteTime": {
     "end_time": "2024-10-06T12:48:49.064100Z",
     "start_time": "2024-10-06T12:48:48.916134Z"
    }
   },
   "cell_type": "code",
   "source": "plt.scatter(data['pos'][:, 0], data['pos'][:, 1])",
   "id": "91bd254b83cb44bc",
   "outputs": [
    {
     "data": {
      "text/plain": [
       "<matplotlib.collections.PathCollection at 0x13638abe440>"
      ]
     },
     "execution_count": 9,
     "metadata": {},
     "output_type": "execute_result"
    },
    {
     "data": {
      "text/plain": [
       "<Figure size 640x480 with 1 Axes>"
      ],
      "image/png": "[encoded data removed]"
     },
     "metadata": {},
     "output_type": "display_data"
    }
   ],
   "execution_count": 9
  },
  {
   "metadata": {
    "ExecuteTime": {
     "end_time": "2024-10-06T12:48:50.378278Z",
     "start_time": "2024-10-06T12:48:50.368308Z"
    }
   },
   "cell_type": "code",
   "source": [
    "from torch_geometric.transforms import SamplePoints, KNNGraph\n",
    "\n",
    "dataset.transform = T.Compose([SamplePoints(num=256), KNNGraph(k=6)])\n",
    "\n",
    "data = dataset[0]\n",
    "print(data)"
   ],
   "id": "2155023573976cd7",
   "outputs": [
    {
     "name": "stdout",
     "output_type": "stream",
     "text": [
      "Data(pos=[256, 3], y=[1], edge_index=[2, 1536])\n"
     ]
    }
   ],
   "execution_count": 10
  },
  {
   "metadata": {
    "ExecuteTime": {
     "end_time": "2024-10-06T12:48:53.490256Z",
     "start_time": "2024-10-06T12:48:52.514238Z"
    }
   },
   "cell_type": "code",
   "source": "visualize_points(data.pos, edge_index=data.edge_index)",
   "id": "bfdfeb0c6d37fb9a",
   "outputs": [
    {
     "data": {
      "text/plain": [
       "<Figure size 400x400 with 1 Axes>"
      ],
      "image/png": "[encoded data removed]"
     },
     "metadata": {},
     "output_type": "display_data"
    }
   ],
   "execution_count": 11
  },
  {
   "metadata": {
    "ExecuteTime": {
     "end_time": "2024-10-06T12:48:54.891066Z",
     "start_time": "2024-10-06T12:48:54.875085Z"
    }
   },
   "cell_type": "code",
   "source": [
    "from torch.nn import Sequential, Linear, ReLU\n",
    "from torch_geometric.nn import MessagePassing\n",
    "\n",
    "\n",
    "class PointNetLayer(MessagePassing):\n",
    "    def __init__(self, in_channels, out_channels):\n",
    "        # Message passing with \"max\" aggregation.\n",
    "        super().__init__(aggr='max')\n",
    "\n",
    "        # Initialization of the MLP:\n",
    "        # Here, the number of input features correspond to the hidden node\n",
    "        # dimensionality plus point dimensionality (=3).\n",
    "        self.mlp = Sequential(Linear(in_channels + 3, out_channels),\n",
    "                              ReLU(),\n",
    "                              Linear(out_channels, out_channels))\n",
    "\n",
    "    def forward(self, h, pos, edge_index):\n",
    "        # Start propagating messages.\n",
    "        return self.propagate(edge_index, h=h, pos=pos)\n",
    "\n",
    "    def message(self, h_j, pos_j, pos_i):\n",
    "        # h_j defines the features of neighboring nodes as shape [num_edges, in_channels]\n",
    "        # pos_j defines the position of neighboring nodes as shape [num_edges, 3]\n",
    "        # pos_i defines the position of central nodes as shape [num_edges, 3]\n",
    "\n",
    "        input = pos_j - pos_i  # Compute spatial relation.\n",
    "\n",
    "        if h_j is not None:\n",
    "            # In the first layer, we may not have any hidden node features,\n",
    "            # so we only combine them in case they are present.\n",
    "            input = torch.cat([h_j, input], dim=-1)\n",
    "\n",
    "        return self.mlp(input)  # Apply our final MLP."
   ],
   "id": "4bfc77c6a9b04202",
   "outputs": [],
   "execution_count": 12
  },
  {
   "metadata": {
    "ExecuteTime": {
     "end_time": "2024-10-06T12:48:56.799581Z",
     "start_time": "2024-10-06T12:48:56.744345Z"
    }
   },
   "cell_type": "code",
   "source": [
    "import torch\n",
    "import torch.nn.functional as F\n",
    "from torch_cluster import knn_graph\n",
    "from torch_geometric.nn import global_max_pool\n",
    "\n",
    "\n",
    "class PointNet(torch.nn.Module):\n",
    "    def __init__(self):\n",
    "        super().__init__()\n",
    "\n",
    "        torch.manual_seed(12345)\n",
    "        self.conv1 = PointNetLayer(3, 32)\n",
    "        self.conv2 = PointNetLayer(32, 32)\n",
    "        self.classifier = Linear(32, dataset.num_classes)\n",
    "\n",
    "    def forward(self, pos, batch):\n",
    "        # Compute the kNN graph:\n",
    "        # Here, we need to pass the batch vector to the function call in order\n",
    "        # to prevent creating edges between points of different examples.\n",
    "        # We also add `loop=True` which will add self-loops to the graph in\n",
    "        # order to preserve central point information.\n",
    "        edge_index = knn_graph(pos, k=16, batch=batch, loop=True)\n",
    "\n",
    "        # 3. Start bipartite message passing.\n",
    "        h = self.conv1(h=pos, pos=pos, edge_index=edge_index)\n",
    "        h = h.relu()\n",
    "        h = self.conv2(h=h, pos=pos, edge_index=edge_index)\n",
    "        h = h.relu()\n",
    "\n",
    "        # 4. Global Pooling.\n",
    "        h = global_max_pool(h, batch)  # [num_examples, hidden_channels]\n",
    "\n",
    "        # 5. Classifier.\n",
    "        return self.classifier(h)\n",
    "\n",
    "\n",
    "model = PointNet()\n",
    "print(model)"
   ],
   "id": "59b00ecb41bf6027",
   "outputs": [
    {
     "name": "stdout",
     "output_type": "stream",
     "text": [
      "PointNet(\n",
      "  (conv1): PointNetLayer()\n",
      "  (conv2): PointNetLayer()\n",
      "  (classifier): Linear(in_features=32, out_features=40, bias=True)\n",
      ")\n"
     ]
    }
   ],
   "execution_count": 13
  },
  {
   "metadata": {},
   "cell_type": "markdown",
   "source": "**Important** the model does not generalize between different rotations applied to the input point cloud, because we train it on $p_j - p_i$",
   "id": "c70ea41af7a72a18"
  },
  {
   "metadata": {
    "ExecuteTime": {
     "end_time": "2024-10-06T12:49:23.862596Z",
     "start_time": "2024-10-06T12:49:23.802578Z"
    }
   },
   "cell_type": "code",
   "source": [
    "from IPython.display import Javascript  # Restrict height of output cell.\n",
    "display(Javascript('''google.colab.output.setIframeHeight(0, true, {maxHeight: 300})'''))\n",
    "\n",
    "from torch_geometric.loader import DataLoader\n",
    "\n",
    "train_dataset = GeometricShapes(root='data/GeometricShapes', train=True,\n",
    "                                transform=SamplePoints(128))\n",
    "test_dataset = GeometricShapes(root='data/GeometricShapes', train=False,\n",
    "                               transform=SamplePoints(128))\n",
    "\n",
    "\n",
    "train_loader = DataLoader(train_dataset, batch_size=10, shuffle=True)\n",
    "test_loader = DataLoader(test_dataset, batch_size=10)\n",
    "\n",
    "model = PointNet()\n",
    "optimizer = torch.optim.Adam(model.parameters(), lr=0.01)\n",
    "criterion = torch.nn.CrossEntropyLoss()  # Define loss criterion."
   ],
   "id": "9207414452ab0336",
   "outputs": [
    {
     "data": {
      "text/plain": [
       "<IPython.core.display.Javascript object>"
      ],
      "application/javascript": "google.colab.output.setIframeHeight(0, true, {maxHeight: 300})"
     },
     "metadata": {},
     "output_type": "display_data"
    }
   ],
   "execution_count": 15
  },
  {
   "metadata": {
    "ExecuteTime": {
     "end_time": "2024-10-06T13:56:21.315978Z",
     "start_time": "2024-10-06T13:56:21.292978Z"
    }
   },
   "cell_type": "code",
   "source": [
    "for data in train_loader:\n",
    "    print(data.batch)\n",
    "    break"
   ],
   "id": "b2061dd53a58416d",
   "outputs": [
    {
     "name": "stdout",
     "output_type": "stream",
     "text": [
      "tensor([0, 0, 0,  ..., 9, 9, 9])\n"
     ]
    }
   ],
   "execution_count": 30
  },
  {
   "metadata": {
    "ExecuteTime": {
     "end_time": "2024-09-21T14:44:51.937603Z",
     "start_time": "2024-09-21T14:44:43.251326Z"
    }
   },
   "cell_type": "code",
   "source": [
    "def train(model, optimizer, loader):\n",
    "    model.train()\n",
    "\n",
    "    total_loss = 0\n",
    "    for data in loader:\n",
    "        optimizer.zero_grad()  # Clear gradients.\n",
    "        logits = model(data.pos, data.batch)  # Forward pass.\n",
    "        loss = criterion(logits, data.y)  # Loss computation.\n",
    "        loss.backward()  # Backward pass.\n",
    "        optimizer.step()  # Update model parameters.\n",
    "        total_loss += loss.item() * data.num_graphs\n",
    "\n",
    "    return total_loss / len(train_loader.dataset)\n",
    "\n",
    "\n",
    "@torch.no_grad()\n",
    "def test(model, loader):\n",
    "    model.eval()\n",
    "\n",
    "    total_correct = 0\n",
    "    for data in loader:\n",
    "        logits = model(data.pos, data.batch)\n",
    "        pred = logits.argmax(dim=-1)\n",
    "        total_correct += int((pred == data.y).sum())\n",
    "\n",
    "    return total_correct / len(loader.dataset)\n",
    "\n",
    "for epoch in range(1, 51):\n",
    "    loss = train(model, optimizer, train_loader)\n",
    "    test_acc = test(model, test_loader)\n",
    "    print(f'Epoch: {epoch:02d}, Loss: {loss:.4f}, Test Accuracy: {test_acc:.4f}')"
   ],
   "id": "ac8d6eab67efb2c2",
   "outputs": [
    {
     "data": {
      "text/plain": [
       "<IPython.core.display.Javascript object>"
      ],
      "application/javascript": "google.colab.output.setIframeHeight(0, true, {maxHeight: 300})"
     },
     "metadata": {},
     "output_type": "display_data"
    },
    {
     "name": "stderr",
     "output_type": "stream",
     "text": [
      "Downloading https://github.com/Yannick-S/geometric_shapes/raw/master/raw.zip\n",
      "Extracting data\\GeometricShapes\\raw.zip\n",
      "Processing...\n",
      "Done!\n"
     ]
    },
    {
     "name": "stdout",
     "output_type": "stream",
     "text": [
      "Epoch: 01, Loss: 3.7549, Test Accuracy: 0.0500\n",
      "Epoch: 02, Loss: 3.7011, Test Accuracy: 0.0250\n",
      "Epoch: 03, Loss: 3.6830, Test Accuracy: 0.0250\n",
      "Epoch: 04, Loss: 3.6705, Test Accuracy: 0.0250\n",
      "Epoch: 05, Loss: 3.6338, Test Accuracy: 0.0250\n",
      "Epoch: 06, Loss: 3.5937, Test Accuracy: 0.0250\n",
      "Epoch: 07, Loss: 3.5599, Test Accuracy: 0.0250\n",
      "Epoch: 08, Loss: 3.4820, Test Accuracy: 0.0500\n",
      "Epoch: 09, Loss: 3.4096, Test Accuracy: 0.0500\n",
      "Epoch: 10, Loss: 3.3637, Test Accuracy: 0.0500\n",
      "Epoch: 11, Loss: 3.2883, Test Accuracy: 0.0750\n",
      "Epoch: 12, Loss: 3.2181, Test Accuracy: 0.1000\n",
      "Epoch: 13, Loss: 3.1262, Test Accuracy: 0.1500\n",
      "Epoch: 14, Loss: 3.0487, Test Accuracy: 0.1750\n",
      "Epoch: 15, Loss: 2.9215, Test Accuracy: 0.1750\n",
      "Epoch: 16, Loss: 2.8040, Test Accuracy: 0.2000\n",
      "Epoch: 17, Loss: 2.6926, Test Accuracy: 0.3500\n",
      "Epoch: 18, Loss: 2.5240, Test Accuracy: 0.3000\n",
      "Epoch: 19, Loss: 2.4093, Test Accuracy: 0.4500\n",
      "Epoch: 20, Loss: 2.1839, Test Accuracy: 0.2750\n",
      "Epoch: 21, Loss: 2.1728, Test Accuracy: 0.4000\n",
      "Epoch: 22, Loss: 2.1037, Test Accuracy: 0.4250\n",
      "Epoch: 23, Loss: 1.8245, Test Accuracy: 0.4250\n",
      "Epoch: 24, Loss: 1.7623, Test Accuracy: 0.5500\n",
      "Epoch: 25, Loss: 1.7429, Test Accuracy: 0.5250\n",
      "Epoch: 26, Loss: 1.4889, Test Accuracy: 0.5750\n",
      "Epoch: 27, Loss: 1.5278, Test Accuracy: 0.6000\n",
      "Epoch: 28, Loss: 1.3781, Test Accuracy: 0.6000\n",
      "Epoch: 29, Loss: 1.4288, Test Accuracy: 0.6500\n",
      "Epoch: 30, Loss: 1.3686, Test Accuracy: 0.6250\n",
      "Epoch: 31, Loss: 1.2607, Test Accuracy: 0.6500\n",
      "Epoch: 32, Loss: 1.2873, Test Accuracy: 0.7000\n",
      "Epoch: 33, Loss: 1.3431, Test Accuracy: 0.6500\n",
      "Epoch: 34, Loss: 1.2407, Test Accuracy: 0.7000\n",
      "Epoch: 35, Loss: 1.3425, Test Accuracy: 0.7000\n",
      "Epoch: 36, Loss: 1.4628, Test Accuracy: 0.5250\n",
      "Epoch: 37, Loss: 1.3222, Test Accuracy: 0.6250\n",
      "Epoch: 38, Loss: 1.3057, Test Accuracy: 0.6500\n",
      "Epoch: 39, Loss: 1.4227, Test Accuracy: 0.7000\n",
      "Epoch: 40, Loss: 1.2398, Test Accuracy: 0.7000\n",
      "Epoch: 41, Loss: 1.1041, Test Accuracy: 0.6750\n",
      "Epoch: 42, Loss: 0.9373, Test Accuracy: 0.6000\n",
      "Epoch: 43, Loss: 0.9315, Test Accuracy: 0.7250\n",
      "Epoch: 44, Loss: 0.9023, Test Accuracy: 0.7750\n",
      "Epoch: 45, Loss: 0.9848, Test Accuracy: 0.7250\n",
      "Epoch: 46, Loss: 0.8964, Test Accuracy: 0.7500\n",
      "Epoch: 47, Loss: 0.8930, Test Accuracy: 0.7250\n",
      "Epoch: 48, Loss: 0.8569, Test Accuracy: 0.7750\n",
      "Epoch: 49, Loss: 1.0568, Test Accuracy: 0.8000\n",
      "Epoch: 50, Loss: 0.7895, Test Accuracy: 0.8500\n"
     ]
    }
   ],
   "execution_count": 34
  }
 ],
 "metadata": {
  "kernelspec": {
   "display_name": "Python 3",
   "language": "python",
   "name": "python3"
  },
  "language_info": {
   "codemirror_mode": {
    "name": "ipython",
    "version": 2
   },
   "file_extension": ".py",
   "mimetype": "text/x-python",
   "name": "python",
   "nbconvert_exporter": "python",
   "pygments_lexer": "ipython2",
   "version": "2.7.6"
  }
 },
 "nbformat": 4,
 "nbformat_minor": 5
}
