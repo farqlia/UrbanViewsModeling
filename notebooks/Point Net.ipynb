{
 "cells": [
  {
   "metadata": {},
   "cell_type": "markdown",
   "source": [
    "### Point Net\n",
    "\n",
    "- Invariant to permutation of input points.\n",
    "- Rotation and translation invariance\n",
    "\n",
    "\n",
    "based on https://colab.research.google.com/drive/1D45E5bUK3gQ40YpZo65ozs7hg5l-eo_U?usp=sharing#scrollTo=re0ME9bVtnfe"
   ],
   "id": "ecaab616b71d9546"
  },
  {
   "metadata": {
    "ExecuteTime": {
     "end_time": "2024-09-21T14:39:10.183244Z",
     "start_time": "2024-09-21T14:39:10.172062Z"
    }
   },
   "cell_type": "code",
   "source": [
    "%matplotlib inline\n",
    "from torch_geometric.datasets import GeometricShapes\n",
    "import matplotlib.pyplot as plt\n",
    "from mpl_toolkits.mplot3d import Axes3D\n",
    "import torch "
   ],
   "id": "30e34ecbf1e6b0a5",
   "outputs": [],
   "execution_count": 18
  },
  {
   "metadata": {
    "ExecuteTime": {
     "end_time": "2024-09-21T14:39:17.558313Z",
     "start_time": "2024-09-21T14:39:17.541223Z"
    }
   },
   "cell_type": "code",
   "source": "torch.cuda.is_available()",
   "id": "d07183225ac1752a",
   "outputs": [
    {
     "data": {
      "text/plain": [
       "True"
      ]
     },
     "execution_count": 20,
     "metadata": {},
     "output_type": "execute_result"
    }
   ],
   "execution_count": 20
  },
  {
   "metadata": {
    "ExecuteTime": {
     "end_time": "2024-09-21T14:39:26.057801Z",
     "start_time": "2024-09-21T14:39:26.036069Z"
    }
   },
   "cell_type": "code",
   "source": [
    "def visualize_points(pos, edge_index=None, index=None):\n",
    "    fig = plt.figure(figsize=(4, 4))\n",
    "    if edge_index is not None:\n",
    "        for (src, dst) in edge_index.t().tolist():\n",
    "             src = pos[src].tolist()\n",
    "             dst = pos[dst].tolist()\n",
    "             plt.plot([src[0], dst[0]], [src[1], dst[1]], linewidth=1, color='black')\n",
    "    if index is None:\n",
    "        plt.scatter(pos[:, 0], pos[:, 1], s=50, zorder=1000)\n",
    "    else:\n",
    "       mask = torch.zeros(pos.size(0), dtype=torch.bool)\n",
    "       mask[index] = True\n",
    "       plt.scatter(pos[~mask, 0], pos[~mask, 1], s=50, color='lightgray', zorder=1000)\n",
    "       plt.scatter(pos[mask, 0], pos[mask, 1], s=50, zorder=1000)\n",
    "    plt.axis('off')\n",
    "    plt.show()"
   ],
   "id": "364bd9c1a80cf8e9",
   "outputs": [],
   "execution_count": 22
  },
  {
   "cell_type": "code",
   "id": "initial_id",
   "metadata": {
    "collapsed": true,
    "ExecuteTime": {
     "end_time": "2024-09-21T14:39:27.416196Z",
     "start_time": "2024-09-21T14:39:27.406474Z"
    }
   },
   "source": [
    "dataset = GeometricShapes(root='../data/GeometricShapes')\n",
    "print(dataset)"
   ],
   "outputs": [
    {
     "name": "stdout",
     "output_type": "stream",
     "text": [
      "GeometricShapes(40)\n"
     ]
    }
   ],
   "execution_count": 23
  },
  {
   "metadata": {
    "ExecuteTime": {
     "end_time": "2024-09-21T14:39:30.850572Z",
     "start_time": "2024-09-21T14:39:30.845537Z"
    }
   },
   "cell_type": "code",
   "source": [
    "data = dataset[0]\n",
    "print(data)"
   ],
   "id": "9fa5b79267fbac71",
   "outputs": [
    {
     "name": "stdout",
     "output_type": "stream",
     "text": [
      "Data(pos=[32, 3], face=[3, 30], y=[1])\n"
     ]
    }
   ],
   "execution_count": 24
  },
  {
   "metadata": {
    "ExecuteTime": {
     "end_time": "2024-09-21T14:39:35.672118Z",
     "start_time": "2024-09-21T14:39:35.661327Z"
    }
   },
   "cell_type": "code",
   "source": [
    "import torch_geometric.transforms as T\n",
    "\n",
    "dataset.transform = T.SamplePoints(num=256)\n",
    "\n",
    "data = dataset[0]\n",
    "print(data)"
   ],
   "id": "cb6c153f012c169b",
   "outputs": [
    {
     "name": "stdout",
     "output_type": "stream",
     "text": [
      "Data(pos=[256, 3], y=[1])\n"
     ]
    }
   ],
   "execution_count": 25
  },
  {
   "metadata": {
    "ExecuteTime": {
     "end_time": "2024-09-21T14:39:36.946939Z",
     "start_time": "2024-09-21T14:39:36.924405Z"
    }
   },
   "cell_type": "code",
   "source": [
    "from torch_geometric.transforms import SamplePoints, KNNGraph\n",
    "\n",
    "dataset.transform = T.Compose([SamplePoints(num=256), KNNGraph(k=6)])\n",
    "\n",
    "data = dataset[0]\n",
    "print(data)"
   ],
   "id": "a52b632805964c25",
   "outputs": [
    {
     "name": "stdout",
     "output_type": "stream",
     "text": [
      "Data(pos=[256, 3], y=[1], edge_index=[2, 1536])\n"
     ]
    }
   ],
   "execution_count": 26
  },
  {
   "metadata": {
    "ExecuteTime": {
     "end_time": "2024-09-21T14:39:38.393199Z",
     "start_time": "2024-09-21T14:39:38.376174Z"
    }
   },
   "cell_type": "code",
   "source": [
    "print(data.keys())\n",
    "data['pos']"
   ],
   "id": "b0ab8fd5813f393d",
   "outputs": [
    {
     "name": "stdout",
     "output_type": "stream",
     "text": [
      "['pos', 'y', 'edge_index']\n"
     ]
    },
    {
     "data": {
      "text/plain": [
       "tensor([[-2.1272e-01,  4.3131e-01,  2.3842e-07],\n",
       "        [ 2.7784e-01,  5.0328e-01,  2.3842e-07],\n",
       "        [ 6.3956e-01,  6.1804e-01,  2.3842e-07],\n",
       "        [-9.3130e-01, -7.2430e-02,  2.3842e-07],\n",
       "        [-2.1921e-01,  4.8797e-01,  2.3842e-07],\n",
       "        [-5.1699e-01, -7.2338e-01,  2.3842e-07],\n",
       "        [ 6.1119e-01,  3.0949e-01,  2.3842e-07],\n",
       "        [-7.8027e-01,  5.8801e-01,  2.3842e-07],\n",
       "        [-6.7940e-01, -5.2659e-01,  2.3842e-07],\n",
       "        [-8.7459e-01,  1.5573e-01,  2.3842e-07],\n",
       "        [ 9.0284e-01, -4.0302e-01,  2.3842e-07],\n",
       "        [ 5.1236e-01,  2.4207e-01,  2.3842e-07],\n",
       "        [ 1.7040e-01,  8.8576e-01,  2.3842e-07],\n",
       "        [-4.0400e-01,  4.4092e-02,  2.3842e-07],\n",
       "        [-1.7157e-01, -7.7981e-01,  2.3842e-07],\n",
       "        [-2.6794e-01, -3.8996e-02,  2.3842e-07],\n",
       "        [-2.3176e-01, -7.6796e-01,  2.3842e-07],\n",
       "        [-1.0185e-02, -8.6640e-01,  2.3842e-07],\n",
       "        [ 3.9280e-02,  8.0355e-01,  2.3842e-07],\n",
       "        [-4.5724e-01, -5.3777e-01,  2.3842e-07],\n",
       "        [-2.4901e-01,  8.4153e-01,  2.3842e-07],\n",
       "        [-6.4021e-01,  2.6920e-01,  2.3842e-07],\n",
       "        [-5.1505e-01, -2.0758e-01,  2.3842e-07],\n",
       "        [ 1.7514e-01,  2.4721e-01,  2.3842e-07],\n",
       "        [ 7.8852e-01, -2.2962e-01,  2.3842e-07],\n",
       "        [-5.1342e-01,  2.0993e-01,  2.3842e-07],\n",
       "        [-6.1750e-01, -5.3023e-01,  2.3842e-07],\n",
       "        [ 7.9190e-01, -5.5708e-01,  2.3842e-07],\n",
       "        [ 8.6494e-02, -4.9951e-01,  2.3842e-07],\n",
       "        [ 6.7028e-01,  2.2835e-02,  2.3842e-07],\n",
       "        [ 1.6282e-01, -1.3828e-01,  2.3842e-07],\n",
       "        [ 6.0967e-02,  4.5343e-01,  2.3842e-07],\n",
       "        [ 5.1650e-01, -5.1556e-02,  2.3842e-07],\n",
       "        [-3.3620e-01,  5.0305e-01,  2.3842e-07],\n",
       "        [ 6.8142e-01, -5.3394e-01,  2.3842e-07],\n",
       "        [ 4.5199e-01,  6.4496e-01,  2.3842e-07],\n",
       "        [ 5.9327e-01, -3.4508e-01,  2.3842e-07],\n",
       "        [-4.8240e-01, -6.7206e-01,  2.3842e-07],\n",
       "        [-3.9642e-01,  7.6058e-01,  2.3842e-07],\n",
       "        [-4.4390e-01, -5.3047e-01,  2.3842e-07],\n",
       "        [-2.4101e-01,  6.2055e-01,  2.3842e-07],\n",
       "        [-3.0372e-01,  6.9477e-01,  2.3842e-07],\n",
       "        [ 6.2331e-01, -4.5001e-01,  2.3842e-07],\n",
       "        [-9.2921e-01,  1.5572e-01,  2.3842e-07],\n",
       "        [ 5.0616e-01, -2.6620e-01,  2.3842e-07],\n",
       "        [ 4.4674e-01,  3.2662e-01,  2.3842e-07],\n",
       "        [-1.0545e-01, -3.5724e-01,  2.3842e-07],\n",
       "        [ 7.0912e-02,  6.5085e-01,  2.3842e-07],\n",
       "        [ 4.2530e-01,  8.8697e-01,  2.3842e-07],\n",
       "        [ 4.7744e-01,  4.6583e-01,  2.3842e-07],\n",
       "        [-5.9076e-01, -3.5742e-01,  2.3842e-07],\n",
       "        [-3.8738e-01, -9.0750e-01,  2.3842e-07],\n",
       "        [-6.6934e-01, -3.8751e-01,  2.3842e-07],\n",
       "        [ 2.5172e-01, -2.2224e-01,  2.3842e-07],\n",
       "        [-5.0053e-01,  2.5469e-02,  2.3842e-07],\n",
       "        [-3.2997e-01, -5.9005e-02,  2.3842e-07],\n",
       "        [ 1.5106e-01, -9.3274e-02,  2.3842e-07],\n",
       "        [ 3.8768e-01,  8.2234e-01,  2.3842e-07],\n",
       "        [ 2.9537e-01, -3.4551e-01,  2.3842e-07],\n",
       "        [-4.0715e-01,  6.2434e-01,  2.3842e-07],\n",
       "        [ 8.3625e-01, -1.0398e-01,  2.3842e-07],\n",
       "        [-5.5867e-01,  6.7489e-01,  2.3842e-07],\n",
       "        [ 1.5162e-01,  2.4391e-02,  2.3842e-07],\n",
       "        [ 3.8013e-01, -8.1371e-01,  2.3842e-07],\n",
       "        [-1.5580e-01,  5.1894e-01,  2.3842e-07],\n",
       "        [-3.8135e-01,  6.1779e-01,  2.3842e-07],\n",
       "        [-1.2255e-01,  4.5261e-01,  2.3842e-07],\n",
       "        [-3.3493e-01,  3.3071e-01,  2.3842e-07],\n",
       "        [ 4.7284e-01, -6.2711e-01,  2.3842e-07],\n",
       "        [-2.3277e-01, -2.4554e-01,  2.3842e-07],\n",
       "        [-6.8629e-01,  4.2749e-01,  2.3842e-07],\n",
       "        [-2.2742e-01, -6.7011e-02,  2.3842e-07],\n",
       "        [-7.1899e-01, -2.4382e-01,  2.3842e-07],\n",
       "        [-1.9214e-01,  5.7060e-02,  2.3842e-07],\n",
       "        [-1.5986e-02,  3.4443e-02,  2.3842e-07],\n",
       "        [-7.4684e-01, -4.9573e-01,  2.3842e-07],\n",
       "        [-6.4750e-01, -4.4979e-02,  2.3842e-07],\n",
       "        [-3.5962e-01,  5.7234e-01,  2.3842e-07],\n",
       "        [ 7.3802e-01,  5.6817e-01,  2.3842e-07],\n",
       "        [-3.6583e-01, -6.0587e-01,  2.3842e-07],\n",
       "        [-6.8903e-01,  1.2942e-01,  2.3842e-07],\n",
       "        [-3.2190e-01, -4.1102e-01,  2.3842e-07],\n",
       "        [ 8.6064e-01, -4.2568e-01,  2.3842e-07],\n",
       "        [ 3.3103e-01,  7.0506e-01,  2.3842e-07],\n",
       "        [ 3.8842e-01,  2.1028e-01,  2.3842e-07],\n",
       "        [-1.0421e-01,  7.2023e-01,  2.3842e-07],\n",
       "        [ 3.3419e-01, -8.8441e-01,  2.3842e-07],\n",
       "        [-5.4637e-01, -1.2149e-01,  2.3842e-07],\n",
       "        [ 3.0669e-01, -1.0969e-01,  2.3842e-07],\n",
       "        [-4.2970e-01, -2.4465e-01,  2.3842e-07],\n",
       "        [-6.3001e-01, -3.3830e-01,  2.3842e-07],\n",
       "        [ 2.9984e-01, -4.4989e-01,  2.3842e-07],\n",
       "        [ 8.6547e-01,  1.9780e-01,  2.3842e-07],\n",
       "        [ 6.3148e-01,  1.8587e-01,  2.3842e-07],\n",
       "        [ 6.5416e-01,  6.4934e-01,  2.3842e-07],\n",
       "        [-8.6879e-01, -4.2427e-01,  2.3842e-07],\n",
       "        [-7.7587e-01, -8.3421e-02,  2.3842e-07],\n",
       "        [ 7.9073e-01,  2.9489e-01,  2.3842e-07],\n",
       "        [ 5.4041e-02, -2.5677e-01,  2.3842e-07],\n",
       "        [-6.2055e-01,  4.4034e-01,  2.3842e-07],\n",
       "        [ 4.4723e-01, -8.1534e-01,  2.3842e-07],\n",
       "        [ 8.4343e-01, -2.3040e-01,  2.3842e-07],\n",
       "        [ 7.6695e-01, -5.5788e-01,  2.3842e-07],\n",
       "        [-1.7005e-01, -1.1452e-01,  2.3842e-07],\n",
       "        [-2.9348e-01,  4.3295e-01,  2.3842e-07],\n",
       "        [ 4.4704e-01, -4.6179e-03,  2.3842e-07],\n",
       "        [-8.2502e-01, -2.4920e-01,  2.3842e-07],\n",
       "        [ 2.0855e-01,  9.1217e-01,  2.3842e-07],\n",
       "        [ 1.0420e-01,  1.6147e-01,  2.3842e-07],\n",
       "        [-5.9124e-01,  4.2129e-01,  2.3842e-07],\n",
       "        [ 6.9114e-01,  3.4458e-01,  2.3842e-07],\n",
       "        [ 9.7503e-01, -1.6216e-01,  2.3842e-07],\n",
       "        [ 7.5654e-01, -4.8240e-01,  2.3842e-07],\n",
       "        [-2.6291e-01,  8.2979e-01,  2.3842e-07],\n",
       "        [-2.8261e-01, -8.0742e-01,  2.3842e-07],\n",
       "        [ 5.7922e-01, -1.5169e-01,  2.3842e-07],\n",
       "        [ 2.0819e-01, -3.9423e-01,  2.3842e-07],\n",
       "        [-7.3283e-01, -6.4828e-01,  2.3842e-07],\n",
       "        [ 3.5601e-02, -8.8933e-01,  2.3842e-07],\n",
       "        [-6.5121e-01, -4.2758e-01,  2.3842e-07],\n",
       "        [-8.4835e-02, -7.3345e-01,  2.3842e-07],\n",
       "        [ 1.5632e-01,  8.0465e-01,  2.3842e-07],\n",
       "        [ 1.0533e-01, -7.9578e-01,  2.3842e-07],\n",
       "        [ 6.1637e-01,  2.6218e-01,  2.3842e-07],\n",
       "        [ 2.0448e-01,  3.4392e-01,  2.3842e-07],\n",
       "        [-3.6670e-01,  2.8471e-01,  2.3842e-07],\n",
       "        [-7.0692e-01, -6.3528e-01,  2.3842e-07],\n",
       "        [-6.2206e-01,  7.2587e-02,  2.3842e-07],\n",
       "        [ 5.3297e-01,  8.1012e-01,  2.3842e-07],\n",
       "        [ 9.2761e-01,  1.0354e-01,  2.3842e-07],\n",
       "        [-1.7967e-01,  3.3130e-01,  2.3842e-07],\n",
       "        [-4.8966e-01,  3.8234e-01,  2.3842e-07],\n",
       "        [ 1.5901e-01, -1.1208e-01,  2.3842e-07],\n",
       "        [-3.0538e-01,  7.6568e-01,  2.3842e-07],\n",
       "        [-3.1907e-01,  7.8499e-01,  2.3842e-07],\n",
       "        [-6.7604e-01, -5.4011e-01,  2.3842e-07],\n",
       "        [-3.0105e-01,  6.3942e-01,  2.3842e-07],\n",
       "        [-2.4614e-01, -3.8148e-01,  2.3842e-07],\n",
       "        [-5.0136e-01, -3.4755e-01,  2.3842e-07],\n",
       "        [-4.5195e-01,  8.1201e-01,  2.3842e-07],\n",
       "        [ 7.0541e-01,  3.8777e-01,  2.3842e-07],\n",
       "        [-8.2980e-01, -1.5514e-02,  2.3842e-07],\n",
       "        [-1.9308e-01, -3.9934e-02,  2.3842e-07],\n",
       "        [-5.3446e-01,  7.6089e-01,  2.3842e-07],\n",
       "        [ 2.6916e-01,  2.2959e-01,  2.3842e-07],\n",
       "        [ 2.2480e-01,  6.5062e-01,  2.3842e-07],\n",
       "        [-9.7573e-01, -8.9332e-02,  2.3842e-07],\n",
       "        [ 7.3850e-01,  5.9936e-01,  2.3842e-07],\n",
       "        [ 2.6700e-01, -2.3668e-01,  2.3842e-07],\n",
       "        [ 8.9404e-01, -1.2809e-01,  2.3842e-07],\n",
       "        [-5.0473e-01,  4.2472e-01,  2.3842e-07],\n",
       "        [-3.4842e-01,  3.6710e-01,  2.3842e-07],\n",
       "        [-6.0610e-01, -6.6865e-01,  2.3842e-07],\n",
       "        [ 5.1117e-01, -6.6881e-01,  2.3842e-07],\n",
       "        [ 3.6849e-01,  7.7294e-01,  2.3842e-07],\n",
       "        [-4.7296e-01,  7.0251e-01,  2.3842e-07],\n",
       "        [-3.2397e-01,  6.7329e-01,  2.3842e-07],\n",
       "        [-3.1020e-01,  2.3702e-01,  2.3842e-07],\n",
       "        [-6.5772e-01,  3.2695e-01,  2.3842e-07],\n",
       "        [-5.7364e-01,  3.6477e-02,  2.3842e-07],\n",
       "        [ 2.5043e-01, -3.1744e-01,  2.3842e-07],\n",
       "        [ 6.8951e-01,  1.9695e-01,  2.3842e-07],\n",
       "        [ 2.4190e-01,  5.9606e-01,  2.3842e-07],\n",
       "        [-5.0723e-01, -1.1172e-01,  2.3842e-07],\n",
       "        [-3.0970e-01,  1.2016e-04,  2.3842e-07],\n",
       "        [-5.6727e-01, -6.5857e-01,  2.3842e-07],\n",
       "        [-9.7304e-01,  8.6938e-02,  2.3842e-07],\n",
       "        [-5.0230e-01,  6.7714e-02,  2.3842e-07],\n",
       "        [ 2.8365e-01, -5.7805e-01,  2.3842e-07],\n",
       "        [-1.5985e-01, -7.2873e-01,  2.3842e-07],\n",
       "        [-6.1747e-01,  4.4816e-01,  2.3842e-07],\n",
       "        [-3.1697e-01,  3.1325e-01,  2.3842e-07],\n",
       "        [ 5.7744e-01, -5.2663e-01,  2.3842e-07],\n",
       "        [-2.8947e-01,  8.9461e-01,  2.3842e-07],\n",
       "        [ 4.3028e-02,  7.3770e-01,  2.3842e-07],\n",
       "        [-9.7316e-03, -5.2183e-02,  2.3842e-07],\n",
       "        [ 3.7882e-01, -6.2826e-02,  2.3842e-07],\n",
       "        [ 6.4696e-01,  3.3743e-01,  2.3842e-07],\n",
       "        [-4.3335e-01, -2.9472e-01,  2.3842e-07],\n",
       "        [ 1.3399e-01, -4.9874e-01,  2.3842e-07],\n",
       "        [ 2.0329e-01, -7.5136e-01,  2.3842e-07],\n",
       "        [-6.3739e-01,  4.0038e-01,  2.3842e-07],\n",
       "        [-5.7386e-01, -4.9186e-01,  2.3842e-07],\n",
       "        [ 1.2464e-01, -7.8384e-01,  2.3842e-07],\n",
       "        [-6.5614e-01, -5.0344e-01,  2.3842e-07],\n",
       "        [-2.3581e-01,  7.5570e-02,  2.3842e-07],\n",
       "        [-1.2457e-01, -6.9561e-01,  2.3842e-07],\n",
       "        [ 4.2104e-01, -1.3132e-01,  2.3842e-07],\n",
       "        [-2.1663e-01,  6.9789e-01,  2.3842e-07],\n",
       "        [-7.6544e-01,  5.0794e-01,  2.3842e-07],\n",
       "        [ 1.8968e-01,  8.5437e-01,  2.3842e-07],\n",
       "        [ 4.8304e-01,  7.9943e-01,  2.3842e-07],\n",
       "        [-3.1784e-01, -4.8648e-01,  2.3842e-07],\n",
       "        [ 5.5585e-01, -4.4311e-01,  2.3842e-07],\n",
       "        [-6.3898e-01, -4.3212e-01,  2.3842e-07],\n",
       "        [-2.8509e-01, -1.5881e-01,  2.3842e-07],\n",
       "        [-5.1512e-01, -7.5157e-01,  2.3842e-07],\n",
       "        [-5.9400e-01,  4.4940e-01,  2.3842e-07],\n",
       "        [ 6.0632e-01, -6.8848e-01,  2.3842e-07],\n",
       "        [ 4.2019e-01,  2.7351e-01,  2.3842e-07],\n",
       "        [ 6.4388e-01, -5.3566e-02,  2.3842e-07],\n",
       "        [ 3.2019e-01, -3.5110e-02,  2.3842e-07],\n",
       "        [-2.1417e-01, -2.3107e-02,  2.3842e-07],\n",
       "        [-7.6317e-01, -2.7078e-01,  2.3842e-07],\n",
       "        [ 4.8672e-03, -1.3291e-01,  2.3842e-07],\n",
       "        [-1.0400e-01, -4.5499e-01,  2.3842e-07],\n",
       "        [-8.5704e-02, -3.1268e-01,  2.3842e-07],\n",
       "        [-9.1420e-01,  2.5408e-02,  2.3842e-07],\n",
       "        [ 1.5024e-01,  5.9058e-01,  2.3842e-07],\n",
       "        [-8.4279e-01,  3.7513e-01,  2.3842e-07],\n",
       "        [-4.3724e-01, -1.9557e-01,  2.3842e-07],\n",
       "        [-7.7336e-02, -8.0677e-02,  2.3842e-07],\n",
       "        [ 3.8157e-02,  6.7652e-01,  2.3842e-07],\n",
       "        [-6.3524e-01,  4.2138e-01,  2.3842e-07],\n",
       "        [ 3.3452e-01,  8.7373e-01,  2.3842e-07],\n",
       "        [-3.8485e-01, -4.9210e-01,  2.3842e-07],\n",
       "        [-3.1034e-01,  8.9341e-01,  2.3842e-07],\n",
       "        [ 5.0517e-02, -2.4216e-01,  2.3842e-07],\n",
       "        [ 2.6553e-02,  5.8513e-01,  2.3842e-07],\n",
       "        [-6.3088e-01,  7.1619e-01,  2.3842e-07],\n",
       "        [-6.5326e-01, -4.0401e-01,  2.3842e-07],\n",
       "        [-4.6909e-01,  2.0618e-01,  2.3842e-07],\n",
       "        [ 5.9732e-01,  6.8452e-01,  2.3842e-07],\n",
       "        [ 8.7174e-01,  2.0036e-02,  2.3842e-07],\n",
       "        [-7.7478e-01,  1.2982e-01,  2.3842e-07],\n",
       "        [-6.0633e-01, -1.6176e-01,  2.3842e-07],\n",
       "        [ 8.2100e-01,  3.7226e-01,  2.3842e-07],\n",
       "        [ 9.1908e-02,  5.6015e-03,  2.3842e-07],\n",
       "        [-4.0189e-01, -4.4645e-01,  2.3842e-07],\n",
       "        [ 2.7114e-01,  9.5549e-02,  2.3842e-07],\n",
       "        [-8.8424e-01, -4.5290e-01,  2.3842e-07],\n",
       "        [-5.9823e-01,  1.8289e-02,  2.3842e-07],\n",
       "        [-8.2468e-02, -2.0390e-01,  2.3842e-07],\n",
       "        [ 2.8122e-01, -6.2464e-01,  2.3842e-07],\n",
       "        [ 7.9839e-01,  1.6359e-01,  2.3842e-07],\n",
       "        [ 8.7089e-01, -1.7818e-01,  2.3842e-07],\n",
       "        [-4.5366e-01,  1.8259e-01,  2.3842e-07],\n",
       "        [ 2.3266e-01,  7.4049e-01,  2.3842e-07],\n",
       "        [ 7.0082e-01, -3.7282e-01,  2.3842e-07],\n",
       "        [-1.9964e-01, -4.7497e-02,  2.3842e-07],\n",
       "        [ 2.8925e-01, -2.3971e-01,  2.3842e-07],\n",
       "        [ 1.2464e-01, -9.4961e-01,  2.3842e-07],\n",
       "        [-5.5404e-01,  2.9290e-01,  2.3842e-07],\n",
       "        [ 1.3129e-01,  1.1117e-01,  2.3842e-07],\n",
       "        [-7.4880e-01, -1.2524e-01,  2.3842e-07],\n",
       "        [-2.7614e-01,  3.0950e-01,  2.3842e-07],\n",
       "        [ 1.4597e-01,  7.8263e-03,  2.3842e-07],\n",
       "        [ 4.6461e-01, -6.9740e-01,  2.3842e-07],\n",
       "        [-6.0303e-02, -7.0519e-01,  2.3842e-07],\n",
       "        [-9.3058e-01, -8.7437e-02,  2.3842e-07],\n",
       "        [-5.3043e-01,  3.4199e-01,  2.3842e-07],\n",
       "        [ 2.6663e-01,  6.6712e-02,  2.3842e-07],\n",
       "        [-5.2112e-01, -1.4460e-01,  2.3842e-07],\n",
       "        [-9.1329e-01,  8.0257e-02,  2.3842e-07],\n",
       "        [-6.0655e-01,  4.1839e-01,  2.3842e-07],\n",
       "        [ 1.4195e-01,  5.4118e-01,  2.3842e-07]])"
      ]
     },
     "execution_count": 27,
     "metadata": {},
     "output_type": "execute_result"
    }
   ],
   "execution_count": 27
  },
  {
   "metadata": {
    "ExecuteTime": {
     "end_time": "2024-09-21T14:39:39.855056Z",
     "start_time": "2024-09-21T14:39:39.746414Z"
    }
   },
   "cell_type": "code",
   "source": "plt.scatter(data['pos'][:, 0], data['pos'][:, 1])",
   "id": "91bd254b83cb44bc",
   "outputs": [
    {
     "data": {
      "text/plain": [
       "<matplotlib.collections.PathCollection at 0x2c862d7a4d0>"
      ]
     },
     "execution_count": 28,
     "metadata": {},
     "output_type": "execute_result"
    },
    {
     "data": {
      "text/plain": [
       "<Figure size 640x480 with 1 Axes>"
      ],
      "image/png": "[encoded data removed]"
     },
     "metadata": {},
     "output_type": "display_data"
    }
   ],
   "execution_count": 28
  },
  {
   "metadata": {
    "ExecuteTime": {
     "end_time": "2024-09-21T14:39:43.815142Z",
     "start_time": "2024-09-21T14:39:43.799220Z"
    }
   },
   "cell_type": "code",
   "source": [
    "from torch_geometric.transforms import SamplePoints, KNNGraph\n",
    "\n",
    "dataset.transform = T.Compose([SamplePoints(num=256), KNNGraph(k=6)])\n",
    "\n",
    "data = dataset[0]\n",
    "print(data)"
   ],
   "id": "2155023573976cd7",
   "outputs": [
    {
     "name": "stdout",
     "output_type": "stream",
     "text": [
      "Data(pos=[256, 3], y=[1], edge_index=[2, 1536])\n"
     ]
    }
   ],
   "execution_count": 29
  },
  {
   "metadata": {
    "ExecuteTime": {
     "end_time": "2024-09-21T14:40:15.101471Z",
     "start_time": "2024-09-21T14:40:14.380003Z"
    }
   },
   "cell_type": "code",
   "source": "visualize_points(data.pos, edge_index=data.edge_index)",
   "id": "bfdfeb0c6d37fb9a",
   "outputs": [
    {
     "data": {
      "text/plain": [
       "<Figure size 400x400 with 1 Axes>"
      ],
      "image/png": "[encoded data removed]"
     },
     "metadata": {},
     "output_type": "display_data"
    }
   ],
   "execution_count": 30
  },
  {
   "metadata": {
    "ExecuteTime": {
     "end_time": "2024-09-21T14:41:20.264111Z",
     "start_time": "2024-09-21T14:41:20.256335Z"
    }
   },
   "cell_type": "code",
   "source": [
    "from torch.nn import Sequential, Linear, ReLU\n",
    "from torch_geometric.nn import MessagePassing\n",
    "\n",
    "\n",
    "class PointNetLayer(MessagePassing):\n",
    "    def __init__(self, in_channels, out_channels):\n",
    "        # Message passing with \"max\" aggregation.\n",
    "        super().__init__(aggr='max')\n",
    "\n",
    "        # Initialization of the MLP:\n",
    "        # Here, the number of input features correspond to the hidden node\n",
    "        # dimensionality plus point dimensionality (=3).\n",
    "        self.mlp = Sequential(Linear(in_channels + 3, out_channels),\n",
    "                              ReLU(),\n",
    "                              Linear(out_channels, out_channels))\n",
    "\n",
    "    def forward(self, h, pos, edge_index):\n",
    "        # Start propagating messages.\n",
    "        return self.propagate(edge_index, h=h, pos=pos)\n",
    "\n",
    "    def message(self, h_j, pos_j, pos_i):\n",
    "        # h_j defines the features of neighboring nodes as shape [num_edges, in_channels]\n",
    "        # pos_j defines the position of neighboring nodes as shape [num_edges, 3]\n",
    "        # pos_i defines the position of central nodes as shape [num_edges, 3]\n",
    "\n",
    "        input = pos_j - pos_i  # Compute spatial relation.\n",
    "\n",
    "        if h_j is not None:\n",
    "            # In the first layer, we may not have any hidden node features,\n",
    "            # so we only combine them in case they are present.\n",
    "            input = torch.cat([h_j, input], dim=-1)\n",
    "\n",
    "        return self.mlp(input)  # Apply our final MLP."
   ],
   "id": "4bfc77c6a9b04202",
   "outputs": [],
   "execution_count": 32
  },
  {
   "metadata": {
    "ExecuteTime": {
     "end_time": "2024-09-21T14:42:58.522373Z",
     "start_time": "2024-09-21T14:42:58.462290Z"
    }
   },
   "cell_type": "code",
   "source": [
    "import torch\n",
    "import torch.nn.functional as F\n",
    "from torch_cluster import knn_graph\n",
    "from torch_geometric.nn import global_max_pool\n",
    "\n",
    "\n",
    "class PointNet(torch.nn.Module):\n",
    "    def __init__(self):\n",
    "        super().__init__()\n",
    "\n",
    "        torch.manual_seed(12345)\n",
    "        self.conv1 = PointNetLayer(3, 32)\n",
    "        self.conv2 = PointNetLayer(32, 32)\n",
    "        self.classifier = Linear(32, dataset.num_classes)\n",
    "\n",
    "    def forward(self, pos, batch):\n",
    "        # Compute the kNN graph:\n",
    "        # Here, we need to pass the batch vector to the function call in order\n",
    "        # to prevent creating edges between points of different examples.\n",
    "        # We also add `loop=True` which will add self-loops to the graph in\n",
    "        # order to preserve central point information.\n",
    "        edge_index = knn_graph(pos, k=16, batch=batch, loop=True)\n",
    "\n",
    "        # 3. Start bipartite message passing.\n",
    "        h = self.conv1(h=pos, pos=pos, edge_index=edge_index)\n",
    "        h = h.relu()\n",
    "        h = self.conv2(h=h, pos=pos, edge_index=edge_index)\n",
    "        h = h.relu()\n",
    "\n",
    "        # 4. Global Pooling.\n",
    "        h = global_max_pool(h, batch)  # [num_examples, hidden_channels]\n",
    "\n",
    "        # 5. Classifier.\n",
    "        return self.classifier(h)\n",
    "\n",
    "\n",
    "model = PointNet()\n",
    "print(model)"
   ],
   "id": "59b00ecb41bf6027",
   "outputs": [
    {
     "name": "stdout",
     "output_type": "stream",
     "text": [
      "PointNet(\n",
      "  (conv1): PointNetLayer()\n",
      "  (conv2): PointNetLayer()\n",
      "  (classifier): Linear(in_features=32, out_features=40, bias=True)\n",
      ")\n"
     ]
    }
   ],
   "execution_count": 33
  },
  {
   "metadata": {},
   "cell_type": "markdown",
   "source": "**Important** the model does not generalize between different rotations applied to the input point cloud, because we train it on $p_j - p_i$",
   "id": "c70ea41af7a72a18"
  },
  {
   "metadata": {
    "ExecuteTime": {
     "end_time": "2024-09-21T14:44:51.937603Z",
     "start_time": "2024-09-21T14:44:43.251326Z"
    }
   },
   "cell_type": "code",
   "source": [
    "from IPython.display import Javascript  # Restrict height of output cell.\n",
    "display(Javascript('''google.colab.output.setIframeHeight(0, true, {maxHeight: 300})'''))\n",
    "\n",
    "from torch_geometric.loader import DataLoader\n",
    "\n",
    "train_dataset = GeometricShapes(root='data/GeometricShapes', train=True,\n",
    "                                transform=SamplePoints(128))\n",
    "test_dataset = GeometricShapes(root='data/GeometricShapes', train=False,\n",
    "                               transform=SamplePoints(128))\n",
    "\n",
    "\n",
    "train_loader = DataLoader(train_dataset, batch_size=10, shuffle=True)\n",
    "test_loader = DataLoader(test_dataset, batch_size=10)\n",
    "\n",
    "model = PointNet()\n",
    "optimizer = torch.optim.Adam(model.parameters(), lr=0.01)\n",
    "criterion = torch.nn.CrossEntropyLoss()  # Define loss criterion.\n",
    "\n",
    "def train(model, optimizer, loader):\n",
    "    model.train()\n",
    "\n",
    "    total_loss = 0\n",
    "    for data in loader:\n",
    "        optimizer.zero_grad()  # Clear gradients.\n",
    "        logits = model(data.pos, data.batch)  # Forward pass.\n",
    "        loss = criterion(logits, data.y)  # Loss computation.\n",
    "        loss.backward()  # Backward pass.\n",
    "        optimizer.step()  # Update model parameters.\n",
    "        total_loss += loss.item() * data.num_graphs\n",
    "\n",
    "    return total_loss / len(train_loader.dataset)\n",
    "\n",
    "\n",
    "@torch.no_grad()\n",
    "def test(model, loader):\n",
    "    model.eval()\n",
    "\n",
    "    total_correct = 0\n",
    "    for data in loader:\n",
    "        logits = model(data.pos, data.batch)\n",
    "        pred = logits.argmax(dim=-1)\n",
    "        total_correct += int((pred == data.y).sum())\n",
    "\n",
    "    return total_correct / len(loader.dataset)\n",
    "\n",
    "for epoch in range(1, 51):\n",
    "    loss = train(model, optimizer, train_loader)\n",
    "    test_acc = test(model, test_loader)\n",
    "    print(f'Epoch: {epoch:02d}, Loss: {loss:.4f}, Test Accuracy: {test_acc:.4f}')"
   ],
   "id": "ac8d6eab67efb2c2",
   "outputs": [
    {
     "data": {
      "text/plain": [
       "<IPython.core.display.Javascript object>"
      ],
      "application/javascript": "google.colab.output.setIframeHeight(0, true, {maxHeight: 300})"
     },
     "metadata": {},
     "output_type": "display_data"
    },
    {
     "name": "stderr",
     "output_type": "stream",
     "text": [
      "Downloading https://github.com/Yannick-S/geometric_shapes/raw/master/raw.zip\n",
      "Extracting data\\GeometricShapes\\raw.zip\n",
      "Processing...\n",
      "Done!\n"
     ]
    },
    {
     "name": "stdout",
     "output_type": "stream",
     "text": [
      "Epoch: 01, Loss: 3.7549, Test Accuracy: 0.0500\n",
      "Epoch: 02, Loss: 3.7011, Test Accuracy: 0.0250\n",
      "Epoch: 03, Loss: 3.6830, Test Accuracy: 0.0250\n",
      "Epoch: 04, Loss: 3.6705, Test Accuracy: 0.0250\n",
      "Epoch: 05, Loss: 3.6338, Test Accuracy: 0.0250\n",
      "Epoch: 06, Loss: 3.5937, Test Accuracy: 0.0250\n",
      "Epoch: 07, Loss: 3.5599, Test Accuracy: 0.0250\n",
      "Epoch: 08, Loss: 3.4820, Test Accuracy: 0.0500\n",
      "Epoch: 09, Loss: 3.4096, Test Accuracy: 0.0500\n",
      "Epoch: 10, Loss: 3.3637, Test Accuracy: 0.0500\n",
      "Epoch: 11, Loss: 3.2883, Test Accuracy: 0.0750\n",
      "Epoch: 12, Loss: 3.2181, Test Accuracy: 0.1000\n",
      "Epoch: 13, Loss: 3.1262, Test Accuracy: 0.1500\n",
      "Epoch: 14, Loss: 3.0487, Test Accuracy: 0.1750\n",
      "Epoch: 15, Loss: 2.9215, Test Accuracy: 0.1750\n",
      "Epoch: 16, Loss: 2.8040, Test Accuracy: 0.2000\n",
      "Epoch: 17, Loss: 2.6926, Test Accuracy: 0.3500\n",
      "Epoch: 18, Loss: 2.5240, Test Accuracy: 0.3000\n",
      "Epoch: 19, Loss: 2.4093, Test Accuracy: 0.4500\n",
      "Epoch: 20, Loss: 2.1839, Test Accuracy: 0.2750\n",
      "Epoch: 21, Loss: 2.1728, Test Accuracy: 0.4000\n",
      "Epoch: 22, Loss: 2.1037, Test Accuracy: 0.4250\n",
      "Epoch: 23, Loss: 1.8245, Test Accuracy: 0.4250\n",
      "Epoch: 24, Loss: 1.7623, Test Accuracy: 0.5500\n",
      "Epoch: 25, Loss: 1.7429, Test Accuracy: 0.5250\n",
      "Epoch: 26, Loss: 1.4889, Test Accuracy: 0.5750\n",
      "Epoch: 27, Loss: 1.5278, Test Accuracy: 0.6000\n",
      "Epoch: 28, Loss: 1.3781, Test Accuracy: 0.6000\n",
      "Epoch: 29, Loss: 1.4288, Test Accuracy: 0.6500\n",
      "Epoch: 30, Loss: 1.3686, Test Accuracy: 0.6250\n",
      "Epoch: 31, Loss: 1.2607, Test Accuracy: 0.6500\n",
      "Epoch: 32, Loss: 1.2873, Test Accuracy: 0.7000\n",
      "Epoch: 33, Loss: 1.3431, Test Accuracy: 0.6500\n",
      "Epoch: 34, Loss: 1.2407, Test Accuracy: 0.7000\n",
      "Epoch: 35, Loss: 1.3425, Test Accuracy: 0.7000\n",
      "Epoch: 36, Loss: 1.4628, Test Accuracy: 0.5250\n",
      "Epoch: 37, Loss: 1.3222, Test Accuracy: 0.6250\n",
      "Epoch: 38, Loss: 1.3057, Test Accuracy: 0.6500\n",
      "Epoch: 39, Loss: 1.4227, Test Accuracy: 0.7000\n",
      "Epoch: 40, Loss: 1.2398, Test Accuracy: 0.7000\n",
      "Epoch: 41, Loss: 1.1041, Test Accuracy: 0.6750\n",
      "Epoch: 42, Loss: 0.9373, Test Accuracy: 0.6000\n",
      "Epoch: 43, Loss: 0.9315, Test Accuracy: 0.7250\n",
      "Epoch: 44, Loss: 0.9023, Test Accuracy: 0.7750\n",
      "Epoch: 45, Loss: 0.9848, Test Accuracy: 0.7250\n",
      "Epoch: 46, Loss: 0.8964, Test Accuracy: 0.7500\n",
      "Epoch: 47, Loss: 0.8930, Test Accuracy: 0.7250\n",
      "Epoch: 48, Loss: 0.8569, Test Accuracy: 0.7750\n",
      "Epoch: 49, Loss: 1.0568, Test Accuracy: 0.8000\n",
      "Epoch: 50, Loss: 0.7895, Test Accuracy: 0.8500\n"
     ]
    }
   ],
   "execution_count": 34
  }
 ],
 "metadata": {
  "kernelspec": {
   "display_name": "Python 3",
   "language": "python",
   "name": "python3"
  },
  "language_info": {
   "codemirror_mode": {
    "name": "ipython",
    "version": 2
   },
   "file_extension": ".py",
   "mimetype": "text/x-python",
   "name": "python",
   "nbconvert_exporter": "python",
   "pygments_lexer": "ipython2",
   "version": "2.7.6"
  }
 },
 "nbformat": 4,
 "nbformat_minor": 5
}
